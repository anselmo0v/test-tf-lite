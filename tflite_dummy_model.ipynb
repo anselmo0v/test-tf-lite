{
  "nbformat": 4,
  "nbformat_minor": 0,
  "metadata": {
    "colab": {
      "provenance": []
    },
    "kernelspec": {
      "name": "python3",
      "display_name": "Python 3"
    },
    "language_info": {
      "name": "python"
    }
  },
  "cells": [
    {
      "cell_type": "code",
      "source": [
        "import tensorflow as tf\n",
        "\n",
        "class CppTfTest(tf.Module):\n",
        "\n",
        "    def __init__(self, name=None):\n",
        "        super().__init__(name=name)\n",
        "\n",
        "    @tf.function(input_signature=[\n",
        "        tf.TensorSpec(shape=[None, None], dtype=tf.float32),\n",
        "        ])\n",
        "    def call(self, input):\n",
        "\n",
        "        frames = tf.range(600, dtype=tf.float32)\n",
        "\n",
        "        bpm = tf.random.uniform(\n",
        "            tf.TensorShape([600,]),\n",
        "            minval=0,\n",
        "            maxval=90,\n",
        "            dtype=tf.dtypes.float32\n",
        "            )\n",
        "\n",
        "        output = tf.concat(([frames], [bpm]), axis=0)\n",
        "\n",
        "        return output"
      ],
      "metadata": {
        "id": "w_H5ROAUnm4E"
      },
      "execution_count": null,
      "outputs": []
    },
    {
      "cell_type": "code",
      "source": [
        "cpp_tf_test = CppTfTest()\n",
        "tf.saved_model.save(\n",
        "    cpp_tf_test,\n",
        "    'cpp_tf_test',\n",
        "    signatures=cpp_tf_test.call.get_concrete_function()\n",
        "    )"
      ],
      "metadata": {
        "id": "UXpMOFuhw7E8"
      },
      "execution_count": null,
      "outputs": []
    },
    {
      "cell_type": "code",
      "source": [
        "converter = tf.lite.TFLiteConverter.from_saved_model('cpp_tf_test')\n",
        "converter.target_spec.supported_ops = [\n",
        "  tf.lite.OpsSet.TFLITE_BUILTINS, # enable TensorFlow Lite ops.\n",
        "  tf.lite.OpsSet.SELECT_TF_OPS # enable TensorFlow ops.\n",
        "]\n",
        "\n",
        "tflite_model = converter.convert()\n",
        "\n",
        "with open('cpp_tf_test.tflite', 'wb') as f:\n",
        "  f.write(tflite_model)\n",
        "  f.close()\n"
      ],
      "metadata": {
        "id": "c_7eZPqdynxa"
      },
      "execution_count": null,
      "outputs": []
    },
    {
      "cell_type": "code",
      "source": [
        "interpreter = tf.lite.Interpreter('cpp_tf_test.tflite')\n",
        "#my_signature = interpreter.get_signature_runner()\n",
        "interpreter.allocate_tensors()"
      ],
      "metadata": {
        "id": "Pakt1fbbhQC5"
      },
      "execution_count": null,
      "outputs": []
    },
    {
      "cell_type": "code",
      "source": [
        "interpreter.invoke()"
      ],
      "metadata": {
        "id": "YwhQEA_miJIc"
      },
      "execution_count": null,
      "outputs": []
    }
  ]
}