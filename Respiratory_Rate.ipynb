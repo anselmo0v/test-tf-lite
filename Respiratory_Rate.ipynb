{
  "nbformat": 4,
  "nbformat_minor": 0,
  "metadata": {
    "colab": {
      "provenance": []
    },
    "kernelspec": {
      "name": "python3",
      "display_name": "Python 3"
    },
    "language_info": {
      "name": "python"
    }
  },
  "cells": [
    {
      "cell_type": "code",
      "execution_count": null,
      "metadata": {
        "id": "hCoFiuG6Vdz0"
      },
      "outputs": [],
      "source": [
        "import math\n",
        "import numpy as np\n",
        "from scipy import signal\n",
        "from scipy.fftpack import fft\n",
        "from skimage.util import view_as_windows\n",
        "from sklearn.decomposition import PCA\n",
        "\n",
        "\n",
        "# Estimation of Slow and Diff matrix\n",
        "# ======================================================================\n",
        "def diff_matrix_estimation2(fast, frames_per_second):\n",
        "    avTimeSec = 2\n",
        "\n",
        "    factor = 1 - math.exp((-1/frames_per_second) / avTimeSec)\n",
        "    newSlow = fast[0].reshape((1,10))\n",
        "    vAvMag = 10**(newSlow/20)\n",
        "\n",
        "    for f in range(0,fast.shape[0]):\n",
        "        vMag = 10**(fast[f]/20)\n",
        "        vAvMag = np.multiply(vMag,factor) + np.multiply(vAvMag,(1 - factor))\n",
        "        vAvdB = 20*np.log10(vAvMag)\n",
        "        if f == 0:\n",
        "            newSlow = vAvdB\n",
        "        else:\n",
        "            newSlow = np.concatenate((newSlow, vAvdB))\n",
        "\n",
        "    newDiff = fast - newSlow\n",
        "\n",
        "    return newDiff\n",
        "\n",
        "\n",
        "def zcr(x, y):\n",
        "    \"\"\"@brief zero crossing detector\"\"\"\n",
        "    return x[np.diff(np.sign(y)) != 0]\n",
        "\n",
        "\n",
        "def window_and_pca2(diff_matrix, zc1 = 0, zc2 = 0, n = 20):\n",
        "    # n = 20 -> 30frames\n",
        "    while (zc1 < 3 or zc2 < 3) and (n > 0):\n",
        "        s = diff_matrix.shape[0]//n\n",
        "        step = 1\n",
        "\n",
        "        wind0 = view_as_windows(diff_matrix, (s, 1), step=(step,1))\n",
        "        diff_matrix_reshape = wind0.reshape((wind0.shape[0]*10, s))\n",
        "        # PCA\n",
        "        pca = PCA()\n",
        "        pca.fit(diff_matrix_reshape)\n",
        "\n",
        "        pc1 = signal.detrend(pca.components_[0], type='constant')\n",
        "        x = np.linspace(0,s-1,s-1)\n",
        "        zc1 = len(zcr(x, pc1))\n",
        "        zc2 = len(zcr(x, pc1))\n",
        "        n -= 5\n",
        "    return pca, s, diff_matrix_reshape\n",
        "\n",
        "\n",
        "def freq_per_pc2(pca, window, delta_time, diff_matrix, diff_matrix_reshape):\n",
        "    # Get frequency per PC\n",
        "    freq_pc = []\n",
        "    for k in range(pca.n_components_):\n",
        "        # FFT for each PC\n",
        "        N = window*16\n",
        "        pc = signal.detrend(pca.components_[k], type='constant')\n",
        "        yf = fft(pc, N)\n",
        "        freq = np.linspace(0.0, 1.0/(2.0*delta_time), N//2)\n",
        "        PSD = 2.0/N * np.abs(yf[:N//2])\n",
        "\n",
        "        peaks, _ = signal.find_peaks(PSD)\n",
        "        freq_fn = freq[peaks]*60\n",
        "\n",
        "        ener_max = max(PSD[peaks])\n",
        "        freq_max = freq_fn[np.where(PSD[peaks]== ener_max)[0][0]]\n",
        "\n",
        "        item_in_freq_fn = set(freq_fn)\n",
        "\n",
        "        # Get harmonic indices\n",
        "        indh = []\n",
        "        for x in freq_fn:\n",
        "            harm = 10\n",
        "            harms = []\n",
        "            count1 = 2\n",
        "            count2 = 2\n",
        "            while harm < 150:\n",
        "                if harm < 2:\n",
        "                    harm = x * count2\n",
        "                    count2 += 1\n",
        "                    harms.append(harm)\n",
        "                else:\n",
        "                    harm = x / count1\n",
        "                    count1 += 1\n",
        "                    harms.append(harm)\n",
        "            count3 = 0\n",
        "            indf = []\n",
        "            if x in item_in_freq_fn:\n",
        "                if round(x,2) in list(map(lambda x: round(x,2), harms)):\n",
        "                    indf.append(count3)\n",
        "                count3 += 1\n",
        "            indh.append(indf)\n",
        "\n",
        "        #Add harmonic energy\n",
        "        all_ener_sum = []\n",
        "        for ih in range(len(indh)):\n",
        "            if len(indh[ih]) != 0:\n",
        "                ener_sum = np.sqrt(sum(np.array(list(np.array(PSD[peaks].tolist())[indh[ih]]))**2))\n",
        "            else:\n",
        "                ener_sum = 0\n",
        "            all_ener_sum.append(ener_sum)\n",
        "        if max(all_ener_sum) > ener_max and k > 3:\n",
        "            new_f = freq_fn[min(indh[all_ener_sum.index(max(all_ener_sum))])]\n",
        "            freq_max = new_f\n",
        "        freq_pc.append(round(freq_max, 3))\n",
        "    #frequencies\n",
        "    freq_pc = np.array(freq_pc)\n",
        "    scores = pca.fit_transform(diff_matrix_reshape)\n",
        "\n",
        "    arr_freq = (np.argsort(np.abs(scores)))[:,-1]\n",
        "    arr_freq = freq_pc[arr_freq]\n",
        "    arr_freq = arr_freq.reshape((arr_freq.shape[0]//10, 10))\n",
        "    for _ in range(diff_matrix.shape[0]-arr_freq.shape[0]):\n",
        "        arr_freq = np.concatenate((arr_freq, arr_freq[-1,:].reshape((1,10))))\n",
        "\n",
        "    return arr_freq, window\n",
        "\n",
        "\n",
        "def trus_metric_curve():\n",
        "    tm_values = np.linspace(0, 70, 33)\n",
        "    tm_values = np.concatenate((tm_values, np.linspace(71, 100, 67)))\n",
        "\n",
        "    return tm_values\n",
        "\n",
        "\n",
        "def bpm_compute2(window, arr_freq):\n",
        "    frames = np.linspace(0,arr_freq.shape[0],arr_freq.shape[0]).tolist()\n",
        "    bpm = []\n",
        "    trust_perc = []\n",
        "\n",
        "    tm_values = trus_metric_curve()\n",
        "\n",
        "    for j in range(1,window):\n",
        "        band = 0\n",
        "        a = arr_freq[:j, band]\n",
        "        unique, counts = np.unique(a, return_counts=True)\n",
        "        dict1 = dict(zip(unique, counts))\n",
        "\n",
        "        for band in range(1,10):\n",
        "            a = arr_freq[:j, band]\n",
        "            unique, counts = np.unique(a, return_counts=True)\n",
        "            dict2 = dict(zip(unique, counts))\n",
        "            result = {\n",
        "                key: dict1.get(key, 0) + dict2.get(key, 0) for key in set(dict1) | set(dict2)\n",
        "            }\n",
        "            dict1 = result\n",
        "\n",
        "        freq_total = max(result, key=result.get)\n",
        "        perc_ini = (result[freq_total]/(j*10))*100\n",
        "        perc = tm_values[round(perc_ini)-1]\n",
        "\n",
        "        bpm.append(freq_total)\n",
        "        trust_perc.append(perc)\n",
        "\n",
        "    for l in range(arr_freq.shape[0]-window+1):\n",
        "        band = 0\n",
        "        a = arr_freq[l:l+window, band]\n",
        "        unique, counts = np.unique(a, return_counts=True)\n",
        "        dict1 = dict(zip(unique, counts))\n",
        "\n",
        "        for band in range(1,10):\n",
        "            a = arr_freq[l:l+window, band]\n",
        "            unique, counts = np.unique(a, return_counts=True)\n",
        "            dict2 = dict(zip(unique, counts))\n",
        "            result = {\n",
        "                key: dict1.get(key, 0) + dict2.get(key, 0) for key in set(dict1) | set(dict2)\n",
        "            }\n",
        "            dict1 = result\n",
        "\n",
        "        freq_total = max(result, key=result.get)\n",
        "        perc_ini = (result[freq_total]/(window*10))*100\n",
        "        perc = tm_values[round(perc_ini)-1]\n",
        "\n",
        "        bpm.append(freq_total)\n",
        "        trust_perc.append(perc)\n",
        "\n",
        "    return bpm, frames, trust_perc\n",
        "\n",
        "\n",
        "##------------------------------------------------------------------------------\n",
        "def python_main(matrix, frames_per_second):\n",
        "    delta_time = 1 / frames_per_second\n",
        "\n",
        "    ### Compute Respiratory Rate\n",
        "    ## Compute difference matrix\n",
        "    diff_matrix = diff_matrix_estimation2(matrix, frames_per_second)\n",
        "    ## Get pca, window size, and diff matrix with new shape\n",
        "    pca, window, diff_matrix_reshape = window_and_pca2(diff_matrix, zc1 = 0, zc2 = 0, n = 20)\n",
        "    ## Get frequencies array and window size\n",
        "    arr_freq, window = freq_per_pc2(pca, window, delta_time, diff_matrix, diff_matrix_reshape)\n",
        "    ## Get bpm, frames, and confidence percentage\n",
        "    bpm, frames, trust_perc = bpm_compute2(window, arr_freq)\n",
        "\n",
        "    return bpm, frames, trust_perc\n"
      ]
    },
    {
      "cell_type": "markdown",
      "source": [
        "# Tensorflow -----------------------------------------------------------------------------------------"
      ],
      "metadata": {
        "id": "pqzThcPcVnyw"
      }
    },
    {
      "cell_type": "code",
      "source": [
        "tf.experimental.numpy.diff(tf.math.sign([-5, 5]))"
      ],
      "metadata": {
        "colab": {
          "base_uri": "https://localhost:8080/"
        },
        "id": "6rEX2wXMYu78",
        "outputId": "f78b277e-a7ee-4ddf-d28d-740620471562"
      },
      "execution_count": null,
      "outputs": [
        {
          "output_type": "execute_result",
          "data": {
            "text/plain": [
              "<tf.Tensor: shape=(1,), dtype=int32, numpy=array([2], dtype=int32)>"
            ]
          },
          "metadata": {},
          "execution_count": 66
        }
      ]
    },
    {
      "cell_type": "code",
      "source": [
        "tf.get_static_value(tf.experimental.numpy.diff(tf.math.sign([-5, 5])))"
      ],
      "metadata": {
        "colab": {
          "base_uri": "https://localhost:8080/"
        },
        "id": "cWMQ8Hlb5ODF",
        "outputId": "7c999cda-895e-4ce7-b05c-282b3b6bb7ea"
      },
      "execution_count": null,
      "outputs": [
        {
          "output_type": "execute_result",
          "data": {
            "text/plain": [
              "array([2], dtype=int32)"
            ]
          },
          "metadata": {},
          "execution_count": 65
        }
      ]
    },
    {
      "cell_type": "code",
      "source": [
        "import numpy as np\n",
        "import tensorflow as tf"
      ],
      "metadata": {
        "id": "-vsZAuxj84t9"
      },
      "execution_count": null,
      "outputs": []
    },
    {
      "cell_type": "code",
      "source": [
        "len((600//tf.Variable(20, trainable=False, dtype=tf.float64), 1))"
      ],
      "metadata": {
        "colab": {
          "base_uri": "https://localhost:8080/"
        },
        "id": "IRBG7poN88kc",
        "outputId": "4e686ac0-5fb5-4808-b592-2776e81c9eab"
      },
      "execution_count": null,
      "outputs": [
        {
          "output_type": "execute_result",
          "data": {
            "text/plain": [
              "2"
            ]
          },
          "metadata": {},
          "execution_count": 39
        }
      ]
    },
    {
      "cell_type": "code",
      "source": [
        "g=tf.constant([[2,7,6,8], [3,4,9,3], [3,4,0,2]], dtype=tf.float64)\n",
        "h=tf.constant([[2,3,2,7,0], [4,8,3,1,0], [4,2,7,9,4], [4,9,4,8,3], [9,3,8,3,1]], dtype=tf.float64)"
      ],
      "metadata": {
        "id": "ESk0swomiU8L"
      },
      "execution_count": null,
      "outputs": []
    },
    {
      "cell_type": "code",
      "source": [
        "h[0:g, 1]"
      ],
      "metadata": {
        "colab": {
          "base_uri": "https://localhost:8080/"
        },
        "id": "0rNWQo7Bkfg-",
        "outputId": "04337fa7-8251-4405-edb1-c191dc4c185d"
      },
      "execution_count": null,
      "outputs": [
        {
          "output_type": "execute_result",
          "data": {
            "text/plain": [
              "<tf.Tensor: shape=(2,), dtype=int32, numpy=array([3, 4], dtype=int32)>"
            ]
          },
          "metadata": {},
          "execution_count": 138
        }
      ]
    },
    {
      "cell_type": "code",
      "source": [
        "h[0:2, 0]"
      ],
      "metadata": {
        "colab": {
          "base_uri": "https://localhost:8080/"
        },
        "id": "v0diplu7ZjMj",
        "outputId": "ec5cb9ef-f260-4933-9dde-86f133b6c8ad"
      },
      "execution_count": null,
      "outputs": [
        {
          "output_type": "execute_result",
          "data": {
            "text/plain": [
              "<tf.Tensor: shape=(2,), dtype=int32, numpy=array([2, 4], dtype=int32)>"
            ]
          },
          "metadata": {},
          "execution_count": 129
        }
      ]
    },
    {
      "cell_type": "code",
      "source": [
        "s = 600//tf.Variable(20, trainable=False, dtype=tf.float64)\n",
        "s"
      ],
      "metadata": {
        "colab": {
          "base_uri": "https://localhost:8080/"
        },
        "id": "YrxS2aI64VYH",
        "outputId": "8b67662c-e32a-4a60-ef30-e3bb94c89db1"
      },
      "execution_count": null,
      "outputs": [
        {
          "output_type": "execute_result",
          "data": {
            "text/plain": [
              "<tf.Tensor: shape=(), dtype=float64, numpy=30.0>"
            ]
          },
          "metadata": {},
          "execution_count": 17
        }
      ]
    },
    {
      "cell_type": "code",
      "source": [
        "sorted_eigenvectors = tf.TensorArray(tf.float64, size=0, dynamic_size=True, clear_after_read=False)\n",
        "sorted_eigenvectors.write(0, tf.constant([-1,2,3,4], dtype=tf.float64))\n",
        "sorted_eigenvectors.write(1, tf.constant([2,-3,4,5], dtype=tf.float64))\n",
        "sorted_eigenvectors.write(2, tf.constant([3,4,5,-6], dtype=tf.float64))\n",
        "#sorted_eigenvectors = sorted_eigenvectors.stack()"
      ],
      "metadata": {
        "id": "xVvSTnedAMX5",
        "colab": {
          "base_uri": "https://localhost:8080/"
        },
        "outputId": "79782b0d-89ab-4b1e-836e-7bd159f0008f"
      },
      "execution_count": null,
      "outputs": [
        {
          "output_type": "stream",
          "name": "stderr",
          "text": [
            "ERROR:tensorflow:==================================\n",
            "Object was never used (type <class 'tensorflow.python.ops.tensor_array_ops.TensorArray'>):\n",
            "<tensorflow.python.ops.tensor_array_ops.TensorArray object at 0x7fe7052b1150>\n",
            "If you want to mark it as used call its \"mark_used()\" method.\n",
            "It was originally created here:\n",
            "  File \"/usr/local/lib/python3.10/dist-packages/IPython/core/interactiveshell.py\", line 3257, in run_cell_async\n",
            "    has_raised = await self.run_ast_nodes(code_ast.body, cell_name,  File \"/usr/local/lib/python3.10/dist-packages/IPython/core/interactiveshell.py\", line 3473, in run_ast_nodes\n",
            "    if (await self.run_code(code, result,  async_=asy)):  File \"/usr/local/lib/python3.10/dist-packages/IPython/core/interactiveshell.py\", line 3553, in run_code\n",
            "    exec(code_obj, self.user_global_ns, self.user_ns)  File \"<ipython-input-17-cbd0a3e9bbcc>\", line 2, in <cell line: 2>\n",
            "    sorted_eigenvectors.write(0, tf.constant([-1,2,3,4], dtype=tf.float64))  File \"/usr/local/lib/python3.10/dist-packages/tensorflow/python/util/tf_should_use.py\", line 243, in wrapped\n",
            "    return _add_should_use_warning(fn(*args, **kwargs),\n",
            "==================================\n",
            "ERROR:tensorflow:==================================\n",
            "Object was never used (type <class 'tensorflow.python.ops.tensor_array_ops.TensorArray'>):\n",
            "<tensorflow.python.ops.tensor_array_ops.TensorArray object at 0x7fe7052b1150>\n",
            "If you want to mark it as used call its \"mark_used()\" method.\n",
            "It was originally created here:\n",
            "  File \"/usr/local/lib/python3.10/dist-packages/IPython/core/interactiveshell.py\", line 3257, in run_cell_async\n",
            "    has_raised = await self.run_ast_nodes(code_ast.body, cell_name,  File \"/usr/local/lib/python3.10/dist-packages/IPython/core/interactiveshell.py\", line 3473, in run_ast_nodes\n",
            "    if (await self.run_code(code, result,  async_=asy)):  File \"/usr/local/lib/python3.10/dist-packages/IPython/core/interactiveshell.py\", line 3553, in run_code\n",
            "    exec(code_obj, self.user_global_ns, self.user_ns)  File \"<ipython-input-17-cbd0a3e9bbcc>\", line 3, in <cell line: 3>\n",
            "    sorted_eigenvectors.write(1, tf.constant([2,-3,4,5], dtype=tf.float64))  File \"/usr/local/lib/python3.10/dist-packages/tensorflow/python/util/tf_should_use.py\", line 243, in wrapped\n",
            "    return _add_should_use_warning(fn(*args, **kwargs),\n",
            "==================================\n"
          ]
        },
        {
          "output_type": "execute_result",
          "data": {
            "text/plain": [
              "<tensorflow.python.ops.tensor_array_ops.TensorArray at 0x7fe7052b3970>"
            ]
          },
          "metadata": {},
          "execution_count": 17
        }
      ]
    },
    {
      "cell_type": "code",
      "source": [
        "sorted_eigenvectors[1]"
      ],
      "metadata": {
        "id": "vHFzelxiMNDA",
        "colab": {
          "base_uri": "https://localhost:8080/"
        },
        "outputId": "7aa7561f-4b4e-423e-a52f-c5b04b14e253"
      },
      "execution_count": null,
      "outputs": [
        {
          "output_type": "execute_result",
          "data": {
            "text/plain": [
              "<tf.Tensor: shape=(4,), dtype=float64, numpy=array([ 2., -3.,  4.,  5.])>"
            ]
          },
          "metadata": {},
          "execution_count": 52
        }
      ]
    },
    {
      "cell_type": "code",
      "source": [
        "N = tf.math.multiply(tf.constant(30, dtype=tf.int32), 16)"
      ],
      "metadata": {
        "id": "EGr_wVo9KzJw"
      },
      "execution_count": null,
      "outputs": []
    },
    {
      "cell_type": "code",
      "source": [
        "2.0/480 * np.abs(sorted_eigenvectors[:240])"
      ],
      "metadata": {
        "colab": {
          "base_uri": "https://localhost:8080/"
        },
        "id": "il_43NWOT0bP",
        "outputId": "94d4cee5-7bb3-4299-dc11-8a125a9dea8a"
      },
      "execution_count": null,
      "outputs": [
        {
          "output_type": "execute_result",
          "data": {
            "text/plain": [
              "array([[0.00416667, 0.00833333, 0.0125    , 0.01666667],\n",
              "       [0.00833333, 0.0125    , 0.01666667, 0.02083333],\n",
              "       [0.0125    , 0.01666667, 0.02083333, 0.025     ]])"
            ]
          },
          "metadata": {},
          "execution_count": 112
        }
      ]
    },
    {
      "cell_type": "code",
      "source": [
        "factor = 2.0 / tf.cast(N, tf.float64)"
      ],
      "metadata": {
        "id": "zCWurmMoT89T"
      },
      "execution_count": null,
      "outputs": []
    },
    {
      "cell_type": "code",
      "source": [
        "tf.math.multiply(factor, tf.math.abs(sorted_eigenvectors[:tf.math.floordiv(N, 2)]))"
      ],
      "metadata": {
        "colab": {
          "base_uri": "https://localhost:8080/"
        },
        "id": "p7i1pjBjTBAx",
        "outputId": "ae4072a5-dbc7-4a58-c618-18d2844843a0"
      },
      "execution_count": null,
      "outputs": [
        {
          "output_type": "execute_result",
          "data": {
            "text/plain": [
              "<tf.Tensor: shape=(3, 4), dtype=float64, numpy=\n",
              "array([[0.00416667, 0.00833333, 0.0125    , 0.01666667],\n",
              "       [0.00833333, 0.0125    , 0.01666667, 0.02083333],\n",
              "       [0.0125    , 0.01666667, 0.02083333, 0.025     ]])>"
            ]
          },
          "metadata": {},
          "execution_count": 124
        }
      ]
    },
    {
      "cell_type": "code",
      "source": [
        "tf.math.floordiv(600, 2)"
      ],
      "metadata": {
        "id": "NkquX0xhcEE5",
        "outputId": "c09acce8-b275-4b66-e7ed-eff1759d181d",
        "colab": {
          "base_uri": "https://localhost:8080/"
        }
      },
      "execution_count": null,
      "outputs": [
        {
          "output_type": "execute_result",
          "data": {
            "text/plain": [
              "<tf.Tensor: shape=(), dtype=int32, numpy=300>"
            ]
          },
          "metadata": {},
          "execution_count": 38
        }
      ]
    },
    {
      "cell_type": "code",
      "source": [
        "d=tf.Variable(tf.experimental.numpy.empty(tf.math.floordiv(600, 2), dtype=tf.int32), trainable=False)\n",
        "d"
      ],
      "metadata": {
        "colab": {
          "base_uri": "https://localhost:8080/"
        },
        "id": "gPMZVWktFPGZ",
        "outputId": "5e1f910e-009d-42f2-baca-9d54f2d45657"
      },
      "execution_count": null,
      "outputs": [
        {
          "output_type": "execute_result",
          "data": {
            "text/plain": [
              "<tf.Variable 'Variable:0' shape=(300,) dtype=int32, numpy=\n",
              "array([0, 0, 0, 0, 0, 0, 0, 0, 0, 0, 0, 0, 0, 0, 0, 0, 0, 0, 0, 0, 0, 0,\n",
              "       0, 0, 0, 0, 0, 0, 0, 0, 0, 0, 0, 0, 0, 0, 0, 0, 0, 0, 0, 0, 0, 0,\n",
              "       0, 0, 0, 0, 0, 0, 0, 0, 0, 0, 0, 0, 0, 0, 0, 0, 0, 0, 0, 0, 0, 0,\n",
              "       0, 0, 0, 0, 0, 0, 0, 0, 0, 0, 0, 0, 0, 0, 0, 0, 0, 0, 0, 0, 0, 0,\n",
              "       0, 0, 0, 0, 0, 0, 0, 0, 0, 0, 0, 0, 0, 0, 0, 0, 0, 0, 0, 0, 0, 0,\n",
              "       0, 0, 0, 0, 0, 0, 0, 0, 0, 0, 0, 0, 0, 0, 0, 0, 0, 0, 0, 0, 0, 0,\n",
              "       0, 0, 0, 0, 0, 0, 0, 0, 0, 0, 0, 0, 0, 0, 0, 0, 0, 0, 0, 0, 0, 0,\n",
              "       0, 0, 0, 0, 0, 0, 0, 0, 0, 0, 0, 0, 0, 0, 0, 0, 0, 0, 0, 0, 0, 0,\n",
              "       0, 0, 0, 0, 0, 0, 0, 0, 0, 0, 0, 0, 0, 0, 0, 0, 0, 0, 0, 0, 0, 0,\n",
              "       0, 0, 0, 0, 0, 0, 0, 0, 0, 0, 0, 0, 0, 0, 0, 0, 0, 0, 0, 0, 0, 0,\n",
              "       0, 0, 0, 0, 0, 0, 0, 0, 0, 0, 0, 0, 0, 0, 0, 0, 0, 0, 0, 0, 0, 0,\n",
              "       0, 0, 0, 0, 0, 0, 0, 0, 0, 0, 0, 0, 0, 0, 0, 0, 0, 0, 0, 0, 0, 0,\n",
              "       0, 0, 0, 0, 0, 0, 0, 0, 0, 0, 0, 0, 0, 0, 0, 0, 0, 0, 0, 0, 0, 0,\n",
              "       0, 0, 0, 0, 0, 0, 0, 0, 0, 0, 0, 0, 0, 0], dtype=int32)>"
            ]
          },
          "metadata": {},
          "execution_count": 82
        }
      ]
    },
    {
      "cell_type": "code",
      "source": [
        "d[tf.Variable(1)].assign(tf.Variable(5)-1)"
      ],
      "metadata": {
        "colab": {
          "base_uri": "https://localhost:8080/"
        },
        "id": "sD90rJjm1Uhn",
        "outputId": "83b28f1f-e40d-4dc6-eb6b-419b282799da"
      },
      "execution_count": null,
      "outputs": [
        {
          "output_type": "execute_result",
          "data": {
            "text/plain": [
              "<tf.Variable 'UnreadVariable' shape=(300,) dtype=int32, numpy=\n",
              "array([0, 4, 0, 0, 0, 0, 0, 0, 0, 0, 0, 0, 0, 0, 0, 0, 0, 0, 0, 0, 0, 0,\n",
              "       0, 0, 0, 0, 0, 0, 0, 0, 0, 0, 0, 0, 0, 0, 0, 0, 0, 0, 0, 0, 0, 0,\n",
              "       0, 0, 0, 0, 0, 0, 0, 0, 0, 0, 0, 0, 0, 0, 0, 0, 0, 0, 0, 0, 0, 0,\n",
              "       0, 0, 0, 0, 0, 0, 0, 0, 0, 0, 0, 0, 0, 0, 0, 0, 0, 0, 0, 0, 0, 0,\n",
              "       0, 0, 0, 0, 0, 0, 0, 0, 0, 0, 0, 0, 0, 0, 0, 0, 0, 0, 0, 0, 0, 0,\n",
              "       0, 0, 0, 0, 0, 0, 0, 0, 0, 0, 0, 0, 0, 0, 0, 0, 0, 0, 0, 0, 0, 0,\n",
              "       0, 0, 0, 0, 0, 0, 0, 0, 0, 0, 0, 0, 0, 0, 0, 0, 0, 0, 0, 0, 0, 0,\n",
              "       0, 0, 0, 0, 0, 0, 0, 0, 0, 0, 0, 0, 0, 0, 0, 0, 0, 0, 0, 0, 0, 0,\n",
              "       0, 0, 0, 0, 0, 0, 0, 0, 0, 0, 0, 0, 0, 0, 0, 0, 0, 0, 0, 0, 0, 0,\n",
              "       0, 0, 0, 0, 0, 0, 0, 0, 0, 0, 0, 0, 0, 0, 0, 0, 0, 0, 0, 0, 0, 0,\n",
              "       0, 0, 0, 0, 0, 0, 0, 0, 0, 0, 0, 0, 0, 0, 0, 0, 0, 0, 0, 0, 0, 0,\n",
              "       0, 0, 0, 0, 0, 0, 0, 0, 0, 0, 0, 0, 0, 0, 0, 0, 0, 0, 0, 0, 0, 0,\n",
              "       0, 0, 0, 0, 0, 0, 0, 0, 0, 0, 0, 0, 0, 0, 0, 0, 0, 0, 0, 0, 0, 0,\n",
              "       0, 0, 0, 0, 0, 0, 0, 0, 0, 0, 0, 0, 0, 0], dtype=int32)>"
            ]
          },
          "metadata": {},
          "execution_count": 83
        }
      ]
    },
    {
      "cell_type": "code",
      "source": [
        "d[tf.Variable(3)] + d[tf.Variable(6)] // 2"
      ],
      "metadata": {
        "colab": {
          "base_uri": "https://localhost:8080/"
        },
        "id": "u7cyd9MQIAV-",
        "outputId": "6a24fb72-def3-4053-ced5-745a0ec5aa5f"
      },
      "execution_count": null,
      "outputs": [
        {
          "output_type": "execute_result",
          "data": {
            "text/plain": [
              "<tf.Tensor: shape=(), dtype=int32, numpy=0>"
            ]
          },
          "metadata": {},
          "execution_count": 84
        }
      ]
    },
    {
      "cell_type": "code",
      "source": [
        "linspace_num = tf.math.floordiv(480, 2)\n",
        "linspace_stop = 1.0 / tf.math.multiply(2.0, 1/tf.constant(10, dtype=tf.float64))\n",
        "freq = tf.linspace(tf.constant(0, dtype=tf.float64), linspace_stop, linspace_num)"
      ],
      "metadata": {
        "id": "BQnJYdKKRUE5"
      },
      "execution_count": null,
      "outputs": []
    },
    {
      "cell_type": "code",
      "source": [
        "np.where(freq.numpy()[d.numpy()[:5]]== max(freq.numpy()[d.numpy()[:5]]))"
      ],
      "metadata": {
        "colab": {
          "base_uri": "https://localhost:8080/"
        },
        "id": "l8EI2aTqFlUF",
        "outputId": "5ee68ece-be5e-4e45-e4de-30a0ff6b6d85"
      },
      "execution_count": null,
      "outputs": [
        {
          "output_type": "execute_result",
          "data": {
            "text/plain": [
              "(array([1, 4]),)"
            ]
          },
          "metadata": {},
          "execution_count": 10
        }
      ]
    },
    {
      "cell_type": "code",
      "source": [
        "freq_fn = tf.TensorArray(tf.float64, size=0, dynamic_size=True, clear_after_read=False)\n",
        "freq_fn.write(0, [1,6])\n",
        "for idx in tf.range(1, d[:5].shape[0]):\n",
        "    freq_fn.write(idx, [2,5])"
      ],
      "metadata": {
        "id": "-I7LznxSjRns"
      },
      "execution_count": null,
      "outputs": []
    },
    {
      "cell_type": "code",
      "source": [
        "freq_fn = tf.TensorArray(tf.float64, size=0, dynamic_size=True, clear_after_read=True)\n",
        "freq_fn = freq_fn.write(0, tf.transpose(tf.constant([1,6], dtype=tf.float64)))\n",
        "for idx in tf.range(1, d[:5].shape[0]):\n",
        "    freq_fn = freq_fn.write(idx, tf.transpose(tf.constant([2,5], dtype=tf.float64)))"
      ],
      "metadata": {
        "id": "xM1IA5tjGX7M"
      },
      "execution_count": null,
      "outputs": []
    },
    {
      "cell_type": "code",
      "source": [
        "f= tf.Variable([], shape=tf.TensorShape(None), trainable=False, dtype=tf.float64)"
      ],
      "metadata": {
        "id": "0iqLwKTaOf9o"
      },
      "execution_count": null,
      "outputs": []
    },
    {
      "cell_type": "code",
      "source": [
        "f[0]"
      ],
      "metadata": {
        "colab": {
          "base_uri": "https://localhost:8080/"
        },
        "id": "wchBJKPzOuRL",
        "outputId": "0a5bba42-1c70-4952-9940-5fba765b2e93"
      },
      "execution_count": null,
      "outputs": [
        {
          "output_type": "execute_result",
          "data": {
            "text/plain": [
              "<tf.Tensor: shape=(), dtype=float64, numpy=1.0>"
            ]
          },
          "metadata": {},
          "execution_count": 63
        }
      ]
    },
    {
      "cell_type": "code",
      "source": [
        "freq_fn = freq_fn.write(0, tf.transpose(tf.constant([8,4], dtype=tf.float64)))\n",
        "for idx in tf.range(1, d[:5].shape[0]):\n",
        "    freq_fn = freq_fn.write(idx, tf.transpose(tf.constant([12,25], dtype=tf.float64)))"
      ],
      "metadata": {
        "id": "yDXIojBJGKVh"
      },
      "execution_count": null,
      "outputs": []
    },
    {
      "cell_type": "code",
      "source": [
        "tf.math.reduce_max(freq_fn[:,1])"
      ],
      "metadata": {
        "colab": {
          "base_uri": "https://localhost:8080/"
        },
        "id": "286qaDxMR2OE",
        "outputId": "6dabea85-9215-4ea3-cabc-fd1463f382ea"
      },
      "execution_count": null,
      "outputs": [
        {
          "output_type": "execute_result",
          "data": {
            "text/plain": [
              "<tf.Tensor: shape=(), dtype=float64, numpy=6.0>"
            ]
          },
          "metadata": {},
          "execution_count": 114
        }
      ]
    },
    {
      "cell_type": "code",
      "source": [
        "tf.math.sqrt(tf.math.reduce_sum(tf.math.pow(freq_fn, 2)))"
      ],
      "metadata": {
        "colab": {
          "base_uri": "https://localhost:8080/"
        },
        "id": "6h2J_h3CnsLh",
        "outputId": "0dee944f-676b-4f76-ce23-895134c45405"
      },
      "execution_count": null,
      "outputs": [
        {
          "output_type": "execute_result",
          "data": {
            "text/plain": [
              "<tf.Tensor: shape=(), dtype=float64, numpy=7.100653869655707>"
            ]
          },
          "metadata": {},
          "execution_count": 58
        }
      ]
    },
    {
      "cell_type": "code",
      "source": [
        "tf.math.reduce_max(freq_fn)"
      ],
      "metadata": {
        "colab": {
          "base_uri": "https://localhost:8080/"
        },
        "id": "eV6xmTy8syQ7",
        "outputId": "a7dcdb8f-f786-49e4-dfaa-c5a620ce0781"
      },
      "execution_count": null,
      "outputs": [
        {
          "output_type": "execute_result",
          "data": {
            "text/plain": [
              "<tf.Tensor: shape=(), dtype=float64, numpy=5.02092050209205>"
            ]
          },
          "metadata": {},
          "execution_count": 90
        }
      ]
    },
    {
      "cell_type": "code",
      "source": [
        "tf.where(tf.math.equal(freq_fn, 0))"
      ],
      "metadata": {
        "colab": {
          "base_uri": "https://localhost:8080/"
        },
        "id": "-7yOgIOuKCeL",
        "outputId": "7bc84d71-74b7-4f23-eccb-8aa9351d88e4"
      },
      "execution_count": null,
      "outputs": [
        {
          "output_type": "execute_result",
          "data": {
            "text/plain": [
              "<tf.Tensor: shape=(0, 2), dtype=int64, numpy=array([], shape=(0, 2), dtype=int64)>"
            ]
          },
          "metadata": {},
          "execution_count": 101
        }
      ]
    },
    {
      "cell_type": "code",
      "source": [
        "g=tf.constant([[2,3,4,5],[2,3,4,5]], dtype=tf.float64)\n",
        "f=tf.constant([[1],[2],[3],[4]], dtype=tf.float64)\n",
        "#tf.tensordot(g,f, axes=1)"
      ],
      "metadata": {
        "id": "YugAHb2NfjFB"
      },
      "execution_count": null,
      "outputs": []
    },
    {
      "cell_type": "code",
      "source": [
        "print(tf.shape(f))\n",
        "print(tf.shape(g))\n",
        "@tf.function\n",
        "def test(g, f):\n",
        "    tf.print(tf.shape(f))\n",
        "    tf.print(tf.shape(g))\n",
        "    scores = tf.linalg.matmul(g,f)\n",
        "    tf.print(scores)\n",
        "    #tf.print(tf.argsort(tf.math.abs(scores))[:,-1])\n",
        "\n",
        "test(g,f)"
      ],
      "metadata": {
        "colab": {
          "base_uri": "https://localhost:8080/"
        },
        "id": "6QwMUvDC7O24",
        "outputId": "d865209e-c795-403a-e53a-24d7a3bbbffa"
      },
      "execution_count": null,
      "outputs": [
        {
          "output_type": "stream",
          "name": "stdout",
          "text": [
            "tf.Tensor([4 1], shape=(2,), dtype=int32)\n",
            "tf.Tensor([2 4], shape=(2,), dtype=int32)\n",
            "[4 1]\n",
            "[2 4]\n",
            "[[40]\n",
            " [40]]\n"
          ]
        }
      ]
    },
    {
      "cell_type": "code",
      "source": [
        "g[f[0]]"
      ],
      "metadata": {
        "colab": {
          "base_uri": "https://localhost:8080/",
          "height": 329
        },
        "id": "YlXkYyg3b7L2",
        "outputId": "9e8b839d-dc09-47e6-fa40-fbb6553fbc8a"
      },
      "execution_count": null,
      "outputs": [
        {
          "output_type": "error",
          "ename": "TypeError",
          "evalue": "ignored",
          "traceback": [
            "\u001b[0;31m---------------------------------------------------------------------------\u001b[0m",
            "\u001b[0;31mTypeError\u001b[0m                                 Traceback (most recent call last)",
            "\u001b[0;32m<ipython-input-69-9a7281bbbbdc>\u001b[0m in \u001b[0;36m<cell line: 1>\u001b[0;34m()\u001b[0m\n\u001b[0;32m----> 1\u001b[0;31m \u001b[0mg\u001b[0m\u001b[0;34m[\u001b[0m\u001b[0mf\u001b[0m\u001b[0;34m[\u001b[0m\u001b[0;36m0\u001b[0m\u001b[0;34m]\u001b[0m\u001b[0;34m]\u001b[0m\u001b[0;34m\u001b[0m\u001b[0;34m\u001b[0m\u001b[0m\n\u001b[0m",
            "\u001b[0;32m/usr/local/lib/python3.10/dist-packages/tensorflow/python/util/traceback_utils.py\u001b[0m in \u001b[0;36merror_handler\u001b[0;34m(*args, **kwargs)\u001b[0m\n\u001b[1;32m    151\u001b[0m     \u001b[0;32mexcept\u001b[0m \u001b[0mException\u001b[0m \u001b[0;32mas\u001b[0m \u001b[0me\u001b[0m\u001b[0;34m:\u001b[0m\u001b[0;34m\u001b[0m\u001b[0;34m\u001b[0m\u001b[0m\n\u001b[1;32m    152\u001b[0m       \u001b[0mfiltered_tb\u001b[0m \u001b[0;34m=\u001b[0m \u001b[0m_process_traceback_frames\u001b[0m\u001b[0;34m(\u001b[0m\u001b[0me\u001b[0m\u001b[0;34m.\u001b[0m\u001b[0m__traceback__\u001b[0m\u001b[0;34m)\u001b[0m\u001b[0;34m\u001b[0m\u001b[0;34m\u001b[0m\u001b[0m\n\u001b[0;32m--> 153\u001b[0;31m       \u001b[0;32mraise\u001b[0m \u001b[0me\u001b[0m\u001b[0;34m.\u001b[0m\u001b[0mwith_traceback\u001b[0m\u001b[0;34m(\u001b[0m\u001b[0mfiltered_tb\u001b[0m\u001b[0;34m)\u001b[0m \u001b[0;32mfrom\u001b[0m \u001b[0;32mNone\u001b[0m\u001b[0;34m\u001b[0m\u001b[0;34m\u001b[0m\u001b[0m\n\u001b[0m\u001b[1;32m    154\u001b[0m     \u001b[0;32mfinally\u001b[0m\u001b[0;34m:\u001b[0m\u001b[0;34m\u001b[0m\u001b[0;34m\u001b[0m\u001b[0m\n\u001b[1;32m    155\u001b[0m       \u001b[0;32mdel\u001b[0m \u001b[0mfiltered_tb\u001b[0m\u001b[0;34m\u001b[0m\u001b[0;34m\u001b[0m\u001b[0m\n",
            "\u001b[0;32m/usr/local/lib/python3.10/dist-packages/tensorflow/python/ops/array_ops.py\u001b[0m in \u001b[0;36m_check_index\u001b[0;34m(idx)\u001b[0m\n\u001b[1;32m    922\u001b[0m     \u001b[0;31m# TODO(slebedev): IndexError seems more appropriate here, but it\u001b[0m\u001b[0;34m\u001b[0m\u001b[0;34m\u001b[0m\u001b[0m\n\u001b[1;32m    923\u001b[0m     \u001b[0;31m# will break `_slice_helper` contract.\u001b[0m\u001b[0;34m\u001b[0m\u001b[0;34m\u001b[0m\u001b[0m\n\u001b[0;32m--> 924\u001b[0;31m     \u001b[0;32mraise\u001b[0m \u001b[0mTypeError\u001b[0m\u001b[0;34m(\u001b[0m\u001b[0m_SLICE_TYPE_ERROR\u001b[0m \u001b[0;34m+\u001b[0m \u001b[0;34m\", got {!r}\"\u001b[0m\u001b[0;34m.\u001b[0m\u001b[0mformat\u001b[0m\u001b[0;34m(\u001b[0m\u001b[0midx\u001b[0m\u001b[0;34m)\u001b[0m\u001b[0;34m)\u001b[0m\u001b[0;34m\u001b[0m\u001b[0;34m\u001b[0m\u001b[0m\n\u001b[0m\u001b[1;32m    925\u001b[0m \u001b[0;34m\u001b[0m\u001b[0m\n\u001b[1;32m    926\u001b[0m \u001b[0;34m\u001b[0m\u001b[0m\n",
            "\u001b[0;31mTypeError\u001b[0m: Only integers, slices (`:`), ellipsis (`...`), tf.newaxis (`None`) and scalar tf.int32/tf.int64 tensors are valid indices, got <tf.Tensor: shape=(1,), dtype=float64, numpy=array([1.])>"
          ]
        }
      ]
    },
    {
      "cell_type": "code",
      "source": [
        "tf.unique_with_counts(g)"
      ],
      "metadata": {
        "colab": {
          "base_uri": "https://localhost:8080/"
        },
        "id": "r-fME3EcElBZ",
        "outputId": "9c4a8874-30fd-4197-a998-a49690cca64e"
      },
      "execution_count": null,
      "outputs": [
        {
          "output_type": "execute_result",
          "data": {
            "text/plain": [
              "UniqueWithCounts(y=<tf.Tensor: shape=(4,), dtype=float64, numpy=array([2., 3., 4., 5.])>, idx=<tf.Tensor: shape=(8,), dtype=int32, numpy=array([0, 1, 2, 3, 1, 1, 2, 3], dtype=int32)>, count=<tf.Tensor: shape=(4,), dtype=int32, numpy=array([1, 3, 2, 2], dtype=int32)>)"
            ]
          },
          "metadata": {},
          "execution_count": 90
        }
      ]
    },
    {
      "cell_type": "code",
      "source": [
        "tf.concat([[g], [g]], 0).shape"
      ],
      "metadata": {
        "colab": {
          "base_uri": "https://localhost:8080/"
        },
        "id": "xVuHWP7GQwNL",
        "outputId": "3ca07e66-be1a-4a03-cc20-d1617570f246"
      },
      "execution_count": null,
      "outputs": [
        {
          "output_type": "execute_result",
          "data": {
            "text/plain": [
              "TensorShape([2, 8])"
            ]
          },
          "metadata": {},
          "execution_count": 40
        }
      ]
    },
    {
      "cell_type": "code",
      "source": [
        "tf.shape(g)[0]"
      ],
      "metadata": {
        "colab": {
          "base_uri": "https://localhost:8080/"
        },
        "id": "8fmWNkIYTgPA",
        "outputId": "cdea6e3d-43a5-4d65-da50-e301711de375"
      },
      "execution_count": null,
      "outputs": [
        {
          "output_type": "execute_result",
          "data": {
            "text/plain": [
              "<tf.Tensor: shape=(), dtype=int32, numpy=3>"
            ]
          },
          "metadata": {},
          "execution_count": 86
        }
      ]
    },
    {
      "cell_type": "code",
      "source": [
        "f=tf.constant([[[1,3],[2,4]],[[3,5],[4,6]]], dtype=tf.float64)"
      ],
      "metadata": {
        "id": "WKM3yuZ0dJgw"
      },
      "execution_count": null,
      "outputs": []
    },
    {
      "cell_type": "code",
      "source": [
        "tf.math.subtract(g.shape, tf.TensorShape((2,3)))"
      ],
      "metadata": {
        "colab": {
          "base_uri": "https://localhost:8080/"
        },
        "id": "rOPlFyAJdeQU",
        "outputId": "eb2dd84c-39cc-4510-8ebb-1204bf2b3f6e"
      },
      "execution_count": null,
      "outputs": [
        {
          "output_type": "execute_result",
          "data": {
            "text/plain": [
              "<tf.Tensor: shape=(2,), dtype=int32, numpy=array([1, 1], dtype=int32)>"
            ]
          },
          "metadata": {},
          "execution_count": 84
        }
      ]
    },
    {
      "cell_type": "code",
      "source": [
        "[-1] + g.shape.as_list()[1:]"
      ],
      "metadata": {
        "colab": {
          "base_uri": "https://localhost:8080/"
        },
        "id": "a-XfwpBWRM2Y",
        "outputId": "678de303-f7c5-4553-bb61-34a0d8615b56"
      },
      "execution_count": null,
      "outputs": [
        {
          "output_type": "execute_result",
          "data": {
            "text/plain": [
              "[-1, 4]"
            ]
          },
          "metadata": {},
          "execution_count": 13
        }
      ]
    },
    {
      "cell_type": "code",
      "source": [
        "f.numpy()"
      ],
      "metadata": {
        "colab": {
          "base_uri": "https://localhost:8080/"
        },
        "id": "dTrSgWrpdpBm",
        "outputId": "f362bb0a-3a9a-4623-d50c-443b231d2826"
      },
      "execution_count": null,
      "outputs": [
        {
          "output_type": "execute_result",
          "data": {
            "text/plain": [
              "array([[[1., 3.],\n",
              "        [2., 4.]],\n",
              "\n",
              "       [[3., 5.],\n",
              "        [4., 6.]]])"
            ]
          },
          "metadata": {},
          "execution_count": 10
        }
      ]
    },
    {
      "cell_type": "code",
      "source": [
        "g[1:]"
      ],
      "metadata": {
        "colab": {
          "base_uri": "https://localhost:8080/"
        },
        "id": "KYtt6V3Mg6mP",
        "outputId": "98d6efcd-ede5-4ebe-9f9f-cdbdec8980a6"
      },
      "execution_count": null,
      "outputs": [
        {
          "output_type": "execute_result",
          "data": {
            "text/plain": [
              "<tf.Tensor: shape=(2, 4), dtype=float64, numpy=\n",
              "array([[3., 4., 9., 3.],\n",
              "       [3., 4., 0., 2.]])>"
            ]
          },
          "metadata": {},
          "execution_count": 37
        }
      ]
    },
    {
      "cell_type": "code",
      "source": [
        "g[:-1]"
      ],
      "metadata": {
        "colab": {
          "base_uri": "https://localhost:8080/"
        },
        "id": "aDEn9817dt6e",
        "outputId": "8bfa70e8-ac64-4352-fe7b-e2ff71ac6494"
      },
      "execution_count": null,
      "outputs": [
        {
          "output_type": "execute_result",
          "data": {
            "text/plain": [
              "<tf.Tensor: shape=(2, 4), dtype=float64, numpy=\n",
              "array([[2., 7., 6., 8.],\n",
              "       [3., 4., 9., 3.]])>"
            ]
          },
          "metadata": {},
          "execution_count": 39
        }
      ]
    },
    {
      "cell_type": "code",
      "source": [
        "g[1:]-g[:-1]"
      ],
      "metadata": {
        "colab": {
          "base_uri": "https://localhost:8080/"
        },
        "id": "05bUslmReEDk",
        "outputId": "2d483e2c-a4e1-44af-c6e1-fb5ef85eedb2"
      },
      "execution_count": null,
      "outputs": [
        {
          "output_type": "execute_result",
          "data": {
            "text/plain": [
              "<tf.Tensor: shape=(2, 4), dtype=float64, numpy=\n",
              "array([[ 1., -3.,  3., -5.],\n",
              "       [ 0.,  0., -9., -1.]])>"
            ]
          },
          "metadata": {},
          "execution_count": 40
        }
      ]
    },
    {
      "cell_type": "code",
      "source": [
        "g"
      ],
      "metadata": {
        "colab": {
          "base_uri": "https://localhost:8080/"
        },
        "id": "GZW2DWOgeWfc",
        "outputId": "f2c7c105-fb26-43ff-b56d-94dc0b9c0b96"
      },
      "execution_count": null,
      "outputs": [
        {
          "output_type": "execute_result",
          "data": {
            "text/plain": [
              "<tf.Tensor: shape=(3, 4), dtype=float64, numpy=\n",
              "array([[2., 7., 6., 8.],\n",
              "       [3., 4., 9., 3.],\n",
              "       [3., 4., 0., 2.]])>"
            ]
          },
          "metadata": {},
          "execution_count": 46
        }
      ]
    },
    {
      "cell_type": "code",
      "source": [
        "g[:,1:]-g[:,:-1]"
      ],
      "metadata": {
        "colab": {
          "base_uri": "https://localhost:8080/"
        },
        "id": "r9a-Ee12eOzj",
        "outputId": "682e753b-7d03-458b-c67e-bf2c6b8df6b2"
      },
      "execution_count": null,
      "outputs": [
        {
          "output_type": "execute_result",
          "data": {
            "text/plain": [
              "<tf.Tensor: shape=(3, 3), dtype=float64, numpy=\n",
              "array([[ 5., -1.,  2.],\n",
              "       [ 1.,  5., -6.],\n",
              "       [ 1., -4.,  2.]])>"
            ]
          },
          "metadata": {},
          "execution_count": 55
        }
      ]
    },
    {
      "cell_type": "code",
      "source": [
        "tf.math.not_equal(g[:,1:]-g[:,:-1], 0)"
      ],
      "metadata": {
        "colab": {
          "base_uri": "https://localhost:8080/"
        },
        "id": "OKe46lUlnJCl",
        "outputId": "a2858259-d270-4b12-9869-f782577d152d"
      },
      "execution_count": null,
      "outputs": [
        {
          "output_type": "execute_result",
          "data": {
            "text/plain": [
              "<tf.Tensor: shape=(3, 3), dtype=bool, numpy=\n",
              "array([[ True,  True,  True],\n",
              "       [ True,  True,  True],\n",
              "       [ True,  True,  True]])>"
            ]
          },
          "metadata": {},
          "execution_count": 56
        }
      ]
    },
    {
      "cell_type": "code",
      "source": [
        "tf.where(tf.math.not_equal(g[:,1:]-g[:,:-1], 0))"
      ],
      "metadata": {
        "colab": {
          "base_uri": "https://localhost:8080/"
        },
        "id": "8yd9_khWeSG9",
        "outputId": "6d6f641a-5a3b-4741-f2c5-51e3fa3f71f3"
      },
      "execution_count": null,
      "outputs": [
        {
          "output_type": "execute_result",
          "data": {
            "text/plain": [
              "<tf.Tensor: shape=(9, 2), dtype=int64, numpy=\n",
              "array([[0, 0],\n",
              "       [0, 1],\n",
              "       [0, 2],\n",
              "       [1, 0],\n",
              "       [1, 1],\n",
              "       [1, 2],\n",
              "       [2, 0],\n",
              "       [2, 1],\n",
              "       [2, 2]])>"
            ]
          },
          "metadata": {},
          "execution_count": 62
        }
      ]
    },
    {
      "cell_type": "code",
      "source": [
        "tf.TensorShape((1,10))"
      ],
      "metadata": {
        "colab": {
          "base_uri": "https://localhost:8080/"
        },
        "id": "ZkQqNpZPNJWi",
        "outputId": "267b2632-0eb0-4876-d543-80a8a390c0f9"
      },
      "execution_count": null,
      "outputs": [
        {
          "output_type": "execute_result",
          "data": {
            "text/plain": [
              "TensorShape([1, 10])"
            ]
          },
          "metadata": {},
          "execution_count": 91
        }
      ]
    },
    {
      "cell_type": "code",
      "source": [
        "tf.linspace(tf.constant(0, dtype=tf.int32), 0, 10)[0]"
      ],
      "metadata": {
        "colab": {
          "base_uri": "https://localhost:8080/"
        },
        "id": "wB1IvTVuerBv",
        "outputId": "4257f75b-e191-4a6a-f269-d41c9f4b9b88"
      },
      "execution_count": null,
      "outputs": [
        {
          "output_type": "execute_result",
          "data": {
            "text/plain": [
              "<tf.Tensor: shape=(), dtype=float64, numpy=0.0>"
            ]
          },
          "metadata": {},
          "execution_count": 9
        }
      ]
    },
    {
      "cell_type": "code",
      "source": [
        "twenty_tensor = tf.constant(20, dtype=tf.float64)\n",
        "five_tensor = tf.constant([5, 2], dtype=tf.float64)\n",
        "tf.math.pow(tf.constant(10, dtype=tf.float64), tf.math.divide(five_tensor, twenty_tensor))"
      ],
      "metadata": {
        "colab": {
          "base_uri": "https://localhost:8080/"
        },
        "id": "08O3uVJ8QmUY",
        "outputId": "f9302f81-6bc2-4e94-e864-0934b99928ea"
      },
      "execution_count": null,
      "outputs": [
        {
          "output_type": "execute_result",
          "data": {
            "text/plain": [
              "<tf.Tensor: shape=(2,), dtype=float64, numpy=array([1.77827941, 1.25892541])>"
            ]
          },
          "metadata": {},
          "execution_count": 47
        }
      ]
    },
    {
      "cell_type": "code",
      "source": [
        "twenty_tensor = tf.constant(20, dtype=tf.float64)\n",
        "five_tensor = tf.constant([5, 2], dtype=tf.float64)\n",
        "vAvMag = tf.math.pow(tf.constant(10, dtype=tf.float64), tf.math.divide(five_tensor, twenty_tensor))\n",
        "vAvMag"
      ],
      "metadata": {
        "colab": {
          "base_uri": "https://localhost:8080/"
        },
        "id": "JJNBX4p0OkDw",
        "outputId": "32fcad4d-abe3-42ed-fcba-95ebe35e10a8"
      },
      "execution_count": null,
      "outputs": [
        {
          "output_type": "execute_result",
          "data": {
            "text/plain": [
              "<tf.Tensor: shape=(2,), dtype=float64, numpy=array([1.77827941, 1.25892541])>"
            ]
          },
          "metadata": {},
          "execution_count": 45
        }
      ]
    },
    {
      "cell_type": "code",
      "execution_count": 1,
      "metadata": {
        "id": "ZkPkIkzqVGPy"
      },
      "outputs": [],
      "source": [
        "#import numpy as np\n",
        "#from scipy import signal\n",
        "#from scipy.fftpack import fft\n",
        "#from skimage.util import view_as_windows\n",
        "#from sklearn.decomposition import PCA\n",
        "import sys\n",
        "import tensorflow as tf\n",
        "import tensorflow_probability as tfp\n",
        "\n",
        "\n",
        "class diff_matrix_estimation(tf.Module):\n",
        "\n",
        "    def __init__(self, name=None):\n",
        "        super().__init__(name=name)\n",
        "\n",
        "        self.avTimeSec = tf.constant(2.0, dtype=tf.float64)\n",
        "\n",
        "    def __call__(self, matrix, matrix_shape_, frames_per_second):\n",
        "        one_tensor = tf.constant(1, dtype=tf.float64)\n",
        "        twenty_tensor = tf.constant(20, dtype=tf.float64)\n",
        "        negative_one = tf.constant(-1, dtype=tf.float64)\n",
        "        factor_exponent = tf.math.divide(tf.math.divide(negative_one, frames_per_second), self.avTimeSec)\n",
        "        factor = tf.math.subtract(one_tensor, tf.math.exp(factor_exponent))\n",
        "        newSlow = tf.reshape(matrix[0], (1,10))\n",
        "        vAvMag = tf.math.pow(tf.constant(10, dtype=tf.float64), tf.math.divide(newSlow, twenty_tensor))\n",
        "        tf.print('-->>>>>> newSlow --------')\n",
        "        tf.print(vAvMag[0])\n",
        "\n",
        "        for f in tf.range(0, matrix_shape_):\n",
        "            tf.autograph.experimental.set_loop_options(\n",
        "                shape_invariants=[\n",
        "                    (newSlow, tf.TensorShape([None, 10])),\n",
        "                    (vAvMag, tf.TensorShape([None, 10]))\n",
        "                    ]\n",
        "            )\n",
        "            print('Diff Matrix Estimation Eager --------')\n",
        "            tf.print('Diff Matrix Estimation Graph ---------------------')\n",
        "            vMag_exponent = tf.math.divide(matrix[f], twenty_tensor)\n",
        "            vMag = tf.math.pow(tf.constant(10, dtype=tf.float64), vMag_exponent)\n",
        "            one_minus_factor = tf.math.subtract(one_tensor, factor)\n",
        "            vAvMag = tf.math.add(tf.math.multiply(vMag, factor), tf.math.multiply(vAvMag, one_minus_factor))\n",
        "            vAvdB = tf.math.multiply(twenty_tensor, tf.experimental.numpy.log10(vAvMag))\n",
        "\n",
        "            if tf.math.equal(f, tf.constant(0, dtype=tf.int32)): newSlow = vAvdB\n",
        "            else: newSlow = tf.concat([newSlow, vAvdB], 0)\n",
        "\n",
        "        ## Returns newDiff tensor\n",
        "        return tf.math.subtract(matrix, newSlow)\n",
        "\n",
        "\n",
        "class windowed_pca(tf.Module):\n",
        "\n",
        "    def __init__(self, name=None):\n",
        "        super().__init__(name=name)\n",
        "        self.zc1 = tf.Variable(0, trainable=False, dtype=tf.int32)\n",
        "        self.n = tf.Variable(20, trainable=False, dtype=tf.int32)\n",
        "        # Define variables for loop\n",
        "        self.diff_matrix_reshape = tf.Variable([], shape=tf.TensorShape(None), trainable=False, dtype=tf.float64)\n",
        "        self.principal_components = tf.Variable([], shape=tf.TensorShape(None), trainable=False, dtype=tf.float64)\n",
        "        # Define window limits\n",
        "        self.start_window = tf.Variable(0, trainable=False, dtype=tf.int32)\n",
        "        self.end_window = tf.Variable(0, trainable=False, dtype=tf.int32)\n",
        "        # Define index for augmented matrix creation\n",
        "        self.augmented_tensor_idx = tf.Variable(10, trainable=False, dtype=tf.int32)\n",
        "\n",
        "    def __call__(self, diff_matrix_, matrix_shape_):\n",
        "        self.zc1.assign(0)\n",
        "        self.n.assign(20)\n",
        "        # n = 20 -> 30frames\n",
        "        ##---------------------> zc1 and zc2 ????\n",
        "        print('Variables Eager -----')\n",
        "        tf.print('Variables Graph ---------------------')\n",
        "        step = tf.constant(1, dtype=tf.int32)\n",
        "\n",
        "        # Define variables for loop\n",
        "        self.diff_matrix_reshape.assign([])\n",
        "        self.principal_components.assign([])\n",
        "\n",
        "        while tf.less(self.zc1, 3) and tf.greater(self.n, 0):\n",
        "            # Resets idx for augmented tensor\n",
        "            self.augmented_tensor_idx.assign(10)\n",
        "            # Sets new window length\n",
        "            s = tf.math.floordiv(matrix_shape_, self.n)\n",
        "            wind0_tensor = self.view_as_windows(diff_matrix_, matrix_shape_, window_shape_0=s, window_shape_1=1, step=step)\n",
        "            print('Reshape Eager -------------------')\n",
        "            tf.print('Reshape Graph ---------------------')\n",
        "            tf.print('s Shape -------------------------')\n",
        "            tf.print(s)\n",
        "            tf.print('wind0_tensor Shape -------------------------')\n",
        "            tf.print(tf.shape(wind0_tensor))\n",
        "            self.diff_matrix_reshape.assign(wind0_tensor)\n",
        "            tf.print('self.diff_matrix_reshape Shape -------------------------')\n",
        "            tf.print(tf.shape(self.diff_matrix_reshape))\n",
        "            # PCA\n",
        "            self.principal_components.assign(self.PCA())\n",
        "            tf.print('self.principal_components Shape -------------------------')\n",
        "            tf.print(tf.shape(self.principal_components))\n",
        "\n",
        "            pc1 = self.signal_detrend()\n",
        "            linspace_num = tf.math.subtract(s, tf.constant(1, dtype=tf.int32))\n",
        "            linspace_stop = tf.math.subtract(s, tf.constant(1, dtype=tf.int32))\n",
        "            x = tf.linspace(tf.constant(0, dtype=tf.int32), linspace_stop, linspace_num)\n",
        "\n",
        "            self.zc1.assign(tf.shape(self.zcr(x, pc1))[0])\n",
        "            self.n.assign_add(-5)\n",
        "\n",
        "        return self.principal_components, s, self.diff_matrix_reshape\n",
        "\n",
        "    def zcr(self, x, y):\n",
        "        \"\"\"@brief zero crossing detector\"\"\"\n",
        "        sign_y = tf.math.sign(y)\n",
        "        tf_diff_axis_1 = tf.math.subtract(sign_y[1:], sign_y[:-1])\n",
        "        print('Differentiation Eager ---------------')\n",
        "        tf.print('Differentiation Graph ---------------------')\n",
        "        not_equal_idx = tf.where(tf.math.not_equal(tf_diff_axis_1, 0))\n",
        "        x_array = tf.TensorArray(tf.float64, size=0, dynamic_size=True, clear_after_read=False)\n",
        "        x_array = x_array.write(0, x[not_equal_idx[0][0]])\n",
        "        for idx in tf.range(1, tf.shape(not_equal_idx)[0]):\n",
        "            x_array = x_array.write(idx, x[not_equal_idx[idx][0]])\n",
        "        x_array = x_array.stack()\n",
        "\n",
        "        return x_array\n",
        "\n",
        "    def view_as_windows(self, diff_matrix_, matrix_shape_, window_shape_0, window_shape_1, step):\n",
        "        \"\"\"\n",
        "        Customized tensorflow version of the skimage function with same name\n",
        "        \"\"\"\n",
        "        wdim = tf.constant(2, dtype=tf.int32)\n",
        "        zero_tensor = tf.constant(0, dtype=tf.int32)\n",
        "        one_tensor = tf.constant(1, dtype=tf.int32)\n",
        "        self.start_window.assign(0)\n",
        "        self.end_window.assign(window_shape_0)\n",
        "        print('View as Windows Eager ---------------')\n",
        "        tf.print('View as Windows Graph ---------------------')\n",
        "\n",
        "        with tf.control_dependencies([\n",
        "            tf.debugging.assert_none_equal(wdim, matrix_shape_, message=\"'window_shape' is incompatible with 'tensor_in.shape'\"),\n",
        "            tf.debugging.assert_greater_equal(step, one_tensor, message=\"'step' must be >= 1\"),\n",
        "            tf.debugging.assert_none_equal(tf.math.reduce_any(tf.math.less(tf.math.subtract(tf.shape(diff_matrix_)[0], window_shape_0), zero_tensor)),\n",
        "                                           tf.constant(True), message=\"'window_shape' is too large\"),\n",
        "            tf.debugging.assert_none_equal(tf.math.reduce_any(tf.math.less(tf.math.subtract(tf.shape(diff_matrix_)[0], one_tensor), zero_tensor)),\n",
        "                                           tf.constant(True), message=\"'window_shape' is too small\")\n",
        "            ]):\n",
        "\n",
        "            augmented_tensor = tf.TensorArray(tf.float64, size=0, dynamic_size=True, clear_after_read=False)\n",
        "            augmented_tensor = augmented_tensor.write(0, diff_matrix_[self.start_window:self.end_window, 0])\n",
        "            for i in tf.range(1, 10):\n",
        "                augmented_tensor = augmented_tensor.write(i, diff_matrix_[self.start_window:self.end_window, i])\n",
        "\n",
        "            self.start_window.assign_add(step)\n",
        "            self.end_window.assign_add(step)\n",
        "\n",
        "            while tf.math.less_equal(self.end_window, matrix_shape_):\n",
        "                for i in tf.range(0, 10):\n",
        "                    augmented_tensor = augmented_tensor.write(self.augmented_tensor_idx, diff_matrix_[self.start_window:self.end_window, i])\n",
        "                    self.augmented_tensor_idx.assign_add(1)\n",
        "\n",
        "                self.start_window.assign_add(step)\n",
        "                self.end_window.assign_add(step)\n",
        "\n",
        "            augmented_tensor = augmented_tensor.stack()\n",
        "\n",
        "            return augmented_tensor\n",
        "\n",
        "    def PCA(self):\n",
        "        print('PCA Eager ------------------')\n",
        "        tf.print('PCA Graph ---------------------')\n",
        "        mean_ = tf.math.reduce_mean(self.diff_matrix_reshape, axis=0)\n",
        "        tensor_input = tf.math.subtract(self.diff_matrix_reshape, mean_)\n",
        "\n",
        "        #Step-2\n",
        "        cov_mat = tf.math.multiply(tfp.stats.covariance(tensor_input), tf.constant(2, dtype=tf.float64))\n",
        "\n",
        "        #Step-3\n",
        "        eigen_values , eigen_vectors = tf.linalg.eigh(cov_mat)\n",
        "\n",
        "        #Step-4\n",
        "        sorted_index = tf.argsort(eigen_values)[::-1]\n",
        "\n",
        "        #sorted_eigenvalue = tf.TensorArray(tf.float64, size=0, dynamic_size=True, clear_after_read=False)\n",
        "        #sorted_eigenvalue.write(0, eigen_values[sorted_index[0]])\n",
        "        #for idx in tf.range(1, sorted_index.shape[0]):\n",
        "        #    sorted_eigenvalue.write(idx, eigen_values[sorted_index[idx]])\n",
        "        #sorted_eigenvalue = sorted_eigenvalue.stack()\n",
        "\n",
        "        sorted_eigenvectors = tf.TensorArray(tf.float64, size=0, dynamic_size=True, clear_after_read=False)\n",
        "        sorted_eigenvectors = sorted_eigenvectors.write(0, eigen_vectors[:,sorted_index[0]])\n",
        "        for idx in tf.range(1, tf.shape(sorted_index)[0]):\n",
        "            sorted_eigenvectors = sorted_eigenvectors.write(idx, eigen_vectors[:,sorted_index[idx]])\n",
        "        sorted_eigenvectors = sorted_eigenvectors.stack()\n",
        "\n",
        "        return sorted_eigenvectors\n",
        "\n",
        "    def signal_detrend(self):\n",
        "        print('Signal Detrend Eager -------------')\n",
        "        tf.print('Signal Detrend Graph ---------------------')\n",
        "        mean_ = tf.math.reduce_mean(self.principal_components[0], axis=-1, keepdims=True)\n",
        "\n",
        "        return tf.math.subtract(self.principal_components[0], mean_)\n",
        "\n",
        "\n",
        "class freq_per_pc(tf.Module):\n",
        "\n",
        "    def __init__(self, name=None):\n",
        "        super().__init__(name=name)\n",
        "        self.k = tf.Variable(0, trainable=False, dtype=tf.int32)\n",
        "        # Define index for frequency tensor\n",
        "        self.freq_pc_idx = tf.Variable(0, trainable=False, dtype=tf.int32)\n",
        "        \"\"\"--- Find peaks ---\"\"\"\n",
        "        # Preallocation variables\n",
        "        self.midpoints = tf.Variable([], shape=tf.TensorShape(None), trainable=False, dtype=tf.int32)\n",
        "        self.left_edges = tf.Variable([], shape=tf.TensorShape(None), trainable=False, dtype=tf.int32)\n",
        "        self.right_edges = tf.Variable([], shape=tf.TensorShape(None), trainable=False, dtype=tf.int32)\n",
        "        # Pointer to the end of valid area in allocated arrays\n",
        "        self.m = tf.Variable(0, trainable=False, dtype=tf.int32)\n",
        "        # Pointer to current sample, first one can't be maxima\n",
        "        self.i = tf.Variable(1, trainable=False, dtype=tf.int32)\n",
        "        # Define index to look ahead of current sample\n",
        "        self.i_ahead = tf.Variable(0, trainable=False, dtype=tf.int32)\n",
        "        \"\"\"--- Get Harmonic Indices ---\"\"\"\n",
        "        # Define indices for harmonic indices tensor\n",
        "        self.indh_idx = tf.Variable(0, trainable=False, dtype=tf.int32)\n",
        "        self.harm = tf.Variable(0, trainable=False, dtype=tf.float64)\n",
        "        self.harms_idx = tf.Variable(0, trainable=False, dtype=tf.int32)\n",
        "        self.indf_idx = tf.Variable(0, trainable=False, dtype=tf.int32)\n",
        "        # Define auxiliar counters\n",
        "        self.count1 = tf.Variable(2, trainable=False, dtype=tf.float64)\n",
        "        self.count2 = tf.Variable(2, trainable=False, dtype=tf.float64)\n",
        "        self.count3 = tf.Variable(0, trainable=False, dtype=tf.int32)\n",
        "        \"\"\"--- Add Harmonic Energy ---\"\"\"\n",
        "        # Define index\n",
        "        self.all_ener_sum_idx = tf.Variable(0, trainable=False, dtype=tf.int32)\n",
        "\n",
        "    def __call__(self, principal_components_, window_, delta_time_, diff_matrix_, diff_matrix_reshape_):\n",
        "        self.freq_pc = tf.TensorArray(tf.float64, size=0, dynamic_size=True, clear_after_read=False)\n",
        "\n",
        "        tf.print('principal_components_ Shape -------------------------')\n",
        "        tf.print(tf.shape(principal_components_))\n",
        "        tf.print('window_ Shape -------------------------')\n",
        "        tf.print(window_)\n",
        "        tf.print('diff_matrix_reshape_ Shape -------------------------')\n",
        "        tf.print(tf.shape(diff_matrix_reshape_))\n",
        "\n",
        "        for k in tf.range(tf.shape(principal_components_)[0]):\n",
        "            self.k.assign(k)\n",
        "            freq_fn, item_in_freq_fn = self.compute_fft(window_, principal_components_, delta_time_)\n",
        "            indh = self.get_harmonic_indices(freq_fn, item_in_freq_fn)\n",
        "            rounded_freq_max = self.add_harmonic_energy(freq_fn, indh)\n",
        "\n",
        "            self.freq_pc = self.freq_pc.write(self.freq_pc_idx, rounded_freq_max)\n",
        "            self.freq_pc_idx.assign_add(1)\n",
        "        freq_pc = self.freq_pc.stack()\n",
        "\n",
        "        #frequencies\n",
        "        scores = tf.linalg.matmul(diff_matrix_reshape_, principal_components_)\n",
        "\n",
        "        arr_freq = tf.argsort(tf.math.abs(scores))[:,-1]\n",
        "        arr_freq_pc_ = tf.TensorArray(tf.float64, size=0, dynamic_size=True, clear_after_read=False)\n",
        "        arr_freq_pc_ = arr_freq_pc_.write(0, freq_pc[arr_freq[0]])\n",
        "        for idx in tf.range(1, tf.shape(arr_freq)[0]):\n",
        "            arr_freq_pc_ = arr_freq_pc_.write(idx, freq_pc[arr_freq[idx]])\n",
        "        arr_freq_pc_ = arr_freq_pc_.stack()\n",
        "\n",
        "        arr_freq_pc_ = tf.reshape(arr_freq_pc_, (tf.math.floordiv(tf.shape(arr_freq_pc_)[0], 10), 10))\n",
        "        for _ in tf.range(tf.math.subtract(tf.shape(diff_matrix_)[0], tf.shape(arr_freq_pc_)[0])):\n",
        "            arr_freq_pc_ = tf.concat([arr_freq_pc_, tf.reshape(arr_freq_pc_[-1,:], tf.TensorShape((1,10)))], 0)\n",
        "\n",
        "        return arr_freq_pc_\n",
        "\n",
        "    def compute_fft(self, window_, principal_components_, delta_time_):\n",
        "        print('Compute Fft Eager -------------------')\n",
        "        tf.print('Compute Fft Graph ---------------------')\n",
        "        two_tensor = tf.constant(2.0, dtype=tf.float64)\n",
        "\n",
        "        # FFT for each PC\n",
        "        N = tf.math.multiply(window_, 16)\n",
        "        pc = self.signal_detrend(principal_components_[self.k])\n",
        "        yf = tf.signal.rfft(pc, [N])\n",
        "\n",
        "        linspace_num = tf.math.floordiv(N, 2)\n",
        "        linspace_stop = 1.0 / tf.math.multiply(two_tensor, delta_time_)\n",
        "        freq = tf.linspace(tf.constant(0, dtype=tf.float64), linspace_stop, linspace_num)\n",
        "\n",
        "        abs_tensor = tf.math.abs(yf[:linspace_num])\n",
        "        factor_tensor = two_tensor / tf.cast(N, tf.float64)\n",
        "        self.PSD = tf.math.multiply(factor_tensor, abs_tensor)\n",
        "\n",
        "        self.peaks = self.find_peaks(self.PSD)\n",
        "\n",
        "        freq_fn_ = tf.TensorArray(tf.float64, size=0, dynamic_size=True, clear_after_read=False)\n",
        "        freq_fn_ = freq_fn_.write(0, freq[self.peaks[0]] * 60)\n",
        "        for idx in tf.range(1, tf.shape(self.peaks)[0]):\n",
        "            freq_fn_ = freq_fn_.write(idx, freq[self.peaks[idx]] * 60)\n",
        "        freq_fn_ = freq_fn_.stack()\n",
        "\n",
        "        self.psd_peaks = tf.TensorArray(tf.float64, size=0, dynamic_size=True, clear_after_read=False)\n",
        "        self.psd_peaks = self.psd_peaks.write(0, self.PSD[self.peaks[0]])\n",
        "        for idx in tf.range(1, tf.shape(self.peaks)[0]):\n",
        "            self.psd_peaks = self.psd_peaks.write(idx, self.PSD[self.peaks[idx]])\n",
        "        self.psd_peaks = self.psd_peaks.stack()\n",
        "\n",
        "        self.ener_max = tf.math.reduce_max(self.psd_peaks)\n",
        "        self.freq_max = freq_fn_[tf.where(tf.math.equal(self.psd_peaks, self.ener_max))[0][0]]\n",
        "\n",
        "        item_in_freq_fn_ = tf.unique(freq_fn_)[0]\n",
        "\n",
        "        return freq_fn_, item_in_freq_fn_\n",
        "\n",
        "    def find_peaks(self, psd_tensor):\n",
        "        print('Find peaks Eager -----------------------')\n",
        "        tf.print('Find peaks Graph ---------------------')\n",
        "        #d[tf.Variable(3)].assign(tf.Variable(5))\n",
        "        # Preallocate, there can't be more maxima than half the size of `x`\n",
        "        self.midpoints.assign(\n",
        "            tf.experimental.numpy.empty(\n",
        "                tf.math.floordiv(tf.shape(psd_tensor)[0], 2),\n",
        "                dtype=tf.int32\n",
        "                )\n",
        "            )\n",
        "        self.left_edges.assign(\n",
        "            tf.experimental.numpy.empty(\n",
        "                tf.math.floordiv(tf.shape(psd_tensor)[0], 2),\n",
        "                dtype=tf.int32\n",
        "                )\n",
        "            )\n",
        "        self.right_edges.assign(\n",
        "            tf.experimental.numpy.empty(\n",
        "                tf.math.floordiv(tf.shape(psd_tensor)[0], 2),\n",
        "                dtype=tf.int32\n",
        "                )\n",
        "            )\n",
        "\n",
        "        self.m.assign(0)\n",
        "        self.i.assign(1)\n",
        "        self.i_ahead.assign(0)\n",
        "\n",
        "        i_max = tf.math.subtract(tf.shape(psd_tensor)[0], tf.constant(1, dtype=tf.int32))  # Last sample can't be maxima\n",
        "        while tf.math.less(self.i, i_max):\n",
        "            # Test if previous sample is smaller\n",
        "            if tf.math.less(psd_tensor[self.i - 1], psd_tensor[self.i]):\n",
        "                self.i_ahead.assign(self.i + 1)\n",
        "\n",
        "                # Find next sample that is unequal to x[i]\n",
        "                while tf.math.logical_and(\n",
        "                    tf.math.less(self.i_ahead, i_max),\n",
        "                    tf.math.equal(psd_tensor[self.i_ahead], psd_tensor[self.i])\n",
        "                    ):\n",
        "                    self.i_ahead.assign_add(1)\n",
        "\n",
        "                # Maxima is found if next unequal sample is smaller than x[i]\n",
        "                if tf.math.less(psd_tensor[self.i_ahead], psd_tensor[self.i]):\n",
        "                    self.left_edges[self.m].assign(self.i)\n",
        "                    self.right_edges[self.m].assign(self.i_ahead - 1)\n",
        "                    self.midpoints[self.m].assign(tf.math.floordiv((self.left_edges[self.m] + self.right_edges[self.m]), 2))\n",
        "                    self.m.assign_add(1)\n",
        "                    # Skip samples that can't be maximum\n",
        "                    self.i.assign(self.i_ahead)\n",
        "            self.i.assign_add(1)\n",
        "\n",
        "        # Keep only valid part of array memory.\n",
        "        return self.midpoints[:self.m]\n",
        "\n",
        "    def get_harmonic_indices(self, freq_fn, item_in_freq_fn):\n",
        "        print('Get Harmonic Indices Eager -------------------')\n",
        "        tf.print('Get Harmonic Indices Graph ---------------------')\n",
        "\n",
        "        self.indh_idx.assign(0)\n",
        "\n",
        "        # Get harmonic indices\n",
        "        indh = tf.TensorArray(tf.int32, size=0, dynamic_size=True, clear_after_read=False)\n",
        "        for x in freq_fn:\n",
        "            self.harm.assign(10)\n",
        "            harms = tf.TensorArray(tf.float64, size=0, dynamic_size=True, clear_after_read=False)\n",
        "            self.harms_idx.assign(0)\n",
        "            self.count1.assign(2)\n",
        "            self.count2.assign(2)\n",
        "            while tf.math.less(self.harm, 150):\n",
        "                if tf.math.less(self.harm, 2):\n",
        "                    self.harm.assign(tf.math.multiply(x, self.count2))\n",
        "                    self.count2.assign_add(1)\n",
        "                    harms = harms.write(self.harms_idx, self.harm)\n",
        "                    self.harms_idx.assign_add(1)\n",
        "                else:\n",
        "                    self.harm.assign(tf.math.divide(x, self.count1))\n",
        "                    self.count1.assign_add(1)\n",
        "                    harms = harms.write(self.harms_idx, self.harm)\n",
        "                    self.harms_idx.assign_add(1)\n",
        "            harms = harms.stack()\n",
        "            self.count3.assign(0)\n",
        "            indf = tf.TensorArray(tf.int32, size=0, dynamic_size=True, clear_after_read=False)\n",
        "            self.indf_idx.assign(0)\n",
        "            if tf.reduce_any(tf.math.equal(x, item_in_freq_fn)):\n",
        "                rounded_x = tf.math.divide(tf.round(tf.math.multiply(x, 100)), 100)\n",
        "                if tf.math.equal(rounded_x, rounded_x):\n",
        "                #if round(x,2) in list(map(lambda x: round(x,2), harms)):\n",
        "                    indf = indf.write(self.indf_idx, self.count3)\n",
        "                    self.indf_idx.assign_add(1)\n",
        "                self.count3.assign_add(1)\n",
        "            indf = indf.stack()\n",
        "            indh = indh.write(self.indh_idx, indf)\n",
        "            self.indh_idx.assign_add(1)\n",
        "        indh = indh.stack()\n",
        "\n",
        "        return indh\n",
        "\n",
        "    def add_harmonic_energy(self, freq_fn, indh):\n",
        "        print('Add Harmonic Energy Eager -------------------------')\n",
        "        tf.print('Add Harmonic Energy Graph ---------------------')\n",
        "\n",
        "        self.all_ener_sum_idx.assign(0)\n",
        "\n",
        "        #Add harmonic energy\n",
        "        all_ener_sum = tf.TensorArray(tf.float64, size=0, dynamic_size=True, clear_after_read=False)\n",
        "        for ih in tf.range(tf.shape(indh)[0]):\n",
        "            if tf.math.not_equal(tf.shape(indh[ih])[0], 0):\n",
        "                psd_peaks_indh = tf.TensorArray(tf.float64, size=0, dynamic_size=True, clear_after_read=False)\n",
        "                psd_peaks_indh = psd_peaks_indh.write(0, self.psd_peaks[indh[ih][0]])\n",
        "                for idx in tf.range(1, tf.shape(indh[ih])[0]):\n",
        "                    psd_peaks_indh = psd_peaks_indh.write(idx, self.psd_peaks[indh[ih][idx]])\n",
        "                psd_peaks_indh = psd_peaks_indh.stack()\n",
        "                ener_sum = tf.math.sqrt(tf.math.reduce_sum(tf.math.pow(psd_peaks_indh, 2)))\n",
        "            else:\n",
        "                ener_sum = tf.constant(0, dtype=tf.float64)\n",
        "            all_ener_sum = all_ener_sum.write(self.all_ener_sum_idx, ener_sum)\n",
        "            self.all_ener_sum_idx.assign_add(1)\n",
        "        all_ener_sum = all_ener_sum.stack()\n",
        "\n",
        "        all_ener_sum_max = tf.math.reduce_max(all_ener_sum)\n",
        "        if tf.math.logical_and(\n",
        "            tf.math.greater(all_ener_sum_max, self.ener_max),\n",
        "            tf.math.greater(self.k, 3)\n",
        "            ):\n",
        "\n",
        "            all_ener_sum_max_idx = tf.where(tf.math.equal(all_ener_sum, all_ener_sum_max))\n",
        "            indh_min = tf.TensorArray(tf.int32, size=0, dynamic_size=True, clear_after_read=False)\n",
        "            indh_min = indh_min.write(0, indh[all_ener_sum_max_idx[0][0]])\n",
        "            for idx in tf.range(1, tf.shape(all_ener_sum_max_idx)[0]):\n",
        "                indh_min = indh_min.write(idx, indh[all_ener_sum_max_idx[idx][0]])\n",
        "            indh_min = indh_min.stack()\n",
        "\n",
        "            self.freq_max = freq_fn[tf.math.reduce_min(indh_min)] # New freq\n",
        "\n",
        "        rounded_freq_max = tf.math.divide(tf.round(tf.math.multiply(self.freq_max, 1000)), 1000)\n",
        "\n",
        "        return rounded_freq_max\n",
        "\n",
        "    def signal_detrend(self, tensor_in):\n",
        "        mean_ = tf.math.reduce_mean(tensor_in, axis=-1, keepdims=True)\n",
        "\n",
        "        return tf.math.subtract(tensor_in, mean_)\n",
        "\n",
        "\n",
        "class bpm_compute(tf.Module):\n",
        "\n",
        "    def __init__(self, name=None):\n",
        "        super().__init__(name=name)\n",
        "\n",
        "        self.bpm_idx = tf.Variable(0, trainable=False, dtype=tf.int32)\n",
        "        self.trust_perc_idx = tf.Variable(0, trainable=False, dtype=tf.int32)\n",
        "        self.trust_metric_values = self.trust_metric_curve()\n",
        "        # Define index for resulting frequencies\n",
        "        self.result_idx = tf.Variable(0, trainable=False, dtype=tf.int32)\n",
        "\n",
        "    def __call__(self, window_, arr_freq_pc_):\n",
        "        print('BPM Compute Eager ----------------------')\n",
        "        tf.print('BPM Compute Graph ---------------------')\n",
        "        tf.print(tf.shape(arr_freq_pc_))\n",
        "        frames_ = tf.linspace(tf.constant(0, dtype=tf.int32), tf.shape(arr_freq_pc_)[0], tf.shape(arr_freq_pc_)[0])\n",
        "\n",
        "        # Define arrays for incremental tensors\n",
        "        result_freq = tf.TensorArray(tf.float64, size=0, dynamic_size=True, clear_after_read=False)\n",
        "        result_count = tf.TensorArray(tf.int32, size=0, dynamic_size=True, clear_after_read=False)\n",
        "        bpm_ = tf.TensorArray(tf.float64, size=0, dynamic_size=True, clear_after_read=False)\n",
        "        trust_perc_ = tf.TensorArray(tf.float64, size=0, dynamic_size=True, clear_after_read=False)\n",
        "\n",
        "        self.bpm_idx.assign(0)\n",
        "        self.trust_perc_idx.assign(0)\n",
        "\n",
        "        for j in tf.range(1, window_):\n",
        "            band1 = tf.constant(0, dtype=tf.int32)\n",
        "            a_ = arr_freq_pc_[:j, band1]\n",
        "            unique_1, _, counts_1 = tf.unique_with_counts(a_, out_idx=tf.int32)\n",
        "\n",
        "            self.result_idx.assign(0)\n",
        "\n",
        "            for band2 in tf.range(1,10):\n",
        "                b_ = arr_freq_pc_[:j, band2]\n",
        "                unique_2, _, counts_2 = tf.unique_with_counts(b_, out_idx=tf.int32)\n",
        "\n",
        "                unique_1_2 = tf.concat([unique_1, unique_2], 0)\n",
        "                unique_concat, _ = tf.unique(unique_1_2, out_idx=tf.int32)\n",
        "                for key in unique_concat:\n",
        "                    count_idx_1 = tf.where(tf.math.equal(unique_1, key))\n",
        "                    count_idx_2 = tf.where(tf.math.equal(unique_2, key))\n",
        "                    if tf.math.equal(tf.shape(count_idx_1)[0], 0):\n",
        "                        result_to_write = counts_2[count_idx_2[0][0]]\n",
        "                    elif tf.math.equal(tf.shape(count_idx_2)[0], 0):\n",
        "                        result_to_write = counts_1[count_idx_1[0][0]]\n",
        "                    else:\n",
        "                        result_to_write = tf.math.add(counts_1[count_idx_1[0][0]], counts_2[count_idx_2[0][0]])\n",
        "                    result_freq = result_freq.write(self.result_idx, key)\n",
        "                    result_count = result_count.write(self.result_idx, result_to_write)\n",
        "                    self.result_idx.assign_add(1)\n",
        "            result_freq_ = result_freq.stack()\n",
        "            result_count_ = result_count.stack()\n",
        "\n",
        "            freq_total_counts = tf.math.reduce_max(result_count_)\n",
        "            freq_total_idx = tf.where(tf.math.equal(result_count_, freq_total_counts))\n",
        "            freq_total = result_freq_[freq_total_idx[0][0]]\n",
        "            perc_ini = tf.math.multiply(tf.math.divide(freq_total_counts, tf.math.multiply(j, 10)), 100)\n",
        "            perc_ini_to_idx = tf.cast(tf.math.subtract(tf.math.round(perc_ini), 1), dtype=tf.int32)\n",
        "            perc = self.trust_metric_values[perc_ini_to_idx]\n",
        "\n",
        "            result_freq = result_freq.unstack(result_freq_)\n",
        "            result_count = result_count.unstack(result_count_)\n",
        "\n",
        "            bpm_ = bpm_.write(self.bpm_idx, freq_total)\n",
        "            trust_perc_ = trust_perc_.write(self.trust_perc_idx, perc)\n",
        "            self.bpm_idx.assign_add(1)\n",
        "            self.trust_perc_idx.assign_add(1)\n",
        "            print('Ya terminé for')\n",
        "\n",
        "        # Define arrays for incremental tensors\n",
        "        result_freq2 = tf.TensorArray(tf.float64, size=0, dynamic_size=True, clear_after_read=False)\n",
        "        result_count2 = tf.TensorArray(tf.int32, size=0, dynamic_size=True, clear_after_read=False)\n",
        "        bpm2_ = tf.TensorArray(tf.float64, size=0, dynamic_size=True, clear_after_read=False)\n",
        "        trust_perc2_ = tf.TensorArray(tf.float64, size=0, dynamic_size=True, clear_after_read=False)\n",
        "\n",
        "        for l in tf.range(tf.math.add(tf.math.subtract(tf.shape(arr_freq_pc_)[0], window_), 1)):\n",
        "            band1 = tf.constant(0, dtype=tf.int32)\n",
        "            window_add = tf.math.add(l,window_)\n",
        "            a_ = arr_freq_pc_[l:window_add, band1]\n",
        "            unique_1, _, counts_1 = tf.unique_with_counts(a_, out_idx=tf.int32)\n",
        "\n",
        "            self.result_idx.assign(0)\n",
        "\n",
        "            for band2 in tf.range(1,10):\n",
        "                b_ = arr_freq_pc_[l:window_add, band2]\n",
        "                unique_2, _, counts_2 = tf.unique_with_counts(b_, out_idx=tf.int32)\n",
        "\n",
        "                unique_1_2 = tf.concat([unique_1, unique_2], 0)\n",
        "                unique_concat, _ = tf.unique(unique_1_2, out_idx=tf.int32)\n",
        "                for key in unique_concat:\n",
        "                    count_idx_1 = tf.where(tf.math.equal(unique_1, key))\n",
        "                    count_idx_2 = tf.where(tf.math.equal(unique_2, key))\n",
        "                    if tf.math.equal(tf.shape(count_idx_1)[0], 0):\n",
        "                        result_to_write = counts_2[count_idx_2[0][0]]\n",
        "                    elif tf.math.equal(tf.shape(count_idx_2)[0], 0):\n",
        "                        result_to_write = counts_1[count_idx_1[0][0]]\n",
        "                    else:\n",
        "                        result_to_write = tf.math.add(counts_1[count_idx_1[0][0]], counts_2[count_idx_2[0][0]])\n",
        "                    result_freq2 = result_freq2.write(self.result_idx, key)\n",
        "                    result_count2 = result_count2.write(self.result_idx, result_to_write)\n",
        "                    self.result_idx.assign_add(1)\n",
        "            result_freq2_ = result_freq2.stack()\n",
        "            result_count2_ = result_count2.stack()\n",
        "\n",
        "            freq_total_counts = tf.math.reduce_max(result_count2_)\n",
        "            freq_total_idx = tf.where(tf.math.equal(result_count2_, freq_total_counts))\n",
        "            freq_total = result_freq2_[freq_total_idx[0][0]]\n",
        "            perc_ini = tf.math.multiply(tf.math.divide(freq_total_counts, tf.math.multiply(window_, 10)), 100)\n",
        "            perc_ini_to_idx = tf.cast(tf.math.subtract(tf.math.round(perc_ini), 1), dtype=tf.int32)\n",
        "            perc = self.trust_metric_values[perc_ini_to_idx]\n",
        "\n",
        "            result_freq2 = result_freq.unstack(result_freq2_)\n",
        "            result_count2 = result_count.unstack(result_count2_)\n",
        "\n",
        "            bpm_ = bpm_.write(self.bpm_idx, freq_total)\n",
        "            trust_perc_ = trust_perc_.write(self.trust_perc_idx, perc)\n",
        "            self.bpm_idx.assign_add(1)\n",
        "            self.trust_perc_idx.assign_add(1)\n",
        "\n",
        "        print('Ya terminé afuera')\n",
        "        bpm_ = bpm_.stack()\n",
        "        trust_perc_ = trust_perc_.stack()\n",
        "\n",
        "        return bpm_, frames_, trust_perc_\n",
        "\n",
        "    def trust_metric_curve(self):\n",
        "        tm_values_linspace_1 = tf.linspace(tf.constant(0, dtype=tf.float64), 70, 33)\n",
        "        tm_values_linspace_2 = tf.linspace(tf.constant(71, dtype=tf.float64), 100, 67)\n",
        "        tm_values = tf.concat([tm_values_linspace_1, tm_values_linspace_2], 0)\n",
        "\n",
        "        return tm_values\n",
        "\n",
        "\n",
        "class RRComputationModule(tf.Module):\n",
        "\n",
        "    def __init__(self, name=None):\n",
        "        super().__init__(name=name)\n",
        "\n",
        "        self.diff_matrix_estimation = diff_matrix_estimation()\n",
        "        self.windowed_pca = windowed_pca()\n",
        "        self.freq_per_pc = freq_per_pc()\n",
        "        self.bpm_compute = bpm_compute()\n",
        "\n",
        "    @tf.function(input_signature=[\n",
        "        tf.TensorSpec(shape=[None, None], dtype=tf.float64),\n",
        "        tf.TensorSpec(shape=(), dtype=tf.int32),\n",
        "        tf.TensorSpec(shape=(), dtype=tf.float64),\n",
        "        tf.TensorSpec(shape=(), dtype=tf.float64),\n",
        "        tf.TensorSpec(shape=(), dtype=tf.float64)\n",
        "        ])\n",
        "    def call(self, matrix, matrix_shape, firmware_version, frames_per_second, delta_time):\n",
        "        #tf.print(firmware_version)\n",
        "        print('Main Module ------------------------')\n",
        "        diff_matrix = self.diff_matrix_estimation(matrix, matrix_shape, frames_per_second)\n",
        "        #principal_components, window, diff_matrix_reshape = self.windowed_pca(diff_matrix, matrix_shape)\n",
        "        #arr_freq_pc = self.freq_per_pc(principal_components, window, delta_time, diff_matrix, diff_matrix_reshape)\n",
        "        #bpm, frames, trust_perc = self.bpm_compute(window, arr_freq_pc)\n",
        "        return diff_matrix\n",
        "        #return bpm, frames, trust_perc"
      ]
    },
    {
      "cell_type": "code",
      "source": [],
      "metadata": {
        "id": "sitm_-UqZicV"
      },
      "execution_count": null,
      "outputs": []
    },
    {
      "cell_type": "code",
      "source": [
        "frames_per_second = 10\n",
        "RR_compute = RRComputationModule(frames_per_second)\n",
        "\n",
        "matrix_tensor = tf.constant(matrix)\n",
        "\n",
        "avTimeSec = tf.constant(2.0, dtype=tf.float64)\n",
        "frames_per_second = tf.constant(frames_per_second, dtype=tf.float64)\n",
        "factor = 1 - tf.math.exp((-1 / frames_per_second) / avTimeSec)\n",
        "newSlow = tf.reshape(matrix[0], (1,10))\n",
        "vAvMag = 10**(newSlow / 20)\n",
        "for f in range(0, matrix.shape[0]):\n",
        "    vMag = 10**(matrix[f]/20)\n",
        "    vAvMag = tf.math.multiply(vMag, factor) + tf.math.multiply(vAvMag, (1 - factor))\n",
        "    vAvdB = 20 * np.log10(vAvMag)\n",
        "    if f == 0: newSlow = vAvdB\n",
        "    else: newSlow = tf.concat([newSlow, vAvdB], 0)\n",
        "\n",
        "newDiff = tf.math.subtract(matrix, newSlow)"
      ],
      "metadata": {
        "id": "DLJNTbEhLmqE"
      },
      "execution_count": null,
      "outputs": []
    },
    {
      "cell_type": "code",
      "source": [
        "!pip install fastavro"
      ],
      "metadata": {
        "colab": {
          "base_uri": "https://localhost:8080/"
        },
        "id": "s8qcxyCxLcb1",
        "outputId": "4fa06a8b-2114-49e9-a825-392ade0bc3c4"
      },
      "execution_count": null,
      "outputs": [
        {
          "output_type": "stream",
          "name": "stdout",
          "text": [
            "Collecting fastavro\n",
            "  Downloading fastavro-1.7.4-cp310-cp310-manylinux_2_17_x86_64.manylinux2014_x86_64.whl (2.6 MB)\n",
            "\u001b[?25l     \u001b[90m━━━━━━━━━━━━━━━━━━━━━━━━━━━━━━━━━━━━━━━━\u001b[0m \u001b[32m0.0/2.6 MB\u001b[0m \u001b[31m?\u001b[0m eta \u001b[36m-:--:--\u001b[0m\r\u001b[2K     \u001b[91m━━━━━━━━━━━━━━━━━━━━━━━━━━━━━━━━\u001b[0m\u001b[90m╺\u001b[0m\u001b[90m━━━━━━━\u001b[0m \u001b[32m2.1/2.6 MB\u001b[0m \u001b[31m62.8 MB/s\u001b[0m eta \u001b[36m0:00:01\u001b[0m\r\u001b[2K     \u001b[90m━━━━━━━━━━━━━━━━━━━━━━━━━━━━━━━━━━━━━━━━\u001b[0m \u001b[32m2.6/2.6 MB\u001b[0m \u001b[31m43.4 MB/s\u001b[0m eta \u001b[36m0:00:00\u001b[0m\n",
            "\u001b[?25hInstalling collected packages: fastavro\n",
            "Successfully installed fastavro-1.7.4\n"
          ]
        }
      ]
    },
    {
      "cell_type": "code",
      "source": [
        "import fastavro\n",
        "import numpy as np\n",
        "from RLMeasurement import RLMeasurement\n",
        "from RLMeasurement_2 import RLMeasurement2\n",
        "\n",
        "\n",
        "\n",
        "def get_sample(sample_name):\n",
        "    file_path = '{}.avro'.format(sample_name)\n",
        "    with open(file_path, 'rb') as avro_file:\n",
        "        sample_avro_object = fastavro.reader(avro_file)\n",
        "        sample_avro = [i for i in sample_avro_object][0]\n",
        "\n",
        "        ## Get sample Hader\n",
        "        header = sample_avro['Header']\n",
        "        if 'VersionFirmware' in sample_avro.keys():\n",
        "            header['firmware_ver'] = sample_avro['VersionFirmware']\n",
        "            ## Get sample Matrix\n",
        "            matrix_list = sample_avro['Microphone0']\n",
        "        else:\n",
        "            ## Get sample Matrix\n",
        "            matrix_list = sample_avro['MatrixFast']\n",
        "\n",
        "        matrix = np.array([matrix_list[0]['band']], dtype=np.float64)\n",
        "        rows = range(1, len(matrix_list))\n",
        "        for row in rows:\n",
        "            matrix = np.append(matrix, np.array([matrix_list[row]['band']], dtype=np.float64), axis=0)\n",
        "\n",
        "    return matrix, header\n",
        "\n",
        "\n",
        "def decode_file_frames(sample_name):\n",
        "    file_path = '{}.bin'.format(sample_name)\n",
        "    with open(file_path, 'rb') as bytes_file:\n",
        "        bytes_matrix = bytes_file.read()\n",
        "\n",
        "    if firmware_version == 1.0:\n",
        "            measurement = RLMeasurement(bytes_matrix)\n",
        "            header = measurement.decodeHeader()\n",
        "            audio_measurement_frames = measurement.decodeAudioFrames(header[6])\n",
        "    else:\n",
        "        measurement = RLMeasurement2(bytes_matrix)\n",
        "        header = measurement.decode_header()\n",
        "        audio_measurement_frames = measurement.decode_audio_frames(\n",
        "                                                        header[\"meas_type\"],\n",
        "                                                        header[\"frames_dsp_len\"])\n",
        "\n",
        "    return header, measurement, audio_measurement_frames\n",
        "\n",
        "\n",
        "def get_matrices(firmware_version, measurement, audio_measurement_frames):\n",
        "        if firmware_version == 1.0:\n",
        "            _, microphone_0, _ = measurement.preProcessMatrices(\n",
        "                                                            audio_measurement_frames)\n",
        "        else:\n",
        "            microphone_0, _, _ = measurement.pre_process_matrices(\n",
        "                                                            audio_measurement_frames)\n",
        "\n",
        "        return microphone_0"
      ],
      "metadata": {
        "id": "_ylukKevWfUu"
      },
      "execution_count": null,
      "outputs": []
    },
    {
      "cell_type": "markdown",
      "source": [
        "## ------------------------------------------------------------------------------------------"
      ],
      "metadata": {
        "id": "qzh9joEfVP4t"
      }
    },
    {
      "cell_type": "code",
      "source": [
        "sample_list = [\n",
        "    #'rl_meas_short_20220325_132257_d41d',\n",
        "    'rl_meas_short_20220922_154103_dcff_2',\n",
        "    #'rl_meas_short_20220922_154103_dcff_1',\n",
        "    #'rl_meas_short_20220922_154103_dcff',\n",
        "    #'rl_meas_short_20220913_130941_dcff',\n",
        "    #'rl_meas_short_20220913_130702_dcff',\n",
        "    #'rl_meas_detailed_20230110_150433_9167',\n",
        "    #'rl_meas_short_20220325_042658_79b2',\n",
        "    #'rl_meas_short_20220325_153618_1198',\n",
        "    #'rl_meas_short_20220318_124449_c5df',\n",
        "    ]\n",
        "\n",
        "firmware_version = 1.0\n",
        "\n",
        "for sample_name in sample_list:\n",
        "    print(sample_name)\n",
        "    matrix2, header = get_sample(sample_name)\n",
        "    header, measurement, bytes_matrix = decode_file_frames(sample_name)\n",
        "    matrix1 = get_matrices(firmware_version, measurement, bytes_matrix)\n",
        "\n",
        "    try:\n",
        "        firmware_version =  header['firmware_ver']\n",
        "        firmware_version_tensor = tf.constant(header['firmware_ver'], dtype=tf.float64)\n",
        "    except:\n",
        "        firmware_version = 1.0\n",
        "        firmware_version_tensor = tf.constant(1.0, dtype=tf.float64)\n",
        "\n",
        "    if firmware_version == 1.0:\n",
        "        frames_per_second = 5\n",
        "        frames_per_second_tensor = tf.constant(5.0, dtype=tf.float64)\n",
        "    else:\n",
        "        frames_per_second = header['dsp_res']\n",
        "        frames_per_second_tensor = tf.constant(header['dsp_res'], dtype=tf.float64)\n",
        "\n",
        "    # Tensorflow\n",
        "    delta_time = 1 / frames_per_second\n",
        "    delta_time_tensor = tf.math.divide(1, frames_per_second_tensor)\n",
        "    matrix_tensor = tf.convert_to_tensor(matrix1, dtype=tf.float64)\n",
        "    matrix_shape_tensor = tf.constant(matrix_tensor.shape[0], dtype=tf.int32)\n",
        "    print(firmware_version)\n",
        "    RR_compute_model = RRComputationModule()\n",
        "    bpm1, frames1, trust_perc1 = RR_compute_model.call(\n",
        "        matrix_tensor,\n",
        "        matrix_shape_tensor,\n",
        "        firmware_version_tensor,\n",
        "        frames_per_second_tensor,\n",
        "        delta_time_tensor\n",
        "        )\n",
        "\n",
        "    # Python\n",
        "    bpm2, frames2, trust_perc2 = python_main(\n",
        "        matrix2,\n",
        "        frames_per_second\n",
        "        )\n",
        "\n",
        "    print(bpm1.numpy()[0])\n",
        "    print(bpm2[0])\n",
        "\n",
        "    assert bpm1.numpy() == bpm2\n",
        "    assert frames1.numpy() == frames2\n",
        "    assert trust_perc1.numpy() == trust_perc2"
      ],
      "metadata": {
        "id": "e-HkNgBNXNYW"
      },
      "execution_count": null,
      "outputs": []
    },
    {
      "cell_type": "code",
      "source": [
        "bpm1.numpy()"
      ],
      "metadata": {
        "id": "TUbPMY-oCDfp"
      },
      "execution_count": null,
      "outputs": []
    },
    {
      "cell_type": "code",
      "source": [
        "tf.config.run_functions_eagerly(False)"
      ],
      "metadata": {
        "id": "ja3MnQnnuumQ"
      },
      "execution_count": null,
      "outputs": []
    },
    {
      "cell_type": "code",
      "source": [
        "RR_compute_model = RRComputationModule()\n",
        "#bpm1, frames1, trust_perc1 = RR_compute_model.call(\n",
        "principal_components = RR_compute_model.call(\n",
        "        matrix_tensor,\n",
        "        matrix_shape_tensor,\n",
        "        firmware_version_tensor,\n",
        "        frames_per_second_tensor,\n",
        "        delta_time_tensor\n",
        "        )"
      ],
      "metadata": {
        "id": "4ybj4ETKUBx8",
        "colab": {
          "base_uri": "https://localhost:8080/"
        },
        "outputId": "a3aa3a15-9beb-4923-e8be-33296a9d7159"
      },
      "execution_count": null,
      "outputs": [
        {
          "output_type": "stream",
          "name": "stdout",
          "text": [
            "Main Module ------------------------\n",
            "Diff Matrix Estimation Eager --------\n",
            "-->>>>>> newSlow --------\n",
            "[1.0697914634402979 1.0630653160185253 1.0599485062361103 ... 1.0702785577517318 1.0632060898042994 1.0545099688087021]\n",
            "Diff Matrix Estimation Graph ---------------------\n",
            "Diff Matrix Estimation Graph ---------------------\n",
            "Diff Matrix Estimation Graph ---------------------\n",
            "Diff Matrix Estimation Graph ---------------------\n",
            "Diff Matrix Estimation Graph ---------------------\n",
            "Diff Matrix Estimation Graph ---------------------\n",
            "Diff Matrix Estimation Graph ---------------------\n",
            "Diff Matrix Estimation Graph ---------------------\n",
            "Diff Matrix Estimation Graph ---------------------\n",
            "Diff Matrix Estimation Graph ---------------------\n",
            "Diff Matrix Estimation Graph ---------------------\n",
            "Diff Matrix Estimation Graph ---------------------\n",
            "Diff Matrix Estimation Graph ---------------------\n",
            "Diff Matrix Estimation Graph ---------------------\n",
            "Diff Matrix Estimation Graph ---------------------\n",
            "Diff Matrix Estimation Graph ---------------------\n",
            "Diff Matrix Estimation Graph ---------------------\n",
            "Diff Matrix Estimation Graph ---------------------\n",
            "Diff Matrix Estimation Graph ---------------------\n",
            "Diff Matrix Estimation Graph ---------------------\n",
            "Diff Matrix Estimation Graph ---------------------\n",
            "Diff Matrix Estimation Graph ---------------------\n",
            "Diff Matrix Estimation Graph ---------------------\n",
            "Diff Matrix Estimation Graph ---------------------\n",
            "Diff Matrix Estimation Graph ---------------------\n",
            "Diff Matrix Estimation Graph ---------------------\n",
            "Diff Matrix Estimation Graph ---------------------\n",
            "Diff Matrix Estimation Graph ---------------------\n",
            "Diff Matrix Estimation Graph ---------------------\n",
            "Diff Matrix Estimation Graph ---------------------\n",
            "Diff Matrix Estimation Graph ---------------------\n",
            "Diff Matrix Estimation Graph ---------------------\n",
            "Diff Matrix Estimation Graph ---------------------\n",
            "Diff Matrix Estimation Graph ---------------------\n",
            "Diff Matrix Estimation Graph ---------------------\n",
            "Diff Matrix Estimation Graph ---------------------\n",
            "Diff Matrix Estimation Graph ---------------------\n",
            "Diff Matrix Estimation Graph ---------------------\n",
            "Diff Matrix Estimation Graph ---------------------\n",
            "Diff Matrix Estimation Graph ---------------------\n",
            "Diff Matrix Estimation Graph ---------------------\n",
            "Diff Matrix Estimation Graph ---------------------\n",
            "Diff Matrix Estimation Graph ---------------------\n",
            "Diff Matrix Estimation Graph ---------------------\n",
            "Diff Matrix Estimation Graph ---------------------\n",
            "Diff Matrix Estimation Graph ---------------------\n",
            "Diff Matrix Estimation Graph ---------------------\n",
            "Diff Matrix Estimation Graph ---------------------\n",
            "Diff Matrix Estimation Graph ---------------------\n",
            "Diff Matrix Estimation Graph ---------------------\n",
            "Diff Matrix Estimation Graph ---------------------\n",
            "Diff Matrix Estimation Graph ---------------------\n",
            "Diff Matrix Estimation Graph ---------------------\n",
            "Diff Matrix Estimation Graph ---------------------\n",
            "Diff Matrix Estimation Graph ---------------------\n",
            "Diff Matrix Estimation Graph ---------------------\n",
            "Diff Matrix Estimation Graph ---------------------\n",
            "Diff Matrix Estimation Graph ---------------------\n",
            "Diff Matrix Estimation Graph ---------------------\n",
            "Diff Matrix Estimation Graph ---------------------\n",
            "Diff Matrix Estimation Graph ---------------------\n",
            "Diff Matrix Estimation Graph ---------------------\n",
            "Diff Matrix Estimation Graph ---------------------\n",
            "Diff Matrix Estimation Graph ---------------------\n",
            "Diff Matrix Estimation Graph ---------------------\n",
            "Diff Matrix Estimation Graph ---------------------\n",
            "Diff Matrix Estimation Graph ---------------------\n",
            "Diff Matrix Estimation Graph ---------------------\n",
            "Diff Matrix Estimation Graph ---------------------\n",
            "Diff Matrix Estimation Graph ---------------------\n",
            "Diff Matrix Estimation Graph ---------------------\n",
            "Diff Matrix Estimation Graph ---------------------\n",
            "Diff Matrix Estimation Graph ---------------------\n",
            "Diff Matrix Estimation Graph ---------------------\n",
            "Diff Matrix Estimation Graph ---------------------\n",
            "Diff Matrix Estimation Graph ---------------------\n",
            "Diff Matrix Estimation Graph ---------------------\n",
            "Diff Matrix Estimation Graph ---------------------\n",
            "Diff Matrix Estimation Graph ---------------------\n",
            "Diff Matrix Estimation Graph ---------------------\n",
            "Diff Matrix Estimation Graph ---------------------\n",
            "Diff Matrix Estimation Graph ---------------------\n",
            "Diff Matrix Estimation Graph ---------------------\n",
            "Diff Matrix Estimation Graph ---------------------\n",
            "Diff Matrix Estimation Graph ---------------------\n",
            "Diff Matrix Estimation Graph ---------------------\n",
            "Diff Matrix Estimation Graph ---------------------\n",
            "Diff Matrix Estimation Graph ---------------------\n",
            "Diff Matrix Estimation Graph ---------------------\n",
            "Diff Matrix Estimation Graph ---------------------\n",
            "Diff Matrix Estimation Graph ---------------------\n",
            "Diff Matrix Estimation Graph ---------------------\n",
            "Diff Matrix Estimation Graph ---------------------\n",
            "Diff Matrix Estimation Graph ---------------------\n",
            "Diff Matrix Estimation Graph ---------------------\n",
            "Diff Matrix Estimation Graph ---------------------\n",
            "Diff Matrix Estimation Graph ---------------------\n",
            "Diff Matrix Estimation Graph ---------------------\n",
            "Diff Matrix Estimation Graph ---------------------\n",
            "Diff Matrix Estimation Graph ---------------------\n",
            "Diff Matrix Estimation Graph ---------------------\n",
            "Diff Matrix Estimation Graph ---------------------\n",
            "Diff Matrix Estimation Graph ---------------------\n",
            "Diff Matrix Estimation Graph ---------------------\n",
            "Diff Matrix Estimation Graph ---------------------\n",
            "Diff Matrix Estimation Graph ---------------------\n",
            "Diff Matrix Estimation Graph ---------------------\n",
            "Diff Matrix Estimation Graph ---------------------\n",
            "Diff Matrix Estimation Graph ---------------------\n",
            "Diff Matrix Estimation Graph ---------------------\n",
            "Diff Matrix Estimation Graph ---------------------\n",
            "Diff Matrix Estimation Graph ---------------------\n",
            "Diff Matrix Estimation Graph ---------------------\n",
            "Diff Matrix Estimation Graph ---------------------\n",
            "Diff Matrix Estimation Graph ---------------------\n",
            "Diff Matrix Estimation Graph ---------------------\n",
            "Diff Matrix Estimation Graph ---------------------\n",
            "Diff Matrix Estimation Graph ---------------------\n",
            "Diff Matrix Estimation Graph ---------------------\n",
            "Diff Matrix Estimation Graph ---------------------\n",
            "Diff Matrix Estimation Graph ---------------------\n",
            "Diff Matrix Estimation Graph ---------------------\n",
            "Diff Matrix Estimation Graph ---------------------\n",
            "Diff Matrix Estimation Graph ---------------------\n",
            "Diff Matrix Estimation Graph ---------------------\n",
            "Diff Matrix Estimation Graph ---------------------\n",
            "Diff Matrix Estimation Graph ---------------------\n",
            "Diff Matrix Estimation Graph ---------------------\n",
            "Diff Matrix Estimation Graph ---------------------\n",
            "Diff Matrix Estimation Graph ---------------------\n",
            "Diff Matrix Estimation Graph ---------------------\n",
            "Diff Matrix Estimation Graph ---------------------\n",
            "Diff Matrix Estimation Graph ---------------------\n",
            "Diff Matrix Estimation Graph ---------------------\n",
            "Diff Matrix Estimation Graph ---------------------\n",
            "Diff Matrix Estimation Graph ---------------------\n",
            "Diff Matrix Estimation Graph ---------------------\n",
            "Diff Matrix Estimation Graph ---------------------\n",
            "Diff Matrix Estimation Graph ---------------------\n",
            "Diff Matrix Estimation Graph ---------------------\n",
            "Diff Matrix Estimation Graph ---------------------\n",
            "Diff Matrix Estimation Graph ---------------------\n",
            "Diff Matrix Estimation Graph ---------------------\n",
            "Diff Matrix Estimation Graph ---------------------\n",
            "Diff Matrix Estimation Graph ---------------------\n",
            "Diff Matrix Estimation Graph ---------------------\n",
            "Diff Matrix Estimation Graph ---------------------\n",
            "Diff Matrix Estimation Graph ---------------------\n",
            "Diff Matrix Estimation Graph ---------------------\n",
            "Diff Matrix Estimation Graph ---------------------\n",
            "Diff Matrix Estimation Graph ---------------------\n",
            "Diff Matrix Estimation Graph ---------------------\n",
            "Diff Matrix Estimation Graph ---------------------\n",
            "Diff Matrix Estimation Graph ---------------------\n",
            "Diff Matrix Estimation Graph ---------------------\n",
            "Diff Matrix Estimation Graph ---------------------\n",
            "Diff Matrix Estimation Graph ---------------------\n",
            "Diff Matrix Estimation Graph ---------------------\n",
            "Diff Matrix Estimation Graph ---------------------\n",
            "Diff Matrix Estimation Graph ---------------------\n",
            "Diff Matrix Estimation Graph ---------------------\n",
            "Diff Matrix Estimation Graph ---------------------\n",
            "Diff Matrix Estimation Graph ---------------------\n",
            "Diff Matrix Estimation Graph ---------------------\n",
            "Diff Matrix Estimation Graph ---------------------\n",
            "Diff Matrix Estimation Graph ---------------------\n",
            "Diff Matrix Estimation Graph ---------------------\n",
            "Diff Matrix Estimation Graph ---------------------\n",
            "Diff Matrix Estimation Graph ---------------------\n",
            "Diff Matrix Estimation Graph ---------------------\n",
            "Diff Matrix Estimation Graph ---------------------\n",
            "Diff Matrix Estimation Graph ---------------------\n",
            "Diff Matrix Estimation Graph ---------------------\n",
            "Diff Matrix Estimation Graph ---------------------\n",
            "Diff Matrix Estimation Graph ---------------------\n",
            "Diff Matrix Estimation Graph ---------------------\n",
            "Diff Matrix Estimation Graph ---------------------\n",
            "Diff Matrix Estimation Graph ---------------------\n",
            "Diff Matrix Estimation Graph ---------------------\n",
            "Diff Matrix Estimation Graph ---------------------\n",
            "Diff Matrix Estimation Graph ---------------------\n",
            "Diff Matrix Estimation Graph ---------------------\n",
            "Diff Matrix Estimation Graph ---------------------\n",
            "Diff Matrix Estimation Graph ---------------------\n",
            "Diff Matrix Estimation Graph ---------------------\n",
            "Diff Matrix Estimation Graph ---------------------\n",
            "Diff Matrix Estimation Graph ---------------------\n",
            "Diff Matrix Estimation Graph ---------------------\n",
            "Diff Matrix Estimation Graph ---------------------\n",
            "Diff Matrix Estimation Graph ---------------------\n",
            "Diff Matrix Estimation Graph ---------------------\n",
            "Diff Matrix Estimation Graph ---------------------\n",
            "Diff Matrix Estimation Graph ---------------------\n",
            "Diff Matrix Estimation Graph ---------------------\n",
            "Diff Matrix Estimation Graph ---------------------\n",
            "Diff Matrix Estimation Graph ---------------------\n",
            "Diff Matrix Estimation Graph ---------------------\n",
            "Diff Matrix Estimation Graph ---------------------\n",
            "Diff Matrix Estimation Graph ---------------------\n",
            "Diff Matrix Estimation Graph ---------------------\n",
            "Diff Matrix Estimation Graph ---------------------\n",
            "Diff Matrix Estimation Graph ---------------------\n",
            "Diff Matrix Estimation Graph ---------------------\n",
            "Diff Matrix Estimation Graph ---------------------\n",
            "Diff Matrix Estimation Graph ---------------------\n",
            "Diff Matrix Estimation Graph ---------------------\n",
            "Diff Matrix Estimation Graph ---------------------\n",
            "Diff Matrix Estimation Graph ---------------------\n",
            "Diff Matrix Estimation Graph ---------------------\n",
            "Diff Matrix Estimation Graph ---------------------\n",
            "Diff Matrix Estimation Graph ---------------------\n",
            "Diff Matrix Estimation Graph ---------------------\n",
            "Diff Matrix Estimation Graph ---------------------\n",
            "Diff Matrix Estimation Graph ---------------------\n",
            "Diff Matrix Estimation Graph ---------------------\n",
            "Diff Matrix Estimation Graph ---------------------\n",
            "Diff Matrix Estimation Graph ---------------------\n",
            "Diff Matrix Estimation Graph ---------------------\n",
            "Diff Matrix Estimation Graph ---------------------\n",
            "Diff Matrix Estimation Graph ---------------------\n",
            "Diff Matrix Estimation Graph ---------------------\n",
            "Diff Matrix Estimation Graph ---------------------\n",
            "Diff Matrix Estimation Graph ---------------------\n",
            "Diff Matrix Estimation Graph ---------------------\n",
            "Diff Matrix Estimation Graph ---------------------\n",
            "Diff Matrix Estimation Graph ---------------------\n",
            "Diff Matrix Estimation Graph ---------------------\n",
            "Diff Matrix Estimation Graph ---------------------\n",
            "Diff Matrix Estimation Graph ---------------------\n",
            "Diff Matrix Estimation Graph ---------------------\n",
            "Diff Matrix Estimation Graph ---------------------\n",
            "Diff Matrix Estimation Graph ---------------------\n",
            "Diff Matrix Estimation Graph ---------------------\n",
            "Diff Matrix Estimation Graph ---------------------\n",
            "Diff Matrix Estimation Graph ---------------------\n",
            "Diff Matrix Estimation Graph ---------------------\n",
            "Diff Matrix Estimation Graph ---------------------\n",
            "Diff Matrix Estimation Graph ---------------------\n",
            "Diff Matrix Estimation Graph ---------------------\n",
            "Diff Matrix Estimation Graph ---------------------\n",
            "Diff Matrix Estimation Graph ---------------------\n",
            "Diff Matrix Estimation Graph ---------------------\n",
            "Diff Matrix Estimation Graph ---------------------\n",
            "Diff Matrix Estimation Graph ---------------------\n",
            "Diff Matrix Estimation Graph ---------------------\n",
            "Diff Matrix Estimation Graph ---------------------\n",
            "Diff Matrix Estimation Graph ---------------------\n",
            "Diff Matrix Estimation Graph ---------------------\n",
            "Diff Matrix Estimation Graph ---------------------\n",
            "Diff Matrix Estimation Graph ---------------------\n",
            "Diff Matrix Estimation Graph ---------------------\n",
            "Diff Matrix Estimation Graph ---------------------\n",
            "Diff Matrix Estimation Graph ---------------------\n",
            "Diff Matrix Estimation Graph ---------------------\n",
            "Diff Matrix Estimation Graph ---------------------\n",
            "Diff Matrix Estimation Graph ---------------------\n",
            "Diff Matrix Estimation Graph ---------------------\n",
            "Diff Matrix Estimation Graph ---------------------\n",
            "Diff Matrix Estimation Graph ---------------------\n",
            "Diff Matrix Estimation Graph ---------------------\n",
            "Diff Matrix Estimation Graph ---------------------\n",
            "Diff Matrix Estimation Graph ---------------------\n",
            "Diff Matrix Estimation Graph ---------------------\n",
            "Diff Matrix Estimation Graph ---------------------\n",
            "Diff Matrix Estimation Graph ---------------------\n",
            "Diff Matrix Estimation Graph ---------------------\n",
            "Diff Matrix Estimation Graph ---------------------\n",
            "Diff Matrix Estimation Graph ---------------------\n",
            "Diff Matrix Estimation Graph ---------------------\n",
            "Diff Matrix Estimation Graph ---------------------\n",
            "Diff Matrix Estimation Graph ---------------------\n",
            "Diff Matrix Estimation Graph ---------------------\n",
            "Diff Matrix Estimation Graph ---------------------\n",
            "Diff Matrix Estimation Graph ---------------------\n",
            "Diff Matrix Estimation Graph ---------------------\n",
            "Diff Matrix Estimation Graph ---------------------\n",
            "Diff Matrix Estimation Graph ---------------------\n",
            "Diff Matrix Estimation Graph ---------------------\n",
            "Diff Matrix Estimation Graph ---------------------\n",
            "Diff Matrix Estimation Graph ---------------------\n",
            "Diff Matrix Estimation Graph ---------------------\n",
            "Diff Matrix Estimation Graph ---------------------\n",
            "Diff Matrix Estimation Graph ---------------------\n",
            "Diff Matrix Estimation Graph ---------------------\n",
            "Diff Matrix Estimation Graph ---------------------\n",
            "Diff Matrix Estimation Graph ---------------------\n",
            "Diff Matrix Estimation Graph ---------------------\n",
            "Diff Matrix Estimation Graph ---------------------\n",
            "Diff Matrix Estimation Graph ---------------------\n",
            "Diff Matrix Estimation Graph ---------------------\n",
            "Diff Matrix Estimation Graph ---------------------\n",
            "Diff Matrix Estimation Graph ---------------------\n",
            "Diff Matrix Estimation Graph ---------------------\n",
            "Diff Matrix Estimation Graph ---------------------\n",
            "Diff Matrix Estimation Graph ---------------------\n",
            "Diff Matrix Estimation Graph ---------------------\n",
            "Diff Matrix Estimation Graph ---------------------\n",
            "Diff Matrix Estimation Graph ---------------------\n",
            "Diff Matrix Estimation Graph ---------------------\n",
            "Diff Matrix Estimation Graph ---------------------\n",
            "Diff Matrix Estimation Graph ---------------------\n",
            "Diff Matrix Estimation Graph ---------------------\n",
            "Diff Matrix Estimation Graph ---------------------\n",
            "Diff Matrix Estimation Graph ---------------------\n",
            "Diff Matrix Estimation Graph ---------------------\n",
            "Diff Matrix Estimation Graph ---------------------\n",
            "Diff Matrix Estimation Graph ---------------------\n",
            "Diff Matrix Estimation Graph ---------------------\n",
            "Diff Matrix Estimation Graph ---------------------\n",
            "Diff Matrix Estimation Graph ---------------------\n",
            "Diff Matrix Estimation Graph ---------------------\n",
            "Diff Matrix Estimation Graph ---------------------\n",
            "Diff Matrix Estimation Graph ---------------------\n",
            "Diff Matrix Estimation Graph ---------------------\n",
            "Diff Matrix Estimation Graph ---------------------\n",
            "Diff Matrix Estimation Graph ---------------------\n",
            "Diff Matrix Estimation Graph ---------------------\n",
            "Diff Matrix Estimation Graph ---------------------\n",
            "Diff Matrix Estimation Graph ---------------------\n",
            "Diff Matrix Estimation Graph ---------------------\n",
            "Diff Matrix Estimation Graph ---------------------\n",
            "Diff Matrix Estimation Graph ---------------------\n",
            "Diff Matrix Estimation Graph ---------------------\n",
            "Diff Matrix Estimation Graph ---------------------\n",
            "Diff Matrix Estimation Graph ---------------------\n",
            "Diff Matrix Estimation Graph ---------------------\n",
            "Diff Matrix Estimation Graph ---------------------\n",
            "Diff Matrix Estimation Graph ---------------------\n",
            "Diff Matrix Estimation Graph ---------------------\n",
            "Diff Matrix Estimation Graph ---------------------\n",
            "Diff Matrix Estimation Graph ---------------------\n",
            "Diff Matrix Estimation Graph ---------------------\n",
            "Diff Matrix Estimation Graph ---------------------\n",
            "Diff Matrix Estimation Graph ---------------------\n",
            "Diff Matrix Estimation Graph ---------------------\n",
            "Diff Matrix Estimation Graph ---------------------\n",
            "Diff Matrix Estimation Graph ---------------------\n",
            "Diff Matrix Estimation Graph ---------------------\n",
            "Diff Matrix Estimation Graph ---------------------\n",
            "Diff Matrix Estimation Graph ---------------------\n",
            "Diff Matrix Estimation Graph ---------------------\n",
            "Diff Matrix Estimation Graph ---------------------\n",
            "Diff Matrix Estimation Graph ---------------------\n",
            "Diff Matrix Estimation Graph ---------------------\n",
            "Diff Matrix Estimation Graph ---------------------\n",
            "Diff Matrix Estimation Graph ---------------------\n",
            "Diff Matrix Estimation Graph ---------------------\n",
            "Diff Matrix Estimation Graph ---------------------\n",
            "Diff Matrix Estimation Graph ---------------------\n",
            "Diff Matrix Estimation Graph ---------------------\n",
            "Diff Matrix Estimation Graph ---------------------\n",
            "Diff Matrix Estimation Graph ---------------------\n",
            "Diff Matrix Estimation Graph ---------------------\n",
            "Diff Matrix Estimation Graph ---------------------\n",
            "Diff Matrix Estimation Graph ---------------------\n",
            "Diff Matrix Estimation Graph ---------------------\n",
            "Diff Matrix Estimation Graph ---------------------\n",
            "Diff Matrix Estimation Graph ---------------------\n",
            "Diff Matrix Estimation Graph ---------------------\n",
            "Diff Matrix Estimation Graph ---------------------\n",
            "Diff Matrix Estimation Graph ---------------------\n",
            "Diff Matrix Estimation Graph ---------------------\n",
            "Diff Matrix Estimation Graph ---------------------\n",
            "Diff Matrix Estimation Graph ---------------------\n",
            "Diff Matrix Estimation Graph ---------------------\n",
            "Diff Matrix Estimation Graph ---------------------\n",
            "Diff Matrix Estimation Graph ---------------------\n",
            "Diff Matrix Estimation Graph ---------------------\n",
            "Diff Matrix Estimation Graph ---------------------\n",
            "Diff Matrix Estimation Graph ---------------------\n",
            "Diff Matrix Estimation Graph ---------------------\n",
            "Diff Matrix Estimation Graph ---------------------\n",
            "Diff Matrix Estimation Graph ---------------------\n",
            "Diff Matrix Estimation Graph ---------------------\n",
            "Diff Matrix Estimation Graph ---------------------\n",
            "Diff Matrix Estimation Graph ---------------------\n",
            "Diff Matrix Estimation Graph ---------------------\n",
            "Diff Matrix Estimation Graph ---------------------\n",
            "Diff Matrix Estimation Graph ---------------------\n",
            "Diff Matrix Estimation Graph ---------------------\n",
            "Diff Matrix Estimation Graph ---------------------\n",
            "Diff Matrix Estimation Graph ---------------------\n",
            "Diff Matrix Estimation Graph ---------------------\n",
            "Diff Matrix Estimation Graph ---------------------\n",
            "Diff Matrix Estimation Graph ---------------------\n",
            "Diff Matrix Estimation Graph ---------------------\n",
            "Diff Matrix Estimation Graph ---------------------\n",
            "Diff Matrix Estimation Graph ---------------------\n",
            "Diff Matrix Estimation Graph ---------------------\n",
            "Diff Matrix Estimation Graph ---------------------\n",
            "Diff Matrix Estimation Graph ---------------------\n",
            "Diff Matrix Estimation Graph ---------------------\n",
            "Diff Matrix Estimation Graph ---------------------\n",
            "Diff Matrix Estimation Graph ---------------------\n",
            "Diff Matrix Estimation Graph ---------------------\n",
            "Diff Matrix Estimation Graph ---------------------\n",
            "Diff Matrix Estimation Graph ---------------------\n",
            "Diff Matrix Estimation Graph ---------------------\n",
            "Diff Matrix Estimation Graph ---------------------\n",
            "Diff Matrix Estimation Graph ---------------------\n",
            "Diff Matrix Estimation Graph ---------------------\n",
            "Diff Matrix Estimation Graph ---------------------\n",
            "Diff Matrix Estimation Graph ---------------------\n",
            "Diff Matrix Estimation Graph ---------------------\n",
            "Diff Matrix Estimation Graph ---------------------\n",
            "Diff Matrix Estimation Graph ---------------------\n",
            "Diff Matrix Estimation Graph ---------------------\n",
            "Diff Matrix Estimation Graph ---------------------\n",
            "Diff Matrix Estimation Graph ---------------------\n",
            "Diff Matrix Estimation Graph ---------------------\n",
            "Diff Matrix Estimation Graph ---------------------\n",
            "Diff Matrix Estimation Graph ---------------------\n",
            "Diff Matrix Estimation Graph ---------------------\n",
            "Diff Matrix Estimation Graph ---------------------\n",
            "Diff Matrix Estimation Graph ---------------------\n",
            "Diff Matrix Estimation Graph ---------------------\n",
            "Diff Matrix Estimation Graph ---------------------\n",
            "Diff Matrix Estimation Graph ---------------------\n",
            "Diff Matrix Estimation Graph ---------------------\n",
            "Diff Matrix Estimation Graph ---------------------\n",
            "Diff Matrix Estimation Graph ---------------------\n",
            "Diff Matrix Estimation Graph ---------------------\n",
            "Diff Matrix Estimation Graph ---------------------\n",
            "Diff Matrix Estimation Graph ---------------------\n",
            "Diff Matrix Estimation Graph ---------------------\n",
            "Diff Matrix Estimation Graph ---------------------\n",
            "Diff Matrix Estimation Graph ---------------------\n",
            "Diff Matrix Estimation Graph ---------------------\n",
            "Diff Matrix Estimation Graph ---------------------\n",
            "Diff Matrix Estimation Graph ---------------------\n",
            "Diff Matrix Estimation Graph ---------------------\n",
            "Diff Matrix Estimation Graph ---------------------\n",
            "Diff Matrix Estimation Graph ---------------------\n",
            "Diff Matrix Estimation Graph ---------------------\n",
            "Diff Matrix Estimation Graph ---------------------\n",
            "Diff Matrix Estimation Graph ---------------------\n",
            "Diff Matrix Estimation Graph ---------------------\n",
            "Diff Matrix Estimation Graph ---------------------\n",
            "Diff Matrix Estimation Graph ---------------------\n",
            "Diff Matrix Estimation Graph ---------------------\n",
            "Diff Matrix Estimation Graph ---------------------\n",
            "Diff Matrix Estimation Graph ---------------------\n",
            "Diff Matrix Estimation Graph ---------------------\n",
            "Diff Matrix Estimation Graph ---------------------\n",
            "Diff Matrix Estimation Graph ---------------------\n",
            "Diff Matrix Estimation Graph ---------------------\n",
            "Diff Matrix Estimation Graph ---------------------\n",
            "Diff Matrix Estimation Graph ---------------------\n",
            "Diff Matrix Estimation Graph ---------------------\n",
            "Diff Matrix Estimation Graph ---------------------\n",
            "Diff Matrix Estimation Graph ---------------------\n",
            "Diff Matrix Estimation Graph ---------------------\n",
            "Diff Matrix Estimation Graph ---------------------\n",
            "Diff Matrix Estimation Graph ---------------------\n",
            "Diff Matrix Estimation Graph ---------------------\n",
            "Diff Matrix Estimation Graph ---------------------\n",
            "Diff Matrix Estimation Graph ---------------------\n",
            "Diff Matrix Estimation Graph ---------------------\n",
            "Diff Matrix Estimation Graph ---------------------\n",
            "Diff Matrix Estimation Graph ---------------------\n",
            "Diff Matrix Estimation Graph ---------------------\n",
            "Diff Matrix Estimation Graph ---------------------\n",
            "Diff Matrix Estimation Graph ---------------------\n",
            "Diff Matrix Estimation Graph ---------------------\n",
            "Diff Matrix Estimation Graph ---------------------\n",
            "Diff Matrix Estimation Graph ---------------------\n",
            "Diff Matrix Estimation Graph ---------------------\n",
            "Diff Matrix Estimation Graph ---------------------\n",
            "Diff Matrix Estimation Graph ---------------------\n",
            "Diff Matrix Estimation Graph ---------------------\n",
            "Diff Matrix Estimation Graph ---------------------\n",
            "Diff Matrix Estimation Graph ---------------------\n",
            "Diff Matrix Estimation Graph ---------------------\n",
            "Diff Matrix Estimation Graph ---------------------\n",
            "Diff Matrix Estimation Graph ---------------------\n",
            "Diff Matrix Estimation Graph ---------------------\n",
            "Diff Matrix Estimation Graph ---------------------\n",
            "Diff Matrix Estimation Graph ---------------------\n",
            "Diff Matrix Estimation Graph ---------------------\n",
            "Diff Matrix Estimation Graph ---------------------\n",
            "Diff Matrix Estimation Graph ---------------------\n",
            "Diff Matrix Estimation Graph ---------------------\n",
            "Diff Matrix Estimation Graph ---------------------\n",
            "Diff Matrix Estimation Graph ---------------------\n",
            "Diff Matrix Estimation Graph ---------------------\n",
            "Diff Matrix Estimation Graph ---------------------\n",
            "Diff Matrix Estimation Graph ---------------------\n",
            "Diff Matrix Estimation Graph ---------------------\n",
            "Diff Matrix Estimation Graph ---------------------\n",
            "Diff Matrix Estimation Graph ---------------------\n",
            "Diff Matrix Estimation Graph ---------------------\n",
            "Diff Matrix Estimation Graph ---------------------\n",
            "Diff Matrix Estimation Graph ---------------------\n",
            "Diff Matrix Estimation Graph ---------------------\n",
            "Diff Matrix Estimation Graph ---------------------\n",
            "Diff Matrix Estimation Graph ---------------------\n",
            "Diff Matrix Estimation Graph ---------------------\n",
            "Diff Matrix Estimation Graph ---------------------\n",
            "Diff Matrix Estimation Graph ---------------------\n",
            "Diff Matrix Estimation Graph ---------------------\n",
            "Diff Matrix Estimation Graph ---------------------\n",
            "Diff Matrix Estimation Graph ---------------------\n",
            "Diff Matrix Estimation Graph ---------------------\n",
            "Diff Matrix Estimation Graph ---------------------\n",
            "Diff Matrix Estimation Graph ---------------------\n",
            "Diff Matrix Estimation Graph ---------------------\n",
            "Diff Matrix Estimation Graph ---------------------\n",
            "Diff Matrix Estimation Graph ---------------------\n",
            "Diff Matrix Estimation Graph ---------------------\n",
            "Diff Matrix Estimation Graph ---------------------\n",
            "Diff Matrix Estimation Graph ---------------------\n",
            "Diff Matrix Estimation Graph ---------------------\n",
            "Diff Matrix Estimation Graph ---------------------\n",
            "Diff Matrix Estimation Graph ---------------------\n",
            "Diff Matrix Estimation Graph ---------------------\n",
            "Diff Matrix Estimation Graph ---------------------\n",
            "Diff Matrix Estimation Graph ---------------------\n",
            "Diff Matrix Estimation Graph ---------------------\n",
            "Diff Matrix Estimation Graph ---------------------\n",
            "Diff Matrix Estimation Graph ---------------------\n",
            "Diff Matrix Estimation Graph ---------------------\n",
            "Diff Matrix Estimation Graph ---------------------\n",
            "Diff Matrix Estimation Graph ---------------------\n",
            "Diff Matrix Estimation Graph ---------------------\n",
            "Diff Matrix Estimation Graph ---------------------\n",
            "Diff Matrix Estimation Graph ---------------------\n",
            "Diff Matrix Estimation Graph ---------------------\n",
            "Diff Matrix Estimation Graph ---------------------\n",
            "Diff Matrix Estimation Graph ---------------------\n",
            "Diff Matrix Estimation Graph ---------------------\n",
            "Diff Matrix Estimation Graph ---------------------\n",
            "Diff Matrix Estimation Graph ---------------------\n",
            "Diff Matrix Estimation Graph ---------------------\n",
            "Diff Matrix Estimation Graph ---------------------\n",
            "Diff Matrix Estimation Graph ---------------------\n",
            "Diff Matrix Estimation Graph ---------------------\n",
            "Diff Matrix Estimation Graph ---------------------\n",
            "Diff Matrix Estimation Graph ---------------------\n",
            "Diff Matrix Estimation Graph ---------------------\n",
            "Diff Matrix Estimation Graph ---------------------\n",
            "Diff Matrix Estimation Graph ---------------------\n",
            "Diff Matrix Estimation Graph ---------------------\n",
            "Diff Matrix Estimation Graph ---------------------\n",
            "Diff Matrix Estimation Graph ---------------------\n",
            "Diff Matrix Estimation Graph ---------------------\n",
            "Diff Matrix Estimation Graph ---------------------\n",
            "Diff Matrix Estimation Graph ---------------------\n",
            "Diff Matrix Estimation Graph ---------------------\n",
            "Diff Matrix Estimation Graph ---------------------\n",
            "Diff Matrix Estimation Graph ---------------------\n",
            "Diff Matrix Estimation Graph ---------------------\n",
            "Diff Matrix Estimation Graph ---------------------\n",
            "Diff Matrix Estimation Graph ---------------------\n",
            "Diff Matrix Estimation Graph ---------------------\n",
            "Diff Matrix Estimation Graph ---------------------\n",
            "Diff Matrix Estimation Graph ---------------------\n",
            "Diff Matrix Estimation Graph ---------------------\n",
            "Diff Matrix Estimation Graph ---------------------\n",
            "Diff Matrix Estimation Graph ---------------------\n",
            "Diff Matrix Estimation Graph ---------------------\n",
            "Diff Matrix Estimation Graph ---------------------\n",
            "Diff Matrix Estimation Graph ---------------------\n",
            "Diff Matrix Estimation Graph ---------------------\n",
            "Diff Matrix Estimation Graph ---------------------\n",
            "Diff Matrix Estimation Graph ---------------------\n",
            "Diff Matrix Estimation Graph ---------------------\n",
            "Diff Matrix Estimation Graph ---------------------\n",
            "Diff Matrix Estimation Graph ---------------------\n",
            "Diff Matrix Estimation Graph ---------------------\n",
            "Diff Matrix Estimation Graph ---------------------\n",
            "Diff Matrix Estimation Graph ---------------------\n",
            "Diff Matrix Estimation Graph ---------------------\n",
            "Diff Matrix Estimation Graph ---------------------\n",
            "Diff Matrix Estimation Graph ---------------------\n",
            "Diff Matrix Estimation Graph ---------------------\n",
            "Diff Matrix Estimation Graph ---------------------\n",
            "Diff Matrix Estimation Graph ---------------------\n",
            "Diff Matrix Estimation Graph ---------------------\n",
            "Diff Matrix Estimation Graph ---------------------\n",
            "Diff Matrix Estimation Graph ---------------------\n",
            "Diff Matrix Estimation Graph ---------------------\n",
            "Diff Matrix Estimation Graph ---------------------\n",
            "Diff Matrix Estimation Graph ---------------------\n",
            "Diff Matrix Estimation Graph ---------------------\n",
            "Diff Matrix Estimation Graph ---------------------\n",
            "Diff Matrix Estimation Graph ---------------------\n",
            "Diff Matrix Estimation Graph ---------------------\n",
            "Diff Matrix Estimation Graph ---------------------\n",
            "Diff Matrix Estimation Graph ---------------------\n",
            "Diff Matrix Estimation Graph ---------------------\n",
            "Diff Matrix Estimation Graph ---------------------\n",
            "Diff Matrix Estimation Graph ---------------------\n",
            "Diff Matrix Estimation Graph ---------------------\n",
            "Diff Matrix Estimation Graph ---------------------\n",
            "Diff Matrix Estimation Graph ---------------------\n",
            "Diff Matrix Estimation Graph ---------------------\n",
            "Diff Matrix Estimation Graph ---------------------\n",
            "Diff Matrix Estimation Graph ---------------------\n",
            "Diff Matrix Estimation Graph ---------------------\n",
            "Diff Matrix Estimation Graph ---------------------\n"
          ]
        }
      ]
    },
    {
      "cell_type": "code",
      "source": [
        "principal_components"
      ],
      "metadata": {
        "colab": {
          "base_uri": "https://localhost:8080/"
        },
        "id": "2F8jO8_hGnVn",
        "outputId": "00c4c01a-5567-412d-f5e7-f914f030fe56"
      },
      "execution_count": null,
      "outputs": [
        {
          "output_type": "execute_result",
          "data": {
            "text/plain": [
              "<tf.Tensor: shape=(600, 10), dtype=float64, numpy=\n",
              "array([[ 0.00000000e+00, -6.66133815e-16, -3.33066907e-16, ...,\n",
              "         2.22044605e-16, -4.44089210e-16, -7.77156117e-16],\n",
              "       [ 2.37862023e-02,  2.92682961e-02,  2.97841376e-02, ...,\n",
              "         2.25685327e-02,  2.37150319e-02,  1.83979966e-02],\n",
              "       [ 4.01463375e-02,  3.43793686e-02,  3.47357337e-02, ...,\n",
              "         3.31765530e-02,  3.33615243e-02,  3.70986870e-02],\n",
              "       ...,\n",
              "       [ 3.53707325e-03,  2.72888994e-03,  1.59002660e-03, ...,\n",
              "         2.50930533e-03,  1.31839113e-03,  1.15043959e-03],\n",
              "       [ 2.25127048e-04,  7.81541836e-04,  1.85419083e-03, ...,\n",
              "        -1.29055269e-03,  4.20614972e-04,  6.07125419e-04],\n",
              "       [-2.33633529e-03, -1.16057662e-04, -3.47239160e-05, ...,\n",
              "        -1.23095844e-03, -6.15224044e-04,  6.67135710e-04]])>"
            ]
          },
          "metadata": {},
          "execution_count": 15
        }
      ]
    },
    {
      "cell_type": "code",
      "source": [
        "RR_compute_model = RRComputationModule()\n",
        "tf.saved_model.save(\n",
        "    RR_compute_model,\n",
        "    'my_model',\n",
        "    signatures=RR_compute_model.call.get_concrete_function()\n",
        "    )"
      ],
      "metadata": {
        "id": "YzzJKXrUQzsF",
        "colab": {
          "base_uri": "https://localhost:8080/"
        },
        "outputId": "1895b1d9-4b2f-41d6-c410-49a9372c3eeb"
      },
      "execution_count": null,
      "outputs": [
        {
          "output_type": "stream",
          "name": "stdout",
          "text": [
            "Main Module ------------------------\n",
            "Diff Matrix Estimation Eager --------\n",
            "Variables Eager -----\n",
            "View as Windows Eager ---------------\n",
            "Reshape Eager -------------------\n",
            "PCA Eager ------------------\n",
            "Signal Detrend Eager -------------\n",
            "Differentiation Eager ---------------\n",
            "Compute Fft Eager -------------------\n",
            "Find peaks Eager -----------------------\n",
            "Get Harmonic Indices Eager -------------------\n",
            "Add Harmonic Energy Eager -------------------------\n",
            "BPM Compute Eager ----------------------\n",
            "Ya terminé for\n",
            "Ya terminé afuera\n",
            "Main Module ------------------------\n",
            "Diff Matrix Estimation Eager --------\n",
            "Variables Eager -----\n",
            "View as Windows Eager ---------------\n",
            "Reshape Eager -------------------\n",
            "PCA Eager ------------------\n",
            "Signal Detrend Eager -------------\n",
            "Differentiation Eager ---------------\n",
            "Compute Fft Eager -------------------\n",
            "Find peaks Eager -----------------------\n",
            "Get Harmonic Indices Eager -------------------\n",
            "Add Harmonic Energy Eager -------------------------\n",
            "BPM Compute Eager ----------------------\n",
            "Ya terminé for\n",
            "Ya terminé afuera\n"
          ]
        }
      ]
    },
    {
      "cell_type": "code",
      "source": [
        "model = tf.saved_model.load('my_model')"
      ],
      "metadata": {
        "id": "ShyANN1qelY7"
      },
      "execution_count": null,
      "outputs": []
    },
    {
      "cell_type": "code",
      "source": [
        "#bpm1, frames1, trust_perc1 = model(\n",
        "diff_matrix2 = model.call(\n",
        "        matrix_tensor,\n",
        "        matrix_shape_tensor,\n",
        "        firmware_version_tensor,\n",
        "        frames_per_second_tensor,\n",
        "        delta_time_tensor\n",
        "        )"
      ],
      "metadata": {
        "id": "dxRf3uDWer_2",
        "colab": {
          "base_uri": "https://localhost:8080/"
        },
        "outputId": "c424cd76-e85b-424d-d1ad-6d862204cd98"
      },
      "execution_count": null,
      "outputs": [
        {
          "output_type": "stream",
          "name": "stdout",
          "text": [
            "Diff Matrix Estimation Graph ---------------------\n",
            "View as Windows Graph ---------------------\n",
            "Diff Matrix Estimation Graph ---------------------\n",
            "Diff Matrix Estimation Graph ---------------------\n",
            "Diff Matrix Estimation Graph ---------------------\n",
            "Diff Matrix Estimation Graph ---------------------\n",
            "Diff Matrix Estimation Graph ---------------------\n",
            "Diff Matrix Estimation Graph ---------------------\n",
            "Diff Matrix Estimation Graph ---------------------\n",
            "Diff Matrix Estimation Graph ---------------------\n",
            "Diff Matrix Estimation Graph ---------------------\n",
            "Diff Matrix Estimation Graph ---------------------\n",
            "Diff Matrix Estimation Graph ---------------------\n",
            "Diff Matrix Estimation Graph ---------------------\n",
            "Diff Matrix Estimation Graph ---------------------\n",
            "Diff Matrix Estimation Graph ---------------------\n",
            "Diff Matrix Estimation Graph ---------------------\n",
            "Diff Matrix Estimation Graph ---------------------\n",
            "Diff Matrix Estimation Graph ---------------------\n",
            "Diff Matrix Estimation Graph ---------------------\n",
            "Diff Matrix Estimation Graph ---------------------\n",
            "Diff Matrix Estimation Graph ---------------------\n",
            "Diff Matrix Estimation Graph ---------------------\n",
            "Diff Matrix Estimation Graph ---------------------\n",
            "Diff Matrix Estimation Graph ---------------------\n",
            "Diff Matrix Estimation Graph ---------------------\n",
            "Diff Matrix Estimation Graph ---------------------\n",
            "Diff Matrix Estimation Graph ---------------------\n",
            "Diff Matrix Estimation Graph ---------------------\n",
            "Diff Matrix Estimation Graph ---------------------\n",
            "Diff Matrix Estimation Graph ---------------------\n",
            "Diff Matrix Estimation Graph ---------------------\n",
            "Diff Matrix Estimation Graph ---------------------\n",
            "Diff Matrix Estimation Graph ---------------------\n",
            "Diff Matrix Estimation Graph ---------------------\n",
            "Diff Matrix Estimation Graph ---------------------\n",
            "Diff Matrix Estimation Graph ---------------------\n",
            "Diff Matrix Estimation Graph ---------------------\n",
            "Diff Matrix Estimation Graph ---------------------\n",
            "Diff Matrix Estimation Graph ---------------------\n",
            "Diff Matrix Estimation Graph ---------------------\n",
            "Diff Matrix Estimation Graph ---------------------\n",
            "Diff Matrix Estimation Graph ---------------------\n",
            "Diff Matrix Estimation Graph ---------------------\n",
            "Diff Matrix Estimation Graph ---------------------\n",
            "Diff Matrix Estimation Graph ---------------------\n",
            "Diff Matrix Estimation Graph ---------------------\n",
            "Diff Matrix Estimation Graph ---------------------\n",
            "Diff Matrix Estimation Graph ---------------------\n",
            "Diff Matrix Estimation Graph ---------------------\n",
            "Diff Matrix Estimation Graph ---------------------\n",
            "Diff Matrix Estimation Graph ---------------------\n",
            "Diff Matrix Estimation Graph ---------------------\n",
            "Diff Matrix Estimation Graph ---------------------\n",
            "Diff Matrix Estimation Graph ---------------------\n",
            "Diff Matrix Estimation Graph ---------------------\n",
            "Diff Matrix Estimation Graph ---------------------\n",
            "Diff Matrix Estimation Graph ---------------------\n",
            "Diff Matrix Estimation Graph ---------------------\n",
            "Diff Matrix Estimation Graph ---------------------\n",
            "Diff Matrix Estimation Graph ---------------------\n",
            "Diff Matrix Estimation Graph ---------------------\n",
            "Diff Matrix Estimation Graph ---------------------\n",
            "Diff Matrix Estimation Graph ---------------------\n",
            "Diff Matrix Estimation Graph ---------------------\n",
            "Diff Matrix Estimation Graph ---------------------\n",
            "Diff Matrix Estimation Graph ---------------------\n",
            "Diff Matrix Estimation Graph ---------------------\n",
            "Diff Matrix Estimation Graph ---------------------\n",
            "Diff Matrix Estimation Graph ---------------------\n",
            "Diff Matrix Estimation Graph ---------------------\n",
            "Diff Matrix Estimation Graph ---------------------\n",
            "Diff Matrix Estimation Graph ---------------------\n",
            "Diff Matrix Estimation Graph ---------------------\n",
            "Diff Matrix Estimation Graph ---------------------\n",
            "Diff Matrix Estimation Graph ---------------------\n",
            "Diff Matrix Estimation Graph ---------------------\n",
            "Diff Matrix Estimation Graph ---------------------\n",
            "Diff Matrix Estimation Graph ---------------------\n",
            "Diff Matrix Estimation Graph ---------------------\n",
            "Diff Matrix Estimation Graph ---------------------\n",
            "Diff Matrix Estimation Graph ---------------------\n",
            "Diff Matrix Estimation Graph ---------------------\n",
            "Diff Matrix Estimation Graph ---------------------\n",
            "Diff Matrix Estimation Graph ---------------------\n",
            "Diff Matrix Estimation Graph ---------------------\n",
            "Diff Matrix Estimation Graph ---------------------\n",
            "Diff Matrix Estimation Graph ---------------------\n",
            "Diff Matrix Estimation Graph ---------------------\n",
            "Diff Matrix Estimation Graph ---------------------\n",
            "Diff Matrix Estimation Graph ---------------------\n",
            "Diff Matrix Estimation Graph ---------------------\n",
            "Diff Matrix Estimation Graph ---------------------\n",
            "Diff Matrix Estimation Graph ---------------------\n",
            "Diff Matrix Estimation Graph ---------------------\n",
            "Diff Matrix Estimation Graph ---------------------\n",
            "Diff Matrix Estimation Graph ---------------------\n",
            "Diff Matrix Estimation Graph ---------------------\n",
            "Diff Matrix Estimation Graph ---------------------\n",
            "Diff Matrix Estimation Graph ---------------------\n",
            "Diff Matrix Estimation Graph ---------------------\n",
            "Diff Matrix Estimation Graph ---------------------\n",
            "Diff Matrix Estimation Graph ---------------------\n",
            "Diff Matrix Estimation Graph ---------------------\n",
            "Diff Matrix Estimation Graph ---------------------\n",
            "Diff Matrix Estimation Graph ---------------------\n",
            "Diff Matrix Estimation Graph ---------------------\n",
            "Diff Matrix Estimation Graph ---------------------\n",
            "Diff Matrix Estimation Graph ---------------------\n",
            "Diff Matrix Estimation Graph ---------------------\n",
            "Diff Matrix Estimation Graph ---------------------\n",
            "Diff Matrix Estimation Graph ---------------------\n",
            "Diff Matrix Estimation Graph ---------------------\n",
            "Diff Matrix Estimation Graph ---------------------\n",
            "Diff Matrix Estimation Graph ---------------------\n",
            "Diff Matrix Estimation Graph ---------------------\n",
            "Diff Matrix Estimation Graph ---------------------\n",
            "Diff Matrix Estimation Graph ---------------------\n",
            "Diff Matrix Estimation Graph ---------------------\n",
            "Diff Matrix Estimation Graph ---------------------\n",
            "Diff Matrix Estimation Graph ---------------------\n",
            "Diff Matrix Estimation Graph ---------------------\n",
            "Diff Matrix Estimation Graph ---------------------\n",
            "Diff Matrix Estimation Graph ---------------------\n",
            "Diff Matrix Estimation Graph ---------------------\n",
            "Diff Matrix Estimation Graph ---------------------\n",
            "Diff Matrix Estimation Graph ---------------------\n",
            "Diff Matrix Estimation Graph ---------------------\n",
            "Diff Matrix Estimation Graph ---------------------\n",
            "Diff Matrix Estimation Graph ---------------------\n",
            "Diff Matrix Estimation Graph ---------------------\n",
            "Diff Matrix Estimation Graph ---------------------\n",
            "Diff Matrix Estimation Graph ---------------------\n",
            "Diff Matrix Estimation Graph ---------------------\n",
            "Diff Matrix Estimation Graph ---------------------\n",
            "Diff Matrix Estimation Graph ---------------------\n",
            "Diff Matrix Estimation Graph ---------------------\n",
            "Diff Matrix Estimation Graph ---------------------\n",
            "Diff Matrix Estimation Graph ---------------------\n",
            "Diff Matrix Estimation Graph ---------------------\n",
            "Diff Matrix Estimation Graph ---------------------\n",
            "Diff Matrix Estimation Graph ---------------------\n",
            "Diff Matrix Estimation Graph ---------------------\n",
            "Diff Matrix Estimation Graph ---------------------\n",
            "Diff Matrix Estimation Graph ---------------------\n",
            "Diff Matrix Estimation Graph ---------------------\n",
            "Diff Matrix Estimation Graph ---------------------\n",
            "Diff Matrix Estimation Graph ---------------------\n",
            "Diff Matrix Estimation Graph ---------------------\n",
            "Diff Matrix Estimation Graph ---------------------\n",
            "Diff Matrix Estimation Graph ---------------------\n",
            "Diff Matrix Estimation Graph ---------------------\n",
            "Diff Matrix Estimation Graph ---------------------\n",
            "Diff Matrix Estimation Graph ---------------------\n",
            "Diff Matrix Estimation Graph ---------------------\n",
            "Diff Matrix Estimation Graph ---------------------\n",
            "Diff Matrix Estimation Graph ---------------------\n",
            "Diff Matrix Estimation Graph ---------------------\n",
            "Diff Matrix Estimation Graph ---------------------\n",
            "Diff Matrix Estimation Graph ---------------------\n",
            "Diff Matrix Estimation Graph ---------------------\n",
            "Diff Matrix Estimation Graph ---------------------\n",
            "Diff Matrix Estimation Graph ---------------------\n",
            "Diff Matrix Estimation Graph ---------------------\n",
            "Diff Matrix Estimation Graph ---------------------\n",
            "Diff Matrix Estimation Graph ---------------------\n",
            "Diff Matrix Estimation Graph ---------------------\n",
            "Diff Matrix Estimation Graph ---------------------\n",
            "Diff Matrix Estimation Graph ---------------------\n",
            "Diff Matrix Estimation Graph ---------------------\n",
            "Diff Matrix Estimation Graph ---------------------\n",
            "Diff Matrix Estimation Graph ---------------------\n",
            "Diff Matrix Estimation Graph ---------------------\n",
            "Diff Matrix Estimation Graph ---------------------\n",
            "Diff Matrix Estimation Graph ---------------------\n",
            "Diff Matrix Estimation Graph ---------------------\n",
            "Diff Matrix Estimation Graph ---------------------\n",
            "Diff Matrix Estimation Graph ---------------------\n",
            "Diff Matrix Estimation Graph ---------------------\n",
            "Diff Matrix Estimation Graph ---------------------\n",
            "Diff Matrix Estimation Graph ---------------------\n",
            "Diff Matrix Estimation Graph ---------------------\n",
            "Diff Matrix Estimation Graph ---------------------\n",
            "Diff Matrix Estimation Graph ---------------------\n",
            "Diff Matrix Estimation Graph ---------------------\n",
            "Diff Matrix Estimation Graph ---------------------\n",
            "Diff Matrix Estimation Graph ---------------------\n",
            "Diff Matrix Estimation Graph ---------------------\n",
            "Diff Matrix Estimation Graph ---------------------\n",
            "Diff Matrix Estimation Graph ---------------------\n",
            "Diff Matrix Estimation Graph ---------------------\n",
            "Diff Matrix Estimation Graph ---------------------\n",
            "Diff Matrix Estimation Graph ---------------------\n",
            "Diff Matrix Estimation Graph ---------------------\n",
            "Diff Matrix Estimation Graph ---------------------\n",
            "Diff Matrix Estimation Graph ---------------------\n",
            "Diff Matrix Estimation Graph ---------------------\n",
            "Diff Matrix Estimation Graph ---------------------\n",
            "Diff Matrix Estimation Graph ---------------------\n",
            "Diff Matrix Estimation Graph ---------------------\n",
            "Diff Matrix Estimation Graph ---------------------\n",
            "Diff Matrix Estimation Graph ---------------------\n",
            "Diff Matrix Estimation Graph ---------------------\n",
            "Diff Matrix Estimation Graph ---------------------\n",
            "Diff Matrix Estimation Graph ---------------------\n",
            "Diff Matrix Estimation Graph ---------------------\n",
            "Diff Matrix Estimation Graph ---------------------\n",
            "Diff Matrix Estimation Graph ---------------------\n",
            "Diff Matrix Estimation Graph ---------------------\n",
            "Diff Matrix Estimation Graph ---------------------\n",
            "Diff Matrix Estimation Graph ---------------------\n",
            "Diff Matrix Estimation Graph ---------------------\n",
            "Diff Matrix Estimation Graph ---------------------\n",
            "Diff Matrix Estimation Graph ---------------------\n",
            "Diff Matrix Estimation Graph ---------------------\n",
            "Diff Matrix Estimation Graph ---------------------\n",
            "Diff Matrix Estimation Graph ---------------------\n",
            "Diff Matrix Estimation Graph ---------------------\n",
            "Diff Matrix Estimation Graph ---------------------\n",
            "Diff Matrix Estimation Graph ---------------------\n",
            "Diff Matrix Estimation Graph ---------------------\n",
            "Diff Matrix Estimation Graph ---------------------\n",
            "Diff Matrix Estimation Graph ---------------------\n",
            "Diff Matrix Estimation Graph ---------------------\n",
            "Diff Matrix Estimation Graph ---------------------\n",
            "Diff Matrix Estimation Graph ---------------------\n",
            "Diff Matrix Estimation Graph ---------------------\n",
            "Diff Matrix Estimation Graph ---------------------\n",
            "Diff Matrix Estimation Graph ---------------------\n",
            "Diff Matrix Estimation Graph ---------------------\n",
            "Diff Matrix Estimation Graph ---------------------\n",
            "Diff Matrix Estimation Graph ---------------------\n",
            "Diff Matrix Estimation Graph ---------------------\n",
            "Diff Matrix Estimation Graph ---------------------\n",
            "Diff Matrix Estimation Graph ---------------------\n",
            "Diff Matrix Estimation Graph ---------------------\n",
            "Diff Matrix Estimation Graph ---------------------\n",
            "Diff Matrix Estimation Graph ---------------------\n",
            "Diff Matrix Estimation Graph ---------------------\n",
            "Diff Matrix Estimation Graph ---------------------\n",
            "Diff Matrix Estimation Graph ---------------------\n",
            "Diff Matrix Estimation Graph ---------------------\n",
            "Diff Matrix Estimation Graph ---------------------\n",
            "Diff Matrix Estimation Graph ---------------------\n",
            "Diff Matrix Estimation Graph ---------------------\n",
            "Diff Matrix Estimation Graph ---------------------\n",
            "Diff Matrix Estimation Graph ---------------------\n",
            "Diff Matrix Estimation Graph ---------------------\n",
            "Diff Matrix Estimation Graph ---------------------\n",
            "Diff Matrix Estimation Graph ---------------------\n",
            "Diff Matrix Estimation Graph ---------------------\n",
            "Diff Matrix Estimation Graph ---------------------\n",
            "Diff Matrix Estimation Graph ---------------------\n",
            "Diff Matrix Estimation Graph ---------------------\n",
            "Diff Matrix Estimation Graph ---------------------\n",
            "Diff Matrix Estimation Graph ---------------------\n",
            "Diff Matrix Estimation Graph ---------------------\n",
            "Diff Matrix Estimation Graph ---------------------\n",
            "Diff Matrix Estimation Graph ---------------------\n",
            "Diff Matrix Estimation Graph ---------------------\n",
            "Diff Matrix Estimation Graph ---------------------\n",
            "Diff Matrix Estimation Graph ---------------------\n",
            "Diff Matrix Estimation Graph ---------------------\n",
            "Diff Matrix Estimation Graph ---------------------\n",
            "Diff Matrix Estimation Graph ---------------------\n",
            "Diff Matrix Estimation Graph ---------------------\n",
            "Diff Matrix Estimation Graph ---------------------\n",
            "Diff Matrix Estimation Graph ---------------------\n",
            "Diff Matrix Estimation Graph ---------------------\n",
            "Diff Matrix Estimation Graph ---------------------\n",
            "Diff Matrix Estimation Graph ---------------------\n",
            "Diff Matrix Estimation Graph ---------------------\n",
            "Diff Matrix Estimation Graph ---------------------\n",
            "Diff Matrix Estimation Graph ---------------------\n",
            "Diff Matrix Estimation Graph ---------------------\n",
            "Diff Matrix Estimation Graph ---------------------\n",
            "Diff Matrix Estimation Graph ---------------------\n",
            "Diff Matrix Estimation Graph ---------------------\n",
            "Diff Matrix Estimation Graph ---------------------\n",
            "Diff Matrix Estimation Graph ---------------------\n",
            "Diff Matrix Estimation Graph ---------------------\n",
            "Diff Matrix Estimation Graph ---------------------\n",
            "Diff Matrix Estimation Graph ---------------------\n",
            "Diff Matrix Estimation Graph ---------------------\n",
            "Diff Matrix Estimation Graph ---------------------\n",
            "Diff Matrix Estimation Graph ---------------------\n",
            "Diff Matrix Estimation Graph ---------------------\n",
            "Diff Matrix Estimation Graph ---------------------\n",
            "Diff Matrix Estimation Graph ---------------------\n",
            "Diff Matrix Estimation Graph ---------------------\n",
            "Diff Matrix Estimation Graph ---------------------\n",
            "Diff Matrix Estimation Graph ---------------------\n",
            "Diff Matrix Estimation Graph ---------------------\n",
            "Diff Matrix Estimation Graph ---------------------\n",
            "Diff Matrix Estimation Graph ---------------------\n",
            "Diff Matrix Estimation Graph ---------------------\n",
            "Diff Matrix Estimation Graph ---------------------\n",
            "Diff Matrix Estimation Graph ---------------------\n",
            "Diff Matrix Estimation Graph ---------------------\n",
            "Diff Matrix Estimation Graph ---------------------\n",
            "Diff Matrix Estimation Graph ---------------------\n",
            "Diff Matrix Estimation Graph ---------------------\n",
            "Diff Matrix Estimation Graph ---------------------\n",
            "Diff Matrix Estimation Graph ---------------------\n",
            "Diff Matrix Estimation Graph ---------------------\n",
            "Diff Matrix Estimation Graph ---------------------\n",
            "Diff Matrix Estimation Graph ---------------------\n",
            "Diff Matrix Estimation Graph ---------------------\n",
            "Diff Matrix Estimation Graph ---------------------\n",
            "Diff Matrix Estimation Graph ---------------------\n",
            "Diff Matrix Estimation Graph ---------------------\n",
            "Diff Matrix Estimation Graph ---------------------\n",
            "Diff Matrix Estimation Graph ---------------------\n",
            "Diff Matrix Estimation Graph ---------------------\n",
            "Diff Matrix Estimation Graph ---------------------\n",
            "Diff Matrix Estimation Graph ---------------------\n",
            "Diff Matrix Estimation Graph ---------------------\n",
            "Diff Matrix Estimation Graph ---------------------\n",
            "Diff Matrix Estimation Graph ---------------------\n",
            "Diff Matrix Estimation Graph ---------------------\n",
            "Diff Matrix Estimation Graph ---------------------\n",
            "Diff Matrix Estimation Graph ---------------------\n",
            "Diff Matrix Estimation Graph ---------------------\n",
            "Diff Matrix Estimation Graph ---------------------\n",
            "Diff Matrix Estimation Graph ---------------------\n",
            "Diff Matrix Estimation Graph ---------------------\n",
            "Diff Matrix Estimation Graph ---------------------\n",
            "Diff Matrix Estimation Graph ---------------------\n",
            "Diff Matrix Estimation Graph ---------------------\n",
            "Diff Matrix Estimation Graph ---------------------\n",
            "Diff Matrix Estimation Graph ---------------------\n",
            "Diff Matrix Estimation Graph ---------------------\n",
            "Diff Matrix Estimation Graph ---------------------\n",
            "Diff Matrix Estimation Graph ---------------------\n",
            "Diff Matrix Estimation Graph ---------------------\n",
            "Diff Matrix Estimation Graph ---------------------\n",
            "Diff Matrix Estimation Graph ---------------------\n",
            "Diff Matrix Estimation Graph ---------------------\n",
            "Diff Matrix Estimation Graph ---------------------\n",
            "Diff Matrix Estimation Graph ---------------------\n",
            "Diff Matrix Estimation Graph ---------------------\n",
            "Diff Matrix Estimation Graph ---------------------\n",
            "Diff Matrix Estimation Graph ---------------------\n",
            "Diff Matrix Estimation Graph ---------------------\n",
            "Diff Matrix Estimation Graph ---------------------\n",
            "Diff Matrix Estimation Graph ---------------------\n",
            "Diff Matrix Estimation Graph ---------------------\n",
            "Diff Matrix Estimation Graph ---------------------\n",
            "Diff Matrix Estimation Graph ---------------------\n",
            "Diff Matrix Estimation Graph ---------------------\n",
            "Diff Matrix Estimation Graph ---------------------\n",
            "Diff Matrix Estimation Graph ---------------------\n",
            "Diff Matrix Estimation Graph ---------------------\n",
            "Diff Matrix Estimation Graph ---------------------\n",
            "Diff Matrix Estimation Graph ---------------------\n",
            "Diff Matrix Estimation Graph ---------------------\n",
            "Diff Matrix Estimation Graph ---------------------\n",
            "Diff Matrix Estimation Graph ---------------------\n",
            "Diff Matrix Estimation Graph ---------------------\n",
            "Diff Matrix Estimation Graph ---------------------\n",
            "Diff Matrix Estimation Graph ---------------------\n",
            "Diff Matrix Estimation Graph ---------------------\n",
            "Diff Matrix Estimation Graph ---------------------\n",
            "Diff Matrix Estimation Graph ---------------------\n",
            "Diff Matrix Estimation Graph ---------------------\n",
            "Diff Matrix Estimation Graph ---------------------\n",
            "Diff Matrix Estimation Graph ---------------------\n",
            "Diff Matrix Estimation Graph ---------------------\n",
            "Diff Matrix Estimation Graph ---------------------\n",
            "Diff Matrix Estimation Graph ---------------------\n",
            "Diff Matrix Estimation Graph ---------------------\n",
            "Diff Matrix Estimation Graph ---------------------\n",
            "Diff Matrix Estimation Graph ---------------------\n",
            "Diff Matrix Estimation Graph ---------------------\n",
            "Diff Matrix Estimation Graph ---------------------\n",
            "Diff Matrix Estimation Graph ---------------------\n",
            "Diff Matrix Estimation Graph ---------------------\n",
            "Diff Matrix Estimation Graph ---------------------\n",
            "Diff Matrix Estimation Graph ---------------------\n",
            "Diff Matrix Estimation Graph ---------------------\n",
            "Diff Matrix Estimation Graph ---------------------\n",
            "Diff Matrix Estimation Graph ---------------------\n",
            "Diff Matrix Estimation Graph ---------------------\n",
            "Diff Matrix Estimation Graph ---------------------\n",
            "Diff Matrix Estimation Graph ---------------------\n",
            "Diff Matrix Estimation Graph ---------------------\n",
            "Diff Matrix Estimation Graph ---------------------\n",
            "Diff Matrix Estimation Graph ---------------------\n",
            "Diff Matrix Estimation Graph ---------------------\n",
            "Diff Matrix Estimation Graph ---------------------\n",
            "Diff Matrix Estimation Graph ---------------------\n",
            "Diff Matrix Estimation Graph ---------------------\n",
            "Diff Matrix Estimation Graph ---------------------\n",
            "Diff Matrix Estimation Graph ---------------------\n",
            "Diff Matrix Estimation Graph ---------------------\n",
            "Diff Matrix Estimation Graph ---------------------\n",
            "Diff Matrix Estimation Graph ---------------------\n",
            "Diff Matrix Estimation Graph ---------------------\n",
            "Diff Matrix Estimation Graph ---------------------\n",
            "Diff Matrix Estimation Graph ---------------------\n",
            "Diff Matrix Estimation Graph ---------------------\n",
            "Diff Matrix Estimation Graph ---------------------\n",
            "Diff Matrix Estimation Graph ---------------------\n",
            "Diff Matrix Estimation Graph ---------------------\n",
            "Diff Matrix Estimation Graph ---------------------\n",
            "Diff Matrix Estimation Graph ---------------------\n",
            "Diff Matrix Estimation Graph ---------------------\n",
            "Diff Matrix Estimation Graph ---------------------\n",
            "Diff Matrix Estimation Graph ---------------------\n",
            "Diff Matrix Estimation Graph ---------------------\n",
            "Diff Matrix Estimation Graph ---------------------\n",
            "Diff Matrix Estimation Graph ---------------------\n",
            "Diff Matrix Estimation Graph ---------------------\n",
            "Diff Matrix Estimation Graph ---------------------\n",
            "Diff Matrix Estimation Graph ---------------------\n",
            "Diff Matrix Estimation Graph ---------------------\n",
            "Diff Matrix Estimation Graph ---------------------\n",
            "Diff Matrix Estimation Graph ---------------------\n",
            "Diff Matrix Estimation Graph ---------------------\n",
            "Diff Matrix Estimation Graph ---------------------\n",
            "Diff Matrix Estimation Graph ---------------------\n",
            "Diff Matrix Estimation Graph ---------------------\n",
            "Diff Matrix Estimation Graph ---------------------\n",
            "Diff Matrix Estimation Graph ---------------------\n",
            "Diff Matrix Estimation Graph ---------------------\n",
            "Diff Matrix Estimation Graph ---------------------\n",
            "Diff Matrix Estimation Graph ---------------------\n",
            "Diff Matrix Estimation Graph ---------------------\n",
            "Diff Matrix Estimation Graph ---------------------\n",
            "Diff Matrix Estimation Graph ---------------------\n",
            "Diff Matrix Estimation Graph ---------------------\n",
            "Diff Matrix Estimation Graph ---------------------\n",
            "Diff Matrix Estimation Graph ---------------------\n",
            "Diff Matrix Estimation Graph ---------------------\n",
            "Diff Matrix Estimation Graph ---------------------\n",
            "Diff Matrix Estimation Graph ---------------------\n",
            "Diff Matrix Estimation Graph ---------------------\n",
            "Diff Matrix Estimation Graph ---------------------\n",
            "Diff Matrix Estimation Graph ---------------------\n",
            "Diff Matrix Estimation Graph ---------------------\n",
            "Diff Matrix Estimation Graph ---------------------\n",
            "Diff Matrix Estimation Graph ---------------------\n",
            "Diff Matrix Estimation Graph ---------------------\n",
            "Diff Matrix Estimation Graph ---------------------\n",
            "Diff Matrix Estimation Graph ---------------------\n",
            "Diff Matrix Estimation Graph ---------------------\n",
            "Diff Matrix Estimation Graph ---------------------\n",
            "Diff Matrix Estimation Graph ---------------------\n",
            "Diff Matrix Estimation Graph ---------------------\n",
            "Diff Matrix Estimation Graph ---------------------\n",
            "Diff Matrix Estimation Graph ---------------------\n",
            "Diff Matrix Estimation Graph ---------------------\n",
            "Diff Matrix Estimation Graph ---------------------\n",
            "Diff Matrix Estimation Graph ---------------------\n",
            "Diff Matrix Estimation Graph ---------------------\n",
            "Diff Matrix Estimation Graph ---------------------\n",
            "Diff Matrix Estimation Graph ---------------------\n",
            "Diff Matrix Estimation Graph ---------------------\n",
            "Diff Matrix Estimation Graph ---------------------\n",
            "Diff Matrix Estimation Graph ---------------------\n",
            "Diff Matrix Estimation Graph ---------------------\n",
            "Diff Matrix Estimation Graph ---------------------\n",
            "Diff Matrix Estimation Graph ---------------------\n",
            "Diff Matrix Estimation Graph ---------------------\n",
            "Diff Matrix Estimation Graph ---------------------\n",
            "Diff Matrix Estimation Graph ---------------------\n",
            "Diff Matrix Estimation Graph ---------------------\n",
            "Diff Matrix Estimation Graph ---------------------\n",
            "Diff Matrix Estimation Graph ---------------------\n",
            "Diff Matrix Estimation Graph ---------------------\n",
            "Diff Matrix Estimation Graph ---------------------\n",
            "Diff Matrix Estimation Graph ---------------------\n",
            "Diff Matrix Estimation Graph ---------------------\n",
            "Diff Matrix Estimation Graph ---------------------\n",
            "Diff Matrix Estimation Graph ---------------------\n",
            "Diff Matrix Estimation Graph ---------------------\n",
            "Diff Matrix Estimation Graph ---------------------\n",
            "Diff Matrix Estimation Graph ---------------------\n",
            "Diff Matrix Estimation Graph ---------------------\n",
            "Diff Matrix Estimation Graph ---------------------\n",
            "Diff Matrix Estimation Graph ---------------------\n",
            "Diff Matrix Estimation Graph ---------------------\n",
            "Diff Matrix Estimation Graph ---------------------\n",
            "Diff Matrix Estimation Graph ---------------------\n",
            "Diff Matrix Estimation Graph ---------------------\n",
            "Diff Matrix Estimation Graph ---------------------\n",
            "Diff Matrix Estimation Graph ---------------------\n",
            "Diff Matrix Estimation Graph ---------------------\n",
            "Diff Matrix Estimation Graph ---------------------\n",
            "Diff Matrix Estimation Graph ---------------------\n",
            "Diff Matrix Estimation Graph ---------------------\n",
            "Diff Matrix Estimation Graph ---------------------\n",
            "Diff Matrix Estimation Graph ---------------------\n",
            "Diff Matrix Estimation Graph ---------------------\n",
            "Diff Matrix Estimation Graph ---------------------\n",
            "Diff Matrix Estimation Graph ---------------------\n",
            "Diff Matrix Estimation Graph ---------------------\n",
            "Diff Matrix Estimation Graph ---------------------\n",
            "Diff Matrix Estimation Graph ---------------------\n",
            "Diff Matrix Estimation Graph ---------------------\n",
            "Diff Matrix Estimation Graph ---------------------\n",
            "Diff Matrix Estimation Graph ---------------------\n",
            "Diff Matrix Estimation Graph ---------------------\n",
            "Diff Matrix Estimation Graph ---------------------\n",
            "Diff Matrix Estimation Graph ---------------------\n",
            "Diff Matrix Estimation Graph ---------------------\n",
            "Diff Matrix Estimation Graph ---------------------\n",
            "Diff Matrix Estimation Graph ---------------------\n",
            "Diff Matrix Estimation Graph ---------------------\n",
            "Diff Matrix Estimation Graph ---------------------\n",
            "Diff Matrix Estimation Graph ---------------------\n",
            "Diff Matrix Estimation Graph ---------------------\n",
            "Diff Matrix Estimation Graph ---------------------\n",
            "Diff Matrix Estimation Graph ---------------------\n",
            "Diff Matrix Estimation Graph ---------------------\n",
            "Diff Matrix Estimation Graph ---------------------\n",
            "Diff Matrix Estimation Graph ---------------------\n",
            "Diff Matrix Estimation Graph ---------------------\n",
            "Diff Matrix Estimation Graph ---------------------\n",
            "Diff Matrix Estimation Graph ---------------------\n",
            "Diff Matrix Estimation Graph ---------------------\n",
            "Diff Matrix Estimation Graph ---------------------\n",
            "Diff Matrix Estimation Graph ---------------------\n",
            "Diff Matrix Estimation Graph ---------------------\n",
            "Diff Matrix Estimation Graph ---------------------\n",
            "Diff Matrix Estimation Graph ---------------------\n",
            "Diff Matrix Estimation Graph ---------------------\n",
            "Diff Matrix Estimation Graph ---------------------\n",
            "Diff Matrix Estimation Graph ---------------------\n",
            "Diff Matrix Estimation Graph ---------------------\n",
            "Diff Matrix Estimation Graph ---------------------\n",
            "Diff Matrix Estimation Graph ---------------------\n",
            "Diff Matrix Estimation Graph ---------------------\n",
            "Diff Matrix Estimation Graph ---------------------\n",
            "Diff Matrix Estimation Graph ---------------------\n",
            "Diff Matrix Estimation Graph ---------------------\n",
            "Diff Matrix Estimation Graph ---------------------\n",
            "Diff Matrix Estimation Graph ---------------------\n",
            "Diff Matrix Estimation Graph ---------------------\n",
            "Diff Matrix Estimation Graph ---------------------\n",
            "Diff Matrix Estimation Graph ---------------------\n",
            "Diff Matrix Estimation Graph ---------------------\n",
            "Diff Matrix Estimation Graph ---------------------\n",
            "Diff Matrix Estimation Graph ---------------------\n",
            "Diff Matrix Estimation Graph ---------------------\n",
            "Diff Matrix Estimation Graph ---------------------\n",
            "Diff Matrix Estimation Graph ---------------------\n",
            "Diff Matrix Estimation Graph ---------------------\n",
            "Diff Matrix Estimation Graph ---------------------\n",
            "Diff Matrix Estimation Graph ---------------------\n",
            "Diff Matrix Estimation Graph ---------------------\n",
            "Diff Matrix Estimation Graph ---------------------\n",
            "Diff Matrix Estimation Graph ---------------------\n",
            "Diff Matrix Estimation Graph ---------------------\n",
            "Diff Matrix Estimation Graph ---------------------\n",
            "Diff Matrix Estimation Graph ---------------------\n",
            "Diff Matrix Estimation Graph ---------------------\n",
            "Diff Matrix Estimation Graph ---------------------\n",
            "Diff Matrix Estimation Graph ---------------------\n",
            "Diff Matrix Estimation Graph ---------------------\n",
            "Diff Matrix Estimation Graph ---------------------\n",
            "Diff Matrix Estimation Graph ---------------------\n",
            "Diff Matrix Estimation Graph ---------------------\n",
            "Diff Matrix Estimation Graph ---------------------\n",
            "Diff Matrix Estimation Graph ---------------------\n",
            "Diff Matrix Estimation Graph ---------------------\n",
            "Diff Matrix Estimation Graph ---------------------\n",
            "Diff Matrix Estimation Graph ---------------------\n",
            "Diff Matrix Estimation Graph ---------------------\n",
            "Diff Matrix Estimation Graph ---------------------\n",
            "Diff Matrix Estimation Graph ---------------------\n",
            "Diff Matrix Estimation Graph ---------------------\n",
            "Diff Matrix Estimation Graph ---------------------\n",
            "Diff Matrix Estimation Graph ---------------------\n",
            "Diff Matrix Estimation Graph ---------------------\n",
            "Diff Matrix Estimation Graph ---------------------\n",
            "Diff Matrix Estimation Graph ---------------------\n",
            "Diff Matrix Estimation Graph ---------------------\n",
            "Diff Matrix Estimation Graph ---------------------\n",
            "Diff Matrix Estimation Graph ---------------------\n",
            "Diff Matrix Estimation Graph ---------------------\n",
            "Diff Matrix Estimation Graph ---------------------\n",
            "Diff Matrix Estimation Graph ---------------------\n",
            "Diff Matrix Estimation Graph ---------------------\n",
            "Diff Matrix Estimation Graph ---------------------\n",
            "Diff Matrix Estimation Graph ---------------------\n",
            "Diff Matrix Estimation Graph ---------------------\n",
            "Diff Matrix Estimation Graph ---------------------\n",
            "Diff Matrix Estimation Graph ---------------------\n",
            "Diff Matrix Estimation Graph ---------------------\n",
            "Diff Matrix Estimation Graph ---------------------\n",
            "Diff Matrix Estimation Graph ---------------------\n",
            "Diff Matrix Estimation Graph ---------------------\n",
            "Diff Matrix Estimation Graph ---------------------\n",
            "Diff Matrix Estimation Graph ---------------------\n",
            "Diff Matrix Estimation Graph ---------------------\n",
            "Diff Matrix Estimation Graph ---------------------\n",
            "Diff Matrix Estimation Graph ---------------------\n",
            "Diff Matrix Estimation Graph ---------------------\n",
            "Diff Matrix Estimation Graph ---------------------\n",
            "Diff Matrix Estimation Graph ---------------------\n",
            "Variables Graph ---------------------\n",
            "Reshape Graph ---------------------\n",
            "BPM Compute Graph ---------------------\n",
            "PCA Graph ---------------------\n",
            "Signal Detrend Graph ---------------------\n",
            "Differentiation Graph ---------------------\n",
            "View as Windows Graph ---------------------\n",
            "Reshape Graph ---------------------\n",
            "PCA Graph ---------------------\n",
            "Signal Detrend Graph ---------------------\n",
            "Differentiation Graph ---------------------\n",
            "View as Windows Graph ---------------------\n",
            "Reshape Graph ---------------------\n",
            "PCA Graph ---------------------\n",
            "Signal Detrend Graph ---------------------\n",
            "Differentiation Graph ---------------------\n",
            "View as Windows Graph ---------------------\n",
            "Reshape Graph ---------------------\n",
            "PCA Graph ---------------------\n",
            "Signal Detrend Graph ---------------------\n",
            "Differentiation Graph ---------------------\n",
            "Compute Fft Graph ---------------------\n",
            "Find peaks Graph ---------------------\n",
            "Get Harmonic Indices Graph ---------------------\n",
            "Add Harmonic Energy Graph ---------------------\n",
            "Compute Fft Graph ---------------------\n",
            "Find peaks Graph ---------------------\n",
            "Get Harmonic Indices Graph ---------------------\n",
            "Add Harmonic Energy Graph ---------------------\n",
            "Compute Fft Graph ---------------------\n",
            "Find peaks Graph ---------------------\n",
            "Get Harmonic Indices Graph ---------------------\n",
            "Add Harmonic Energy Graph ---------------------\n",
            "Compute Fft Graph ---------------------\n",
            "Find peaks Graph ---------------------\n",
            "Get Harmonic Indices Graph ---------------------\n",
            "Add Harmonic Energy Graph ---------------------\n",
            "Compute Fft Graph ---------------------\n",
            "Find peaks Graph ---------------------\n",
            "Get Harmonic Indices Graph ---------------------\n",
            "Add Harmonic Energy Graph ---------------------\n",
            "Compute Fft Graph ---------------------\n",
            "Find peaks Graph ---------------------\n",
            "Get Harmonic Indices Graph ---------------------\n",
            "Add Harmonic Energy Graph ---------------------\n",
            "Compute Fft Graph ---------------------\n",
            "Find peaks Graph ---------------------\n",
            "Get Harmonic Indices Graph ---------------------\n",
            "Add Harmonic Energy Graph ---------------------\n",
            "Compute Fft Graph ---------------------\n",
            "Find peaks Graph ---------------------\n",
            "Get Harmonic Indices Graph ---------------------\n",
            "Add Harmonic Energy Graph ---------------------\n",
            "Compute Fft Graph ---------------------\n",
            "Find peaks Graph ---------------------\n",
            "Get Harmonic Indices Graph ---------------------\n",
            "Add Harmonic Energy Graph ---------------------\n",
            "Compute Fft Graph ---------------------\n",
            "Find peaks Graph ---------------------\n",
            "Get Harmonic Indices Graph ---------------------\n",
            "Add Harmonic Energy Graph ---------------------\n",
            "Compute Fft Graph ---------------------\n",
            "Find peaks Graph ---------------------\n",
            "Get Harmonic Indices Graph ---------------------\n",
            "Add Harmonic Energy Graph ---------------------\n",
            "Compute Fft Graph ---------------------\n",
            "Find peaks Graph ---------------------\n",
            "Get Harmonic Indices Graph ---------------------\n",
            "Add Harmonic Energy Graph ---------------------\n",
            "Compute Fft Graph ---------------------\n",
            "Find peaks Graph ---------------------\n",
            "Get Harmonic Indices Graph ---------------------\n",
            "Add Harmonic Energy Graph ---------------------\n",
            "Compute Fft Graph ---------------------\n",
            "Find peaks Graph ---------------------\n",
            "Get Harmonic Indices Graph ---------------------\n",
            "Add Harmonic Energy Graph ---------------------\n",
            "Compute Fft Graph ---------------------\n",
            "Find peaks Graph ---------------------\n",
            "Get Harmonic Indices Graph ---------------------\n",
            "Add Harmonic Energy Graph ---------------------\n",
            "Compute Fft Graph ---------------------\n",
            "Find peaks Graph ---------------------\n",
            "Get Harmonic Indices Graph ---------------------\n",
            "Add Harmonic Energy Graph ---------------------\n",
            "Compute Fft Graph ---------------------\n",
            "Find peaks Graph ---------------------\n",
            "Get Harmonic Indices Graph ---------------------\n",
            "Add Harmonic Energy Graph ---------------------\n",
            "Compute Fft Graph ---------------------\n",
            "Find peaks Graph ---------------------\n",
            "Get Harmonic Indices Graph ---------------------\n",
            "Add Harmonic Energy Graph ---------------------\n",
            "Compute Fft Graph ---------------------\n",
            "Find peaks Graph ---------------------\n",
            "Get Harmonic Indices Graph ---------------------\n",
            "Add Harmonic Energy Graph ---------------------\n",
            "Compute Fft Graph ---------------------\n",
            "Find peaks Graph ---------------------\n",
            "Get Harmonic Indices Graph ---------------------\n",
            "Add Harmonic Energy Graph ---------------------\n",
            "Compute Fft Graph ---------------------\n",
            "Find peaks Graph ---------------------\n",
            "Get Harmonic Indices Graph ---------------------\n",
            "Add Harmonic Energy Graph ---------------------\n",
            "Compute Fft Graph ---------------------\n",
            "Find peaks Graph ---------------------\n",
            "Get Harmonic Indices Graph ---------------------\n",
            "Add Harmonic Energy Graph ---------------------\n",
            "Compute Fft Graph ---------------------\n",
            "Find peaks Graph ---------------------\n",
            "Get Harmonic Indices Graph ---------------------\n",
            "Add Harmonic Energy Graph ---------------------\n",
            "Compute Fft Graph ---------------------\n",
            "Find peaks Graph ---------------------\n",
            "Get Harmonic Indices Graph ---------------------\n",
            "Add Harmonic Energy Graph ---------------------\n",
            "Compute Fft Graph ---------------------\n",
            "Find peaks Graph ---------------------\n",
            "Get Harmonic Indices Graph ---------------------\n",
            "Add Harmonic Energy Graph ---------------------\n",
            "Compute Fft Graph ---------------------\n",
            "Find peaks Graph ---------------------\n",
            "Get Harmonic Indices Graph ---------------------\n",
            "Add Harmonic Energy Graph ---------------------\n",
            "Compute Fft Graph ---------------------\n",
            "Find peaks Graph ---------------------\n",
            "Get Harmonic Indices Graph ---------------------\n",
            "Add Harmonic Energy Graph ---------------------\n",
            "Compute Fft Graph ---------------------\n",
            "Find peaks Graph ---------------------\n",
            "Get Harmonic Indices Graph ---------------------\n",
            "Add Harmonic Energy Graph ---------------------\n",
            "Compute Fft Graph ---------------------\n",
            "Find peaks Graph ---------------------\n",
            "Get Harmonic Indices Graph ---------------------\n",
            "Add Harmonic Energy Graph ---------------------\n",
            "Compute Fft Graph ---------------------\n",
            "Find peaks Graph ---------------------\n",
            "Get Harmonic Indices Graph ---------------------\n",
            "Add Harmonic Energy Graph ---------------------\n"
          ]
        }
      ]
    },
    {
      "cell_type": "code",
      "source": [
        "diff_matrix2"
      ],
      "metadata": {
        "colab": {
          "base_uri": "https://localhost:8080/"
        },
        "id": "390qQ-WBGeM2",
        "outputId": "1e951fcc-341e-485e-b8ee-389fbd682aab"
      },
      "execution_count": null,
      "outputs": [
        {
          "output_type": "execute_result",
          "data": {
            "text/plain": [
              "(<tf.Tensor: shape=(29,), dtype=float64, numpy=\n",
              " array([ 48.954, 143.724, 143.724, 143.724, 143.724, 143.724, 143.724,\n",
              "        143.724, 143.724, 143.724, 143.724, 143.724, 143.724, 143.724,\n",
              "        143.724, 143.724, 143.724, 143.724, 143.724, 143.724, 143.724,\n",
              "        143.724, 143.724, 143.724, 143.724, 143.724, 143.724, 143.724,\n",
              "        143.724])>,\n",
              " <tf.Tensor: shape=(1,), dtype=float64, numpy=array([0.])>,\n",
              " <tf.Tensor: shape=(29,), dtype=float64, numpy=\n",
              " array([41.5625, 19.6875, 26.25  , 30.625 , 32.8125, 35.    , 35.    ,\n",
              "        37.1875, 37.1875, 37.1875, 37.1875, 37.1875, 37.1875, 39.375 ,\n",
              "        39.375 , 39.375 , 39.375 , 39.375 , 39.375 , 39.375 , 39.375 ,\n",
              "        39.375 , 39.375 , 39.375 , 39.375 , 39.375 , 39.375 , 39.375 ,\n",
              "        39.375 ])>)"
            ]
          },
          "metadata": {},
          "execution_count": 13
        }
      ]
    },
    {
      "cell_type": "code",
      "source": [
        "frames_per_second = 10\n",
        "RR_compute = RRComputationModule(frames_per_second)\n",
        "\n",
        "matrix_tensor = tf.constant(matrix)\n",
        "\"\"\"diff_matrix = RR_compute.diff_matrix_estimation(matrix)\n",
        "pca, window, diff_matrix_reshape = RR_compute.windowed_pca(diff_matrix)\n",
        "arr_freq = RR_compute.freq_per_pc(pca, window.numpy(), diff_matrix, diff_matrix_reshape)\n",
        "bpm, frames, trust_perc = RR_compute.bpm_compute(window.numpy(), arr_freq)\"\"\"\n",
        "bpm, frames, trust_perc = RR_compute(matrix_tensor)"
      ],
      "metadata": {
        "id": "Fq8_PxlqJCid"
      },
      "execution_count": null,
      "outputs": []
    },
    {
      "cell_type": "code",
      "source": [
        "frames_per_second = 10\n",
        "delta_time = 1 / frames_per_second\n",
        "\n",
        "\"\"\"### Compute Respiratory Rate\n",
        "## Compute difference matrix\n",
        "diff_matrix = diff_matrix_estimation(matrix, frames_per_second)\n",
        "## Get pca, window size, and diff matrix with new shape\n",
        "pca, window, diff_matrix_reshape = window_and_pca(diff_matrix, zc1 = 0, zc2 = 0, n = 20)\n",
        "## Get frequencies array and window size\n",
        "arr_freq, window = freq_per_pc(pca, window, delta_time, diff_matrix, diff_matrix_reshape)\n",
        "## Get bpm, frames, and confidence percentage\n",
        "bpm, frames, trust_perc = bpm_compute(window, arr_freq)\"\"\"\n",
        "bpm, frames, trust_perc = main(matrix, frames_per_second)"
      ],
      "metadata": {
        "id": "LP8xKqSFJD_U"
      },
      "execution_count": null,
      "outputs": []
    },
    {
      "cell_type": "code",
      "source": [
        "tf.strings.to_number(tf.strings.split(tf.strings.as_string(tf.timestamp(), precision=2), sep='.')[1], out_type=tf.float64)"
      ],
      "metadata": {
        "colab": {
          "base_uri": "https://localhost:8080/"
        },
        "id": "IKIBt7Z6F55G",
        "outputId": "cea564c8-130c-4b5e-f2da-047de25df2bf"
      },
      "execution_count": null,
      "outputs": [
        {
          "output_type": "execute_result",
          "data": {
            "text/plain": [
              "<tf.Tensor: shape=(), dtype=float64, numpy=52.0>"
            ]
          },
          "metadata": {},
          "execution_count": 19
        }
      ]
    },
    {
      "cell_type": "code",
      "source": [
        "import tensorflow as tf\n",
        "\n",
        "class CppTfTest(tf.Module):\n",
        "\n",
        "    def __init__(self, name=None):\n",
        "        super().__init__(name=name)\n",
        "\n",
        "    @tf.function(input_signature=[\n",
        "        tf.TensorSpec(shape=[None, None], dtype=tf.float32),\n",
        "        ])\n",
        "    def call(self, input):\n",
        "\n",
        "        frames = tf.range(600, dtype=tf.float32)\n",
        "        \"\"\"bpm = tf.TensorArray(tf.float64, size=0, dynamic_size=True, clear_after_read=False)\n",
        "        for idx in frames:\n",
        "            tf_timestamp = tf.timestamp()\n",
        "            tf_str_timestamp = tf.strings.as_string(tf_timestamp, precision=2)\n",
        "            tf_str_split = tf.strings.split(tf_str_timestamp, sep='.')[1]\n",
        "            tf_split_number = tf.strings.to_number(tf_str_split, out_type=tf.float64)\n",
        "            bpm = bpm.write(idx, tf_split_number)\n",
        "\n",
        "        bpm = bpm.stack()\"\"\"\n",
        "\n",
        "        bpm = tf.random.uniform(\n",
        "            tf.TensorShape([600,]),\n",
        "            minval=0,\n",
        "            maxval=90,\n",
        "            dtype=tf.dtypes.float32\n",
        "            )\n",
        "\n",
        "        output = tf.concat(([frames], [bpm]), axis=0)\n",
        "\n",
        "        return output"
      ],
      "metadata": {
        "id": "w_H5ROAUnm4E"
      },
      "execution_count": 54,
      "outputs": []
    },
    {
      "cell_type": "code",
      "source": [
        "cpp_tf_test = CppTfTest()\n",
        "tf.saved_model.save(\n",
        "    cpp_tf_test,\n",
        "    'cpp_tf_test',\n",
        "    signatures=cpp_tf_test.call.get_concrete_function()\n",
        "    )"
      ],
      "metadata": {
        "id": "UXpMOFuhw7E8"
      },
      "execution_count": 55,
      "outputs": []
    },
    {
      "cell_type": "code",
      "source": [
        "converter = tf.lite.TFLiteConverter.from_saved_model('cpp_tf_test')\n",
        "converter.target_spec.supported_ops = [\n",
        "  tf.lite.OpsSet.TFLITE_BUILTINS, # enable TensorFlow Lite ops.\n",
        "  tf.lite.OpsSet.SELECT_TF_OPS # enable TensorFlow ops.\n",
        "]\n",
        "\"\"\"converter.target_spec.experimental_select_user_tf_ops = [\n",
        "        'TensorArray', 'TensorArrayClose',\n",
        "        'TensorArrayCloseV2', 'TensorArrayCloseV3',\n",
        "        'TensorArrayConcat', 'TensorArrayConcatV2',\n",
        "        'TensorArrayConcatV3', 'TensorArrayGather',\n",
        "        'TensorArrayGatherV2', 'TensorArrayGatherV3',\n",
        "        'TensorArrayGrad', 'TensorArrayGradV2',\n",
        "        'TensorArrayGradV3', 'TensorArrayGradWithShape',\n",
        "        'TensorArrayPack', 'TensorArrayRead',\n",
        "        'TensorArrayReadV2', 'TensorArrayReadV3',\n",
        "        'TensorArrayScatter', 'TensorArrayScatterV2',\n",
        "        'TensorArrayScatterV3', 'TensorArraySize',\n",
        "        'TensorArraySizeV2', 'TensorArraySizeV3',\n",
        "        'TensorArraySplit', 'TensorArraySplitV2',\n",
        "        'TensorArraySplitV3', 'TensorArrayUnpack',\n",
        "        'TensorArrayV2', 'TensorArrayV3',\n",
        "        'TensorArrayWrite', 'TensorArrayWriteV2',\n",
        "        'TensorArrayWriteV3', 'TensorListConcat',\n",
        "        'TensorListConcatLists', 'TensorListConcatV2',\n",
        "        'TensorListElementShape', 'TensorListFromTensor',\n",
        "        'TensorListGather', 'TensorListGetItem',\n",
        "        'TensorListLength', 'TensorListPopBack',\n",
        "        'TensorListPushBack', 'TensorListPushBackBatch',\n",
        "        'TensorListReserve', 'TensorListResize',\n",
        "        'TensorListScatter', 'TensorListScatterIntoExistingList',\n",
        "        'TensorListScatterV2', 'TensorListSetItem',\n",
        "        'TensorListSplit', 'TensorListStack',\n",
        "        'AsString', 'Bincount', 'StringSplitV2',\n",
        "        'StringToNumber', 'Timestamp'\n",
        "        ]\"\"\"\n",
        "\"\"\"converter.target_spec = tf.lite.TargetSpec(\n",
        "    supported_ops=[tf.lite.OpsSet.TFLITE_BUILTINS],\n",
        "    experimental_select_user_tf_ops=[\n",
        "        'RandomUniform', 'Mul'\n",
        "        ]\n",
        ")\"\"\"\n",
        "#converter.experimental_new_converter = False\n",
        "#converter._experimental_lower_tensor_list_ops = False\n",
        "#converter.signature_def_tensor_names = [\"inputs\", \"outputs\"]\n",
        "#converter.allow_custom_ops=True\n",
        "\n",
        "tflite_model = converter.convert()\n",
        "\n",
        "with open('cpp_tf_test.tflite', 'wb') as f:\n",
        "  f.write(tflite_model)\n",
        "  f.close()\n"
      ],
      "metadata": {
        "id": "c_7eZPqdynxa"
      },
      "execution_count": 56,
      "outputs": []
    },
    {
      "cell_type": "code",
      "source": [
        "interpreter = tf.lite.Interpreter('cpp_tf_test.tflite')\n",
        "#my_signature = interpreter.get_signature_runner()\n",
        "interpreter.allocate_tensors()"
      ],
      "metadata": {
        "id": "Pakt1fbbhQC5"
      },
      "execution_count": 45,
      "outputs": []
    },
    {
      "cell_type": "code",
      "source": [
        "tf.constant([]).numpy()"
      ],
      "metadata": {
        "colab": {
          "base_uri": "https://localhost:8080/"
        },
        "id": "7qaPm9GiB_jP",
        "outputId": "33a04558-5a68-4973-f66d-d28c69a6a777"
      },
      "execution_count": 9,
      "outputs": [
        {
          "output_type": "execute_result",
          "data": {
            "text/plain": [
              "array([], dtype=float32)"
            ]
          },
          "metadata": {},
          "execution_count": 9
        }
      ]
    },
    {
      "cell_type": "code",
      "source": [
        "interpreter.invoke()"
      ],
      "metadata": {
        "id": "YwhQEA_miJIc"
      },
      "execution_count": 46,
      "outputs": []
    },
    {
      "cell_type": "code",
      "source": [
        "len(interpreter.get_tensor(8)[0])"
      ],
      "metadata": {
        "colab": {
          "base_uri": "https://localhost:8080/",
          "height": 177
        },
        "id": "zPaZRYR7iRjf",
        "outputId": "d174ede9-d07a-4b95-f5a2-f5a8b091e89f"
      },
      "execution_count": 50,
      "outputs": [
        {
          "output_type": "error",
          "ename": "TypeError",
          "evalue": "ignored",
          "traceback": [
            "\u001b[0;31m---------------------------------------------------------------------------\u001b[0m",
            "\u001b[0;31mTypeError\u001b[0m                                 Traceback (most recent call last)",
            "\u001b[0;32m<ipython-input-50-4854d2ff0693>\u001b[0m in \u001b[0;36m<cell line: 1>\u001b[0;34m()\u001b[0m\n\u001b[0;32m----> 1\u001b[0;31m \u001b[0mlen\u001b[0m\u001b[0;34m(\u001b[0m\u001b[0minterpreter\u001b[0m\u001b[0;34m.\u001b[0m\u001b[0mget_tensor\u001b[0m\u001b[0;34m(\u001b[0m\u001b[0;36m4\u001b[0m\u001b[0;34m)\u001b[0m\u001b[0;34m[\u001b[0m\u001b[0;36m0\u001b[0m\u001b[0;34m]\u001b[0m\u001b[0;34m)\u001b[0m\u001b[0;34m\u001b[0m\u001b[0;34m\u001b[0m\u001b[0m\n\u001b[0m",
            "\u001b[0;31mTypeError\u001b[0m: object of type 'numpy.float64' has no len()"
          ]
        }
      ]
    },
    {
      "cell_type": "code",
      "source": [
        "interpreter.get_tensor(8)[0]"
      ],
      "metadata": {
        "colab": {
          "base_uri": "https://localhost:8080/",
          "height": 299
        },
        "id": "GgsQKKM8D8Zq",
        "outputId": "c96ca2fb-ace7-496f-b57c-11a6eb9aa84f"
      },
      "execution_count": 48,
      "outputs": [
        {
          "output_type": "error",
          "ename": "ValueError",
          "evalue": "ignored",
          "traceback": [
            "\u001b[0;31m---------------------------------------------------------------------------\u001b[0m",
            "\u001b[0;31mValueError\u001b[0m                                Traceback (most recent call last)",
            "\u001b[0;32m<ipython-input-48-b4a625e7fe49>\u001b[0m in \u001b[0;36m<cell line: 1>\u001b[0;34m()\u001b[0m\n\u001b[0;32m----> 1\u001b[0;31m \u001b[0minterpreter\u001b[0m\u001b[0;34m.\u001b[0m\u001b[0mget_tensor\u001b[0m\u001b[0;34m(\u001b[0m\u001b[0;36m8\u001b[0m\u001b[0;34m)\u001b[0m\u001b[0;34m[\u001b[0m\u001b[0;36m0\u001b[0m\u001b[0;34m]\u001b[0m\u001b[0;34m\u001b[0m\u001b[0;34m\u001b[0m\u001b[0m\n\u001b[0m",
            "\u001b[0;32m/usr/local/lib/python3.10/dist-packages/tensorflow/lite/python/interpreter.py\u001b[0m in \u001b[0;36mget_tensor\u001b[0;34m(self, tensor_index, subgraph_index)\u001b[0m\n\u001b[1;32m    874\u001b[0m       \u001b[0ma\u001b[0m \u001b[0mnumpy\u001b[0m \u001b[0marray\u001b[0m\u001b[0;34m.\u001b[0m\u001b[0;34m\u001b[0m\u001b[0;34m\u001b[0m\u001b[0m\n\u001b[1;32m    875\u001b[0m     \"\"\"\n\u001b[0;32m--> 876\u001b[0;31m     \u001b[0;32mreturn\u001b[0m \u001b[0mself\u001b[0m\u001b[0;34m.\u001b[0m\u001b[0m_interpreter\u001b[0m\u001b[0;34m.\u001b[0m\u001b[0mGetTensor\u001b[0m\u001b[0;34m(\u001b[0m\u001b[0mtensor_index\u001b[0m\u001b[0;34m,\u001b[0m \u001b[0msubgraph_index\u001b[0m\u001b[0;34m)\u001b[0m\u001b[0;34m\u001b[0m\u001b[0;34m\u001b[0m\u001b[0m\n\u001b[0m\u001b[1;32m    877\u001b[0m \u001b[0;34m\u001b[0m\u001b[0m\n\u001b[1;32m    878\u001b[0m   \u001b[0;32mdef\u001b[0m \u001b[0mtensor\u001b[0m\u001b[0;34m(\u001b[0m\u001b[0mself\u001b[0m\u001b[0;34m,\u001b[0m \u001b[0mtensor_index\u001b[0m\u001b[0;34m)\u001b[0m\u001b[0;34m:\u001b[0m\u001b[0;34m\u001b[0m\u001b[0;34m\u001b[0m\u001b[0m\n",
            "\u001b[0;31mValueError\u001b[0m: Invalid tensor index 8 exceeds max tensor index 5"
          ]
        }
      ]
    },
    {
      "cell_type": "code",
      "source": [
        "len(interpreter.get_tensor(8)[1])"
      ],
      "metadata": {
        "colab": {
          "base_uri": "https://localhost:8080/"
        },
        "id": "PAyszUJNiMWX",
        "outputId": "169da462-3a05-4cb7-d9de-98e17cd40e1f"
      },
      "execution_count": 42,
      "outputs": [
        {
          "output_type": "execute_result",
          "data": {
            "text/plain": [
              "600"
            ]
          },
          "metadata": {},
          "execution_count": 42
        }
      ]
    },
    {
      "cell_type": "code",
      "source": [
        "interpreter.get_tensor(8)[1]"
      ],
      "metadata": {
        "id": "IAVy1p1Tiagt",
        "colab": {
          "base_uri": "https://localhost:8080/"
        },
        "outputId": "58affabb-dca4-438f-c65a-6baced228f55"
      },
      "execution_count": 43,
      "outputs": [
        {
          "output_type": "execute_result",
          "data": {
            "text/plain": [
              "array([5.1580887e+01, 7.0155859e-02, 2.0324257e+01, 7.1548828e+01,\n",
              "       9.3718319e+00, 2.0837578e+01, 7.7625847e+01, 2.6619497e+01,\n",
              "       2.4383490e+01, 2.3807953e+01, 6.4083138e+01, 3.8759850e+01,\n",
              "       1.6617605e+01, 4.8839924e+01, 4.9775478e+01, 5.3193783e+01,\n",
              "       5.9060097e+00, 2.7454019e-01, 6.9359350e+00, 5.2562275e+01,\n",
              "       5.0030506e+01, 5.2233994e+01, 4.2054676e+01, 1.0192963e+01,\n",
              "       3.5740124e+01, 1.5728034e+01, 6.9559547e+01, 2.8398800e+00,\n",
              "       6.4610191e+01, 8.8572754e+01, 5.9209549e+01, 1.5423818e+01,\n",
              "       4.8071022e+01, 3.5177773e+01, 1.1406609e+01, 8.4936806e+01,\n",
              "       5.0323822e+01, 5.6566414e+01, 7.4494690e+01, 5.6069153e+01,\n",
              "       7.3945969e+01, 8.2011652e+00, 3.4843697e+01, 3.8959816e+01,\n",
              "       7.2708992e+01, 4.7373764e+01, 2.1024603e+01, 3.2308334e+01,\n",
              "       7.2814035e+00, 3.8282665e+01, 4.7903053e+01, 6.7908852e+01,\n",
              "       1.0067286e+01, 9.0857792e+00, 2.9756491e+01, 5.0379524e+01,\n",
              "       4.3245354e+01, 3.8430252e+01, 8.6714195e+01, 4.0041679e+01,\n",
              "       3.8796276e+01, 8.5265663e+01, 7.3686226e+01, 4.5963192e+01,\n",
              "       4.3699913e+01, 4.3874962e+01, 1.5871736e+01, 2.9074717e+01,\n",
              "       6.6782913e+01, 2.0649555e+01, 3.1291241e+01, 1.1920702e+01,\n",
              "       8.4780464e+01, 6.8757851e+01, 6.8149063e+01, 8.0159103e+01,\n",
              "       6.2394253e+01, 2.8577778e+01, 2.0732296e+01, 7.0611835e+00,\n",
              "       6.0471907e+00, 4.7697906e+01, 6.8253532e+01, 5.9340658e+00,\n",
              "       5.9219002e+01, 9.9809179e+00, 7.2877975e+01, 3.5124493e+00,\n",
              "       1.6810745e+01, 7.5377586e+01, 3.1407820e+01, 3.7978825e+01,\n",
              "       4.6526489e+01, 4.9798492e+01, 3.0337564e+01, 4.9861355e+01,\n",
              "       7.2197029e+01, 8.7669495e+01, 8.4108299e+01, 6.9284782e+00,\n",
              "       1.0317063e+01, 7.7513634e+01, 5.4932928e+00, 7.4715614e-01,\n",
              "       3.5598438e+01, 5.7510433e+01, 1.1809734e+01, 4.3369377e+01,\n",
              "       5.8917084e+00, 8.2742676e+01, 7.9034798e+01, 4.2602501e+01,\n",
              "       8.5182238e+00, 3.7889324e+01, 4.0872425e+01, 6.5041412e+01,\n",
              "       6.5172157e+01, 4.6615871e+01, 8.6926361e+01, 2.6620924e+01,\n",
              "       5.0914261e+01, 5.4559982e+01, 8.5342003e+01, 8.5436035e+01,\n",
              "       2.9427492e+01, 3.7387356e+01, 3.1966888e+01, 2.7720308e+01,\n",
              "       7.0340126e+01, 6.0415150e+01, 4.8206013e+01, 7.7058182e+01,\n",
              "       1.7234406e+01, 3.4027813e+01, 7.6596687e+01, 5.1590565e+01,\n",
              "       8.0717865e+01, 3.4259308e+01, 2.7871166e+01, 8.8588196e+01,\n",
              "       1.5455479e+01, 7.2383614e+01, 1.0747826e+00, 1.7749636e+01,\n",
              "       5.4304604e+01, 2.9659374e+01, 7.0541939e+01, 4.5279369e+01,\n",
              "       2.6694759e+01, 7.6700554e+01, 5.2102566e+01, 1.6156994e+01,\n",
              "       6.1697922e+01, 2.2839289e+01, 8.8353104e+01, 1.9745424e+01,\n",
              "       7.0183464e+01, 4.2661381e+01, 4.3207897e+01, 6.5000313e+01,\n",
              "       2.8959263e+01, 4.9618141e+01, 5.7355511e+01, 3.4765495e+01,\n",
              "       6.1414753e+01, 5.2858433e+01, 3.1539034e+01, 4.0740311e+01,\n",
              "       5.8121086e+01, 2.3159941e+01, 7.5623808e+00, 4.5555580e+01,\n",
              "       2.6955482e+01, 6.3339657e+01, 5.0053129e+00, 2.2896023e+01,\n",
              "       5.4281719e+01, 2.6883127e+01, 2.7483469e+01, 4.1751148e+01,\n",
              "       7.8966339e+01, 4.1053078e+01, 2.1079931e+01, 6.4225670e+01,\n",
              "       3.4914958e+00, 5.6541084e+01, 1.4184004e+01, 2.4430374e+01,\n",
              "       9.1028490e+00, 6.1502300e+01, 4.3180485e+01, 2.6294586e+01,\n",
              "       5.7880354e+00, 5.3205156e+00, 7.1673965e+01, 1.3205341e+01,\n",
              "       4.9292156e+01, 2.2661383e+01, 5.1531639e+01, 8.3249474e+01,\n",
              "       4.2837120e+01, 4.0272640e+01, 4.4897280e+00, 3.3569454e+01,\n",
              "       1.4357511e+01, 5.1211414e+00, 8.8990494e+01, 1.3571012e+00,\n",
              "       3.2456917e+01, 6.1074383e+01, 8.9426888e+01, 8.2305847e+01,\n",
              "       5.9951996e+01, 2.0451210e+01, 1.5623063e+01, 2.3677973e+01,\n",
              "       2.8664028e+01, 3.2715096e+01, 5.0664299e+01, 2.0787871e+00,\n",
              "       7.6508560e+01, 1.7539608e+00, 6.1748165e+01, 8.0897888e+01,\n",
              "       6.3241199e+01, 1.3741858e+01, 2.8754601e+01, 7.1059410e+01,\n",
              "       4.6135817e+00, 7.2526695e+01, 2.6519558e+01, 5.4361122e+01,\n",
              "       8.7663879e+01, 8.8561249e+01, 8.1082542e+01, 7.6210831e+01,\n",
              "       1.5170574e+00, 3.1094098e+00, 1.6303110e+00, 7.6515022e+01,\n",
              "       8.3214592e+01, 5.3975916e+00, 3.7589882e+01, 8.8433105e+01,\n",
              "       3.1985085e+01, 6.8755426e+00, 8.3993576e+01, 3.7277061e+01,\n",
              "       1.5774071e+01, 3.9359057e+00, 4.4024952e+01, 9.4829712e+00,\n",
              "       2.3326635e+01, 4.3182426e+01, 7.7914200e+01, 3.9148323e+01,\n",
              "       5.3604431e+01, 6.1818459e+01, 1.9029072e+01, 6.2151138e+01,\n",
              "       6.6584023e+01, 7.9257378e+01, 8.6158035e+01, 4.6038013e+01,\n",
              "       1.0998344e+01, 8.5968094e+01, 8.4162079e+01, 7.1587891e+01,\n",
              "       7.4221802e+01, 4.2520889e+01, 8.0122742e+01, 2.8552147e+01,\n",
              "       3.0808861e+01, 7.5500351e+01, 6.4396332e+01, 6.6177948e+01,\n",
              "       3.7969994e+01, 6.3394825e+01, 2.2052586e+00, 7.5457909e+01,\n",
              "       3.5900875e+01, 3.9540535e+01, 1.6975508e+01, 4.2479691e+01,\n",
              "       4.7699879e+01, 2.0425280e+01, 4.8136318e+01, 5.6152473e+01,\n",
              "       6.1863510e+01, 1.4141121e+01, 5.7671785e+00, 8.9090652e+01,\n",
              "       2.8552940e+01, 6.6540588e+01, 7.8947044e+01, 7.0814705e+01,\n",
              "       8.8857937e+00, 4.7432098e+01, 8.3496918e+01, 5.8853321e+01,\n",
              "       7.0858971e+01, 7.8062538e+01, 2.5500083e+00, 7.1543488e+01,\n",
              "       1.5519036e+01, 6.8154961e+01, 5.4503162e+01, 3.7018356e+01,\n",
              "       1.2914579e+01, 1.5229111e+01, 7.2423431e+01, 5.7737660e+00,\n",
              "       7.6186798e+01, 7.9434319e+01, 1.0328318e+01, 5.2415997e+01,\n",
              "       5.4768764e+01, 8.9224510e+01, 4.8071697e+01, 4.2994225e+01,\n",
              "       1.2469086e+01, 6.5299454e+01, 7.7074562e+01, 6.6241142e+01,\n",
              "       8.8755531e+01, 2.7598213e+01, 7.0745399e+01, 8.4594040e+01,\n",
              "       8.2157993e+00, 2.4509317e+01, 2.6624434e+01, 4.2651596e+01,\n",
              "       2.6666822e+01, 8.7116882e+01, 4.0847855e+01, 4.9052689e+01,\n",
              "       1.2772336e+01, 1.4170668e+01, 6.9338173e+01, 8.7572807e+01,\n",
              "       8.5635124e+01, 4.3651577e+01, 6.7090225e+01, 7.1004295e+01,\n",
              "       8.0176743e+01, 8.4465630e+01, 2.0769867e+01, 8.5004997e+01,\n",
              "       7.2780655e+01, 8.3881493e+01, 1.6179310e+01, 1.4250490e+01,\n",
              "       7.0413254e+01, 4.7243023e+01, 9.9974194e+00, 2.3954594e+00,\n",
              "       3.5448471e+01, 1.2953117e+01, 9.4508924e+00, 3.4083581e+00,\n",
              "       7.9133461e+01, 4.5518513e+01, 2.4371044e+01, 7.2054131e+01,\n",
              "       5.7358459e+01, 1.1962566e+01, 2.5374877e+00, 2.2928102e+01,\n",
              "       3.6418091e+01, 7.8272072e+01, 6.3344498e+01, 8.4220894e+01,\n",
              "       7.2574234e+01, 3.8095009e+01, 8.9457035e-01, 5.6022957e+01,\n",
              "       2.2550072e+01, 3.3001278e+01, 3.7336887e+01, 5.7082653e+01,\n",
              "       6.6983955e+01, 5.9631279e+01, 8.4652939e+01, 2.0008743e+00,\n",
              "       5.1358692e+01, 1.8744865e+01, 1.2770769e+01, 2.6392937e-03,\n",
              "       6.3538313e+00, 7.3114891e+01, 8.9284111e+01, 5.3664555e+01,\n",
              "       7.2873169e+01, 3.4969032e+01, 5.5000519e+01, 6.9886208e+01,\n",
              "       5.8528355e+01, 3.8025173e+01, 8.9106277e+01, 7.1202459e+00,\n",
              "       1.1829829e+00, 6.0361000e+01, 4.4200947e+01, 2.5182455e+01,\n",
              "       7.5394157e+01, 2.0285021e+01, 4.2196285e+01, 4.8523907e+01,\n",
              "       4.8861652e+01, 6.1439526e+01, 3.5738140e+01, 3.8577461e+01,\n",
              "       3.2567039e+01, 5.2048954e+01, 3.5816803e+01, 7.5431228e+00,\n",
              "       7.7418533e+01, 7.9438438e+01, 7.7549500e+01, 3.3034847e+01,\n",
              "       4.3471859e+01, 1.3187349e+01, 6.3395416e+01, 7.3946411e+01,\n",
              "       5.9397335e+01, 5.3041046e+01, 6.6090347e+01, 4.3265629e+01,\n",
              "       7.2427605e+01, 3.6739044e+01, 7.2806686e+01, 8.2166359e+01,\n",
              "       7.3609642e+01, 2.0426878e+01, 6.0234680e+01, 5.0498344e+01,\n",
              "       6.0986309e+01, 8.2925041e+01, 5.0889080e+01, 4.1472637e+01,\n",
              "       4.4711533e+01, 8.7935905e+00, 1.8290337e+01, 1.0885305e+01,\n",
              "       8.6737381e+01, 4.8225517e+01, 5.5944988e+01, 2.9303938e+01,\n",
              "       8.5047882e+01, 8.3547310e+01, 1.3769120e+01, 8.7738220e+01,\n",
              "       4.3997101e+01, 4.3264385e+01, 1.2248447e+01, 3.5458803e-01,\n",
              "       4.7912621e+00, 6.1595020e+01, 5.9289360e+01, 8.8915604e+01,\n",
              "       7.4510643e+01, 6.2409359e+01, 1.8668539e+01, 6.6687225e+01,\n",
              "       2.2706047e+01, 4.4978916e+01, 7.6567970e+01, 5.8860828e+01,\n",
              "       1.9478170e+01, 5.7348309e+00, 4.7977722e+01, 7.4967819e+01,\n",
              "       4.0074135e+01, 1.1092276e+01, 7.3630402e+01, 6.1208694e+01,\n",
              "       5.2497246e+01, 4.3617973e+00, 8.9067909e+01, 8.1152199e+01,\n",
              "       6.3990459e+01, 5.5902901e+01, 4.8864582e+01, 1.6867447e+01,\n",
              "       3.6835945e+01, 4.1578468e+01, 2.5541517e+01, 3.0009703e+01,\n",
              "       4.9528599e-01, 4.0702705e+01, 3.2205830e+01, 7.5488380e+01,\n",
              "       3.7598637e+01, 7.2163513e+01, 8.8568825e+01, 1.1067760e+00,\n",
              "       1.4984943e+01, 1.3931104e+01, 3.5411072e+01, 4.8887829e+01,\n",
              "       4.6031975e+01, 1.6805649e+00, 1.3726183e+01, 6.4658615e+01,\n",
              "       8.2636093e+01, 7.1356941e+01, 3.3770138e+01, 6.6501083e+00,\n",
              "       4.7302914e+01, 3.0550253e+01, 1.4867699e+01, 5.3117481e+01,\n",
              "       4.2044506e+01, 5.8980885e+01, 4.4842682e+01, 6.5584923e+01,\n",
              "       3.7193108e+01, 5.4022381e+01, 2.0537395e+01, 4.3496643e+01,\n",
              "       3.7520306e+01, 4.3768063e+01, 5.5505249e+01, 1.9354606e+00,\n",
              "       3.8781309e+00, 5.0055866e+01, 1.1822276e+01, 8.3603256e+01,\n",
              "       6.6884422e+01, 2.0212420e+01, 5.2537718e+00, 3.4826939e+01,\n",
              "       8.1556984e+01, 3.7359707e+01, 6.5132950e+01, 5.1868591e+01,\n",
              "       8.9927513e+01, 4.8796150e+01, 1.5553272e+01, 5.2437668e+01,\n",
              "       6.2666542e+01, 8.8969307e+00, 5.2070934e+01, 2.8426909e+00,\n",
              "       8.8023911e+01, 2.7880051e+01, 3.4357639e+01, 2.7519142e+01,\n",
              "       2.7564966e+01, 2.1333067e+01, 6.2353024e+01, 8.4144058e+01,\n",
              "       5.3453968e+01, 6.9342964e+01, 3.4707924e+01, 3.0152996e+01,\n",
              "       8.3088150e+01, 2.9764120e+01, 3.2940990e+01, 7.9537872e+01,\n",
              "       7.8257324e+01, 2.1081852e+01, 5.1349712e+01, 9.4981203e+00,\n",
              "       6.8313759e+01, 7.5227768e+01, 7.6474213e+01, 4.2407375e+01,\n",
              "       8.9776260e+01, 7.0240234e+01, 3.0129189e+01, 5.3055340e+01,\n",
              "       4.4962212e+01, 2.0822622e+01, 6.6150932e+01, 5.1172321e+01,\n",
              "       6.0443268e+01, 9.4396591e+00, 5.9086617e+01, 6.9669716e+01,\n",
              "       1.8924927e+01, 6.8382278e+01, 4.1974445e+01, 4.4235935e+01,\n",
              "       5.7604763e+01, 2.8656796e+01, 7.9725937e+01, 3.9968895e+01,\n",
              "       3.7577856e+00, 1.5694088e+01, 4.2797112e+00, 8.9069855e+01,\n",
              "       7.7760445e+01, 4.7268013e+01, 5.0136936e+01, 3.0289780e+01,\n",
              "       6.5476067e+01, 7.1631607e+01, 7.5644356e+01, 3.2928654e+01],\n",
              "      dtype=float32)"
            ]
          },
          "metadata": {},
          "execution_count": 43
        }
      ]
    }
  ]
}